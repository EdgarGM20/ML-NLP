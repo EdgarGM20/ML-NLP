{
  "cells": [
    {
      "cell_type": "markdown",
      "metadata": {
        "id": "view-in-github",
        "colab_type": "text"
      },
      "source": [
        "<a href=\"https://colab.research.google.com/github/EdgarGM20/ML-NLP/blob/main/S1TC1_arboles_ensamblajes.ipynb\" target=\"_parent\"><img src=\"https://colab.research.google.com/assets/colab-badge.svg\" alt=\"Open In Colab\"/></a>"
      ]
    },
    {
      "cell_type": "markdown",
      "metadata": {
        "id": "BjFzBthNJIAr"
      },
      "source": [
        "![image info](https://raw.githubusercontent.com/albahnsen/MIAD_ML_and_NLP/main/images/banner_1.png)"
      ]
    },
    {
      "cell_type": "markdown",
      "metadata": {
        "id": "0_Qc1XOEJIAv"
      },
      "source": [
        "# Taller: Construcción e implementación de árboles de decisión y métodos de ensamblaje\n",
        "\n",
        "En este taller podrá poner en práctica los sus conocimientos sobre construcción e implementación de árboles de decisión y métodos de ensamblajes. El taller está constituido por 9 puntos, 5 relacionados con árboles de decisión (parte A) y 4 con métodos de ensamblaje (parte B)."
      ]
    },
    {
      "cell_type": "markdown",
      "metadata": {
        "id": "PK2OfxGxJIAx"
      },
      "source": [
        "## Parte A - Árboles de decisión\n",
        "\n",
        "En esta parte del taller se usará el conjunto de datos de Capital Bikeshare de Kaggle, donde cada observación representa el alquiler de una bicicleta durante una hora y día determinado. Para más detalles puede visitar los siguientes enlaces: [datos](https://github.com/justmarkham/DAT8/blob/master/data/bikeshare.csv), [dicccionario de datos](https://www.kaggle.com/c/bike-sharing-demand/data)."
      ]
    },
    {
      "cell_type": "markdown",
      "source": [
        "**Preview**\n",
        "\n",
        "You are provided hourly rental data spanning two years. For this competition, the training set is comprised of the first 19 days of each month, while the test set is the 20th to the end of the month. You must predict the total count of bikes rented during each hour covered by the test set, using only information available prior to the rental period.\n",
        "\n",
        "**Data Fields**\n",
        "\n",
        "datetime - hourly date + timestamp\n",
        "\n",
        "season -  1 = spring, 2 = summer, 3 = fall, 4 = winter \n",
        "\n",
        "holiday - whether the day is considered a holiday\n",
        "\n",
        "workingday - whether the day is neither a weekend nor holiday\n",
        "\n",
        "weather - 1: Clear, Few clouds, Partly cloudy, Partly cloudy\n",
        "2: Mist + Cloudy, Mist + Broken clouds, Mist + Few clouds, Mist\n",
        "3: Light Snow, Light Rain + Thunderstorm + Scattered clouds, Light Rain + Scattered clouds\n",
        "4: Heavy Rain + Ice Pallets + Thunderstorm + Mist, Snow + Fog \n",
        "\n",
        "temp - temperature in Celsius\n",
        "\n",
        "atemp - \"feels like\" temperature in Celsius\n",
        "\n",
        "humidity - relative humidity\n",
        "\n",
        "windspeed - wind speed\n",
        "\n",
        "casual - number of non-registered user rentals initiated\n",
        "\n",
        "registered - number of registered user rentals initiated\n",
        "count - number of total rentals\n"
      ],
      "metadata": {
        "id": "6EzwD2YfQ_wT"
      }
    },
    {
      "cell_type": "markdown",
      "metadata": {
        "id": "5t5OVKkWJIAz"
      },
      "source": [
        "### Datos prestamo de bicicletas"
      ]
    },
    {
      "cell_type": "code",
      "execution_count": 1,
      "metadata": {
        "id": "bUM116yvJIA0"
      },
      "outputs": [],
      "source": [
        "import warnings\n",
        "warnings.filterwarnings('ignore')"
      ]
    },
    {
      "cell_type": "code",
      "execution_count": 2,
      "metadata": {
        "id": "av46kxEgJIA3"
      },
      "outputs": [],
      "source": [
        "# Importación de librerías\n",
        "%matplotlib inline\n",
        "import pandas as pd\n",
        "import numpy as np\n",
        "from sklearn.model_selection import cross_val_score\n",
        "from sklearn.linear_model import LinearRegression\n",
        "from sklearn.tree import DecisionTreeRegressor, export_graphviz"
      ]
    },
    {
      "cell_type": "code",
      "execution_count": 3,
      "metadata": {
        "id": "TXxS9FWlJIA5",
        "colab": {
          "base_uri": "https://localhost:8080/",
          "height": 237
        },
        "outputId": "61de8857-d492-4765-db69-00b7d2fe4864"
      },
      "outputs": [
        {
          "output_type": "execute_result",
          "data": {
            "text/plain": [
              "                     season  holiday  workingday  weather  temp   atemp  \\\n",
              "datetime                                                                  \n",
              "2011-01-01 00:00:00       1        0           0        1  9.84  14.395   \n",
              "2011-01-01 01:00:00       1        0           0        1  9.02  13.635   \n",
              "2011-01-01 02:00:00       1        0           0        1  9.02  13.635   \n",
              "2011-01-01 03:00:00       1        0           0        1  9.84  14.395   \n",
              "2011-01-01 04:00:00       1        0           0        1  9.84  14.395   \n",
              "\n",
              "                     humidity  windspeed  casual  registered  total  hour  \n",
              "datetime                                                                   \n",
              "2011-01-01 00:00:00        81        0.0       3          13     16     0  \n",
              "2011-01-01 01:00:00        80        0.0       8          32     40     1  \n",
              "2011-01-01 02:00:00        80        0.0       5          27     32     2  \n",
              "2011-01-01 03:00:00        75        0.0       3          10     13     3  \n",
              "2011-01-01 04:00:00        75        0.0       0           1      1     4  "
            ],
            "text/html": [
              "\n",
              "  <div id=\"df-e8a3b818-0e59-4415-bb3a-2246e01df04e\">\n",
              "    <div class=\"colab-df-container\">\n",
              "      <div>\n",
              "<style scoped>\n",
              "    .dataframe tbody tr th:only-of-type {\n",
              "        vertical-align: middle;\n",
              "    }\n",
              "\n",
              "    .dataframe tbody tr th {\n",
              "        vertical-align: top;\n",
              "    }\n",
              "\n",
              "    .dataframe thead th {\n",
              "        text-align: right;\n",
              "    }\n",
              "</style>\n",
              "<table border=\"1\" class=\"dataframe\">\n",
              "  <thead>\n",
              "    <tr style=\"text-align: right;\">\n",
              "      <th></th>\n",
              "      <th>season</th>\n",
              "      <th>holiday</th>\n",
              "      <th>workingday</th>\n",
              "      <th>weather</th>\n",
              "      <th>temp</th>\n",
              "      <th>atemp</th>\n",
              "      <th>humidity</th>\n",
              "      <th>windspeed</th>\n",
              "      <th>casual</th>\n",
              "      <th>registered</th>\n",
              "      <th>total</th>\n",
              "      <th>hour</th>\n",
              "    </tr>\n",
              "    <tr>\n",
              "      <th>datetime</th>\n",
              "      <th></th>\n",
              "      <th></th>\n",
              "      <th></th>\n",
              "      <th></th>\n",
              "      <th></th>\n",
              "      <th></th>\n",
              "      <th></th>\n",
              "      <th></th>\n",
              "      <th></th>\n",
              "      <th></th>\n",
              "      <th></th>\n",
              "      <th></th>\n",
              "    </tr>\n",
              "  </thead>\n",
              "  <tbody>\n",
              "    <tr>\n",
              "      <th>2011-01-01 00:00:00</th>\n",
              "      <td>1</td>\n",
              "      <td>0</td>\n",
              "      <td>0</td>\n",
              "      <td>1</td>\n",
              "      <td>9.84</td>\n",
              "      <td>14.395</td>\n",
              "      <td>81</td>\n",
              "      <td>0.0</td>\n",
              "      <td>3</td>\n",
              "      <td>13</td>\n",
              "      <td>16</td>\n",
              "      <td>0</td>\n",
              "    </tr>\n",
              "    <tr>\n",
              "      <th>2011-01-01 01:00:00</th>\n",
              "      <td>1</td>\n",
              "      <td>0</td>\n",
              "      <td>0</td>\n",
              "      <td>1</td>\n",
              "      <td>9.02</td>\n",
              "      <td>13.635</td>\n",
              "      <td>80</td>\n",
              "      <td>0.0</td>\n",
              "      <td>8</td>\n",
              "      <td>32</td>\n",
              "      <td>40</td>\n",
              "      <td>1</td>\n",
              "    </tr>\n",
              "    <tr>\n",
              "      <th>2011-01-01 02:00:00</th>\n",
              "      <td>1</td>\n",
              "      <td>0</td>\n",
              "      <td>0</td>\n",
              "      <td>1</td>\n",
              "      <td>9.02</td>\n",
              "      <td>13.635</td>\n",
              "      <td>80</td>\n",
              "      <td>0.0</td>\n",
              "      <td>5</td>\n",
              "      <td>27</td>\n",
              "      <td>32</td>\n",
              "      <td>2</td>\n",
              "    </tr>\n",
              "    <tr>\n",
              "      <th>2011-01-01 03:00:00</th>\n",
              "      <td>1</td>\n",
              "      <td>0</td>\n",
              "      <td>0</td>\n",
              "      <td>1</td>\n",
              "      <td>9.84</td>\n",
              "      <td>14.395</td>\n",
              "      <td>75</td>\n",
              "      <td>0.0</td>\n",
              "      <td>3</td>\n",
              "      <td>10</td>\n",
              "      <td>13</td>\n",
              "      <td>3</td>\n",
              "    </tr>\n",
              "    <tr>\n",
              "      <th>2011-01-01 04:00:00</th>\n",
              "      <td>1</td>\n",
              "      <td>0</td>\n",
              "      <td>0</td>\n",
              "      <td>1</td>\n",
              "      <td>9.84</td>\n",
              "      <td>14.395</td>\n",
              "      <td>75</td>\n",
              "      <td>0.0</td>\n",
              "      <td>0</td>\n",
              "      <td>1</td>\n",
              "      <td>1</td>\n",
              "      <td>4</td>\n",
              "    </tr>\n",
              "  </tbody>\n",
              "</table>\n",
              "</div>\n",
              "      <button class=\"colab-df-convert\" onclick=\"convertToInteractive('df-e8a3b818-0e59-4415-bb3a-2246e01df04e')\"\n",
              "              title=\"Convert this dataframe to an interactive table.\"\n",
              "              style=\"display:none;\">\n",
              "        \n",
              "  <svg xmlns=\"http://www.w3.org/2000/svg\" height=\"24px\"viewBox=\"0 0 24 24\"\n",
              "       width=\"24px\">\n",
              "    <path d=\"M0 0h24v24H0V0z\" fill=\"none\"/>\n",
              "    <path d=\"M18.56 5.44l.94 2.06.94-2.06 2.06-.94-2.06-.94-.94-2.06-.94 2.06-2.06.94zm-11 1L8.5 8.5l.94-2.06 2.06-.94-2.06-.94L8.5 2.5l-.94 2.06-2.06.94zm10 10l.94 2.06.94-2.06 2.06-.94-2.06-.94-.94-2.06-.94 2.06-2.06.94z\"/><path d=\"M17.41 7.96l-1.37-1.37c-.4-.4-.92-.59-1.43-.59-.52 0-1.04.2-1.43.59L10.3 9.45l-7.72 7.72c-.78.78-.78 2.05 0 2.83L4 21.41c.39.39.9.59 1.41.59.51 0 1.02-.2 1.41-.59l7.78-7.78 2.81-2.81c.8-.78.8-2.07 0-2.86zM5.41 20L4 18.59l7.72-7.72 1.47 1.35L5.41 20z\"/>\n",
              "  </svg>\n",
              "      </button>\n",
              "      \n",
              "  <style>\n",
              "    .colab-df-container {\n",
              "      display:flex;\n",
              "      flex-wrap:wrap;\n",
              "      gap: 12px;\n",
              "    }\n",
              "\n",
              "    .colab-df-convert {\n",
              "      background-color: #E8F0FE;\n",
              "      border: none;\n",
              "      border-radius: 50%;\n",
              "      cursor: pointer;\n",
              "      display: none;\n",
              "      fill: #1967D2;\n",
              "      height: 32px;\n",
              "      padding: 0 0 0 0;\n",
              "      width: 32px;\n",
              "    }\n",
              "\n",
              "    .colab-df-convert:hover {\n",
              "      background-color: #E2EBFA;\n",
              "      box-shadow: 0px 1px 2px rgba(60, 64, 67, 0.3), 0px 1px 3px 1px rgba(60, 64, 67, 0.15);\n",
              "      fill: #174EA6;\n",
              "    }\n",
              "\n",
              "    [theme=dark] .colab-df-convert {\n",
              "      background-color: #3B4455;\n",
              "      fill: #D2E3FC;\n",
              "    }\n",
              "\n",
              "    [theme=dark] .colab-df-convert:hover {\n",
              "      background-color: #434B5C;\n",
              "      box-shadow: 0px 1px 3px 1px rgba(0, 0, 0, 0.15);\n",
              "      filter: drop-shadow(0px 1px 2px rgba(0, 0, 0, 0.3));\n",
              "      fill: #FFFFFF;\n",
              "    }\n",
              "  </style>\n",
              "\n",
              "      <script>\n",
              "        const buttonEl =\n",
              "          document.querySelector('#df-e8a3b818-0e59-4415-bb3a-2246e01df04e button.colab-df-convert');\n",
              "        buttonEl.style.display =\n",
              "          google.colab.kernel.accessAllowed ? 'block' : 'none';\n",
              "\n",
              "        async function convertToInteractive(key) {\n",
              "          const element = document.querySelector('#df-e8a3b818-0e59-4415-bb3a-2246e01df04e');\n",
              "          const dataTable =\n",
              "            await google.colab.kernel.invokeFunction('convertToInteractive',\n",
              "                                                     [key], {});\n",
              "          if (!dataTable) return;\n",
              "\n",
              "          const docLinkHtml = 'Like what you see? Visit the ' +\n",
              "            '<a target=\"_blank\" href=https://colab.research.google.com/notebooks/data_table.ipynb>data table notebook</a>'\n",
              "            + ' to learn more about interactive tables.';\n",
              "          element.innerHTML = '';\n",
              "          dataTable['output_type'] = 'display_data';\n",
              "          await google.colab.output.renderOutput(dataTable, element);\n",
              "          const docLink = document.createElement('div');\n",
              "          docLink.innerHTML = docLinkHtml;\n",
              "          element.appendChild(docLink);\n",
              "        }\n",
              "      </script>\n",
              "    </div>\n",
              "  </div>\n",
              "  "
            ]
          },
          "metadata": {},
          "execution_count": 3
        }
      ],
      "source": [
        "# Lectura de la información de archivo .csv\n",
        "bikes = pd.read_csv('https://raw.githubusercontent.com/albahnsen/MIAD_ML_and_NLP/main/datasets/bikeshare.csv', index_col='datetime', parse_dates=True)\n",
        "# Renombrar variable \"count\" a \"total\"\n",
        "bikes.rename(columns={'count':'total'}, inplace=True)\n",
        "# Crear la hora como una variable \n",
        "bikes['hour'] = bikes.index.hour\n",
        "# Visualización\n",
        "bikes.head()"
      ]
    },
    {
      "cell_type": "markdown",
      "metadata": {
        "id": "EOlOn2YfJIA7"
      },
      "source": [
        "### Punto 1 - Análisis descriptivo\n",
        "\n",
        "Ejecute las celdas 1.1 y 1.2. A partir de los resultados realice un análisis descriptivo sobre las variables hour y workingday, escriba sus inferencias sobre los datos. Para complementar su análisis puede usar métricas como máximo, mínimo, percentiles entre otros."
      ]
    },
    {
      "cell_type": "code",
      "execution_count": 4,
      "metadata": {
        "id": "Y-x6fq3jJIA9",
        "colab": {
          "base_uri": "https://localhost:8080/"
        },
        "outputId": "639156ef-b52a-4b29-e46f-757936043553"
      },
      "outputs": [
        {
          "output_type": "execute_result",
          "data": {
            "text/plain": [
              "workingday\n",
              "0    188.506621\n",
              "1    193.011873\n",
              "Name: total, dtype: float64"
            ]
          },
          "metadata": {},
          "execution_count": 4
        }
      ],
      "source": [
        "# Celda 1.1\n",
        "bikes.groupby('workingday').total.mean()"
      ]
    },
    {
      "cell_type": "code",
      "execution_count": 5,
      "metadata": {
        "scrolled": true,
        "id": "9sMDwzrmJIBA",
        "colab": {
          "base_uri": "https://localhost:8080/"
        },
        "outputId": "c72c2203-8171-4af6-85e9-070df02b6820"
      },
      "outputs": [
        {
          "output_type": "execute_result",
          "data": {
            "text/plain": [
              "hour\n",
              "0      55.138462\n",
              "1      33.859031\n",
              "2      22.899554\n",
              "3      11.757506\n",
              "4       6.407240\n",
              "5      19.767699\n",
              "6      76.259341\n",
              "7     213.116484\n",
              "8     362.769231\n",
              "9     221.780220\n",
              "10    175.092308\n",
              "11    210.674725\n",
              "12    256.508772\n",
              "13    257.787281\n",
              "14    243.442982\n",
              "15    254.298246\n",
              "16    316.372807\n",
              "17    468.765351\n",
              "18    430.859649\n",
              "19    315.278509\n",
              "20    228.517544\n",
              "21    173.370614\n",
              "22    133.576754\n",
              "23     89.508772\n",
              "Name: total, dtype: float64"
            ]
          },
          "metadata": {},
          "execution_count": 5
        }
      ],
      "source": [
        "# Celda 1.2\n",
        "bikes.groupby('hour').total.mean()"
      ]
    },
    {
      "cell_type": "markdown",
      "source": [
        "**Conclusiones:**\n",
        "\n",
        "*   Los días festivos tienen en promedio rentan 5 bicicletas más que en los días festivos\n",
        "*   A las 8 AM y a las 5 PM son las horas pico de demanda de bicicletas en el día\n",
        "\n"
      ],
      "metadata": {
        "id": "fuFlvi3QPS4R"
      }
    },
    {
      "cell_type": "markdown",
      "metadata": {
        "id": "1OCi7fgIJIBB"
      },
      "source": [
        "### Punto 2 - Análisis de gráficos\n",
        "\n",
        "Primero ejecute la celda 2.1 y asegúrese de comprender el código y el resultado. Luego, en cada una de celdas 2.2 y 2.3 escriba un código que genere una gráfica de las rentas promedio por hora cuando la variable \"workingday\" es igual a 0 e igual a 1, respectivamente. Analice y escriba sus hallazgos."
      ]
    },
    {
      "cell_type": "code",
      "execution_count": 6,
      "metadata": {
        "id": "njsE3IKLJIBD",
        "colab": {
          "base_uri": "https://localhost:8080/",
          "height": 296
        },
        "outputId": "26085064-38b4-48fd-a3d3-cb107f101aaa"
      },
      "outputs": [
        {
          "output_type": "execute_result",
          "data": {
            "text/plain": [
              "<matplotlib.axes._subplots.AxesSubplot at 0x7fa91a25f4d0>"
            ]
          },
          "metadata": {},
          "execution_count": 6
        },
        {
          "output_type": "display_data",
          "data": {
            "text/plain": [
              "<Figure size 432x288 with 1 Axes>"
            ],
            "image/png": "[encoded data removed]"
          },
          "metadata": {
            "needs_background": "light"
          }
        }
      ],
      "source": [
        "# Celda 2.1 - rentas promedio para cada valor de la variable \"hour\"\n",
        "bikes.groupby('hour').total.mean().plot()"
      ]
    },
    {
      "cell_type": "code",
      "execution_count": 7,
      "metadata": {
        "id": "-NpnyQ3pJIBE",
        "colab": {
          "base_uri": "https://localhost:8080/",
          "height": 297
        },
        "outputId": "1cfa2f3b-b4f3-476a-f606-a5a6237d6a06"
      },
      "outputs": [
        {
          "output_type": "execute_result",
          "data": {
            "text/plain": [
              "<matplotlib.axes._subplots.AxesSubplot at 0x7fa91a11bf90>"
            ]
          },
          "metadata": {},
          "execution_count": 7
        },
        {
          "output_type": "display_data",
          "data": {
            "text/plain": [
              "<Figure size 432x288 with 1 Axes>"
            ],
            "image/png": "[encoded data removed]"
          },
          "metadata": {
            "needs_background": "light"
          }
        }
      ],
      "source": [
        "# Celda 2.2 - \"workingday\"=0 escriba su código y hallazgos \n",
        "bikes[bikes['workingday']==0].groupby('hour').total.mean().plot()"
      ]
    },
    {
      "cell_type": "code",
      "execution_count": 8,
      "metadata": {
        "id": "84_LRc1rJIBF",
        "colab": {
          "base_uri": "https://localhost:8080/",
          "height": 296
        },
        "outputId": "e5386891-6e83-4e56-d801-209970a54fc0"
      },
      "outputs": [
        {
          "output_type": "execute_result",
          "data": {
            "text/plain": [
              "<matplotlib.axes._subplots.AxesSubplot at 0x7fa91a12c150>"
            ]
          },
          "metadata": {},
          "execution_count": 8
        },
        {
          "output_type": "display_data",
          "data": {
            "text/plain": [
              "<Figure size 432x288 with 1 Axes>"
            ],
            "image/png": "[encoded data removed]"
          },
          "metadata": {
            "needs_background": "light"
          }
        }
      ],
      "source": [
        "# Celda 2.3 - \"workingday\"=1 escriba su código y hallazgos \n",
        "bikes[bikes['workingday']==1].groupby('hour').total.mean().plot()"
      ]
    },
    {
      "cell_type": "markdown",
      "source": [
        "**Conclusiones**\n",
        "* Celda 2.2 - Al discriminar por tipo de día (laboral o festivo) se observa que para en los días festivos hay un pico de rentas de bicicletas entre las 11AM y las 3PM\n",
        "* Celda 2.3 - Por otro lado, en los días laborales, hay dos picos de rentas de bicicletas que son a las 8 AM y a las 5 PM"
      ],
      "metadata": {
        "id": "9YTYSGObTQ-1"
      }
    },
    {
      "cell_type": "markdown",
      "metadata": {
        "id": "IouLBUucJIBG"
      },
      "source": [
        "### Punto 3 - Regresión lineal\n",
        "En la celda 3 ajuste un modelo de regresión lineal a todo el conjunto de datos, utilizando \"total\" como variable de respuesta y \"hour\" y \"workingday\" como las únicas variables predictoras. Luego, imprima los coeficientes e interprételos. ¿Cuáles son las limitaciones de la regresión lineal en este caso?"
      ]
    },
    {
      "cell_type": "code",
      "execution_count": 9,
      "metadata": {
        "id": "wGeOxlyVJIBH",
        "colab": {
          "base_uri": "https://localhost:8080/"
        },
        "outputId": "3019cc24-a4d6-428f-9fd7-2abcbe71aff0"
      },
      "outputs": [
        {
          "output_type": "stream",
          "name": "stdout",
          "text": [
            "ELASTIC NET penalty\n",
            "\n",
            "El parámetro de penalización es:\n",
            "3.5707859649004554\n",
            "El valor del R^2 es:\n",
            "0.16023195740833762\n",
            "Los coeficientes estimados son:\n",
            "[10.07921408  0.        ]\n",
            "MSE regresión con penalización tipo Elastic Net:\n",
            "27553.04047254037\n"
          ]
        }
      ],
      "source": [
        "# Celda 3\n",
        "from sklearn.model_selection import train_test_split\n",
        "from sklearn.linear_model import ElasticNetCV\n",
        "from sklearn.linear_model import ElasticNet\n",
        "import matplotlib.pyplot as plt\n",
        "\n",
        "data = bikes.reset_index().drop(columns=['datetime']).copy()\n",
        "XTotal = data[['hour', 'workingday']]\n",
        "yTotal = data['total']\n",
        "#XTrain, XTest, yTrain, yTest = train_test_split(XTotal, yTotal, test_size=0.33, random_state=0)\n",
        "XTrain = XTotal\n",
        "XTest = XTotal\n",
        "yTrain = yTotal\n",
        "yTest = yTotal\n",
        "\n",
        "\n",
        "# Modelo con penalización tipo ElasticNET\n",
        "n_alphas = 200\n",
        "alphasCalibrar = np.logspace(-10, 2, n_alphas)\n",
        "modeloElastic = ElasticNetCV(alphas=alphasCalibrar,cv=5, random_state=0).fit(XTrain,yTrain)\n",
        "        \n",
        "print('ELASTIC NET penalty\\n') \n",
        "print('El parámetro de penalización es:')\n",
        "print(modeloElastic.alpha_)\n",
        "print('El valor del R^2 es:')\n",
        "print(modeloElastic.score(XTrain, yTrain))\n",
        "print('Los coeficientes estimados son:')\n",
        "print(modeloElastic.coef_)\n",
        "        \n",
        "prediccionElastic=modeloElastic.predict(XTest)\n",
        "MSEElastic=np.average(np.square(prediccionElastic-yTest))\n",
        "print('MSE regresión con penalización tipo Elastic Net:')\n",
        "print(MSEElastic)"
      ]
    },
    {
      "cell_type": "markdown",
      "source": [
        "**Conclusión**\n",
        "\n",
        "Al ajustar un modelo de regresión lineal ElasticNET se observa una relación positiva con la variable hora del día en la que por cada aumento de una hora conlleva a que aumente el número de bicicletas rentadas por un factor de 10. Adicionalmente, no se observa una relación entre el tipo de día y el número de bicicletas rentadas. Sin embargo, el valor del coeficiente de determinación  r2 es de 0.16. Esto indica que la regresión lineal no es el modelo que mejor se ajusta a este conjunto de datos  "
      ],
      "metadata": {
        "id": "sh-Cb8W0e-YF"
      }
    },
    {
      "cell_type": "markdown",
      "metadata": {
        "id": "Em1rFtYPJIBI"
      },
      "source": [
        "### Punto 4 - Árbol de decisión manual\n",
        "En la celda 4 cree un árbol de decisiones para pronosticar la variable \"total\" iterando **manualmente** sobre las variables \"hour\" y  \"workingday\". El árbol debe tener al menos 6 nodos finales."
      ]
    },
    {
      "cell_type": "code",
      "execution_count": 10,
      "metadata": {
        "id": "sxR2jc6cJIBJ",
        "colab": {
          "base_uri": "https://localhost:8080/"
        },
        "outputId": "8f31d88d-fc3d-4ad2-ec44-28053ceda0c7"
      },
      "outputs": [
        {
          "output_type": "stream",
          "name": "stdout",
          "text": [
            "{'y_pred': 1, 'y_prob': 191.53903379867745, 'level': 0, 'split': [0, 8.0], 'n_samples': 10886, 'gain': 18268.811823533004, 'sl': {'y_pred': 1, 'y_prob': 55.40711902113459, 'level': 1, 'split': [0, 7.0], 'n_samples': 3594, 'gain': 7207.700659959655, 'sl': {'y_pred': 1, 'y_prob': 32.561604584527224, 'level': 2, 'split': [0, 6.0], 'n_samples': 3139, 'gain': 646.8008927589567, 'sl': {'y_pred': 1, 'y_prob': 25.15934475055845, 'level': 3, 'split': [0, 2.0], 'n_samples': 2684, 'gain': 382.8088308604629, 'sl': {'y_pred': 1, 'y_prob': 44.41383095499451, 'level': 4, 'split': [1, 1.0], 'n_samples': 909, 'gain': 1402.5704281636313, 'sl': {'y_pred': 1, 'y_prob': 82.63356164383562, 'level': 5, 'split': [0, 1.0], 'n_samples': 290, 'gain': 254.91262782401645, 'sl': {'y_pred': 1, 'y_prob': 93.21088435374149, 'level': 6, 'split': -1, 'n_samples': 145, 'gain': 0}, 'sr': {'y_pred': 1, 'y_prob': 70.93877551020408, 'level': 6, 'split': -1, 'n_samples': 145, 'gain': 0}}, 'sr': {'y_pred': 1, 'y_prob': 26.30112721417069, 'level': 5, 'split': [0, 1.0], 'n_samples': 619, 'gain': 214.845612056841, 'sl': {'y_pred': 1, 'y_prob': 36.5, 'level': 6, 'split': -1, 'n_samples': 310, 'gain': 0}, 'sr': {'y_pred': 1, 'y_prob': 15.903536977491962, 'level': 6, 'split': -1, 'n_samples': 309, 'gain': 0}}}, 'sr': {'y_pred': 1, 'y_prob': 15.260551491277434, 'level': 4, 'split': [1, 1.0], 'n_samples': 1775, 'gain': 77.36245117563396, 'sl': {'y_pred': 1, 'y_prob': 24.19097222222222, 'level': 5, 'split': [0, 3.0], 'n_samples': 574, 'gain': 576.4856617753039, 'sl': {'y_pred': 1, 'y_prob': 53.01379310344828, 'level': 6, 'split': -1, 'n_samples': 143, 'gain': 0}, 'sr': {'y_pred': 1, 'y_prob': 14.429561200923787, 'level': 6, 'split': -1, 'n_samples': 431, 'gain': 122.31785596345799}}, 'sr': {'y_pred': 1, 'y_prob': 10.960099750623442, 'level': 5, 'split': [0, 5.0], 'n_samples': 1201, 'gain': 127.78785818751976, 'sl': {'y_pred': 1, 'y_prob': 6.249720044792833, 'level': 6, 'split': -1, 'n_samples': 891, 'gain': 4.9173062251339985}, 'sr': {'y_pred': 1, 'y_prob': 24.375, 'level': 6, 'split': -1, 'n_samples': 310, 'gain': 0}}}}, 'sr': {'y_pred': 1, 'y_prob': 75.92778993435448, 'level': 3, 'split': [1, 1.0], 'n_samples': 455, 'gain': 2961.6385176407275, 'sl': {'y_pred': 1, 'y_prob': 19.727891156462587, 'level': 4, 'split': -1, 'n_samples': 145, 'gain': 0}, 'sr': {'y_pred': 1, 'y_prob': 101.92307692307692, 'level': 4, 'split': -1, 'n_samples': 310, 'gain': 0}}}, 'sr': {'y_pred': 1, 'y_prob': 212.18599562363238, 'level': 2, 'split': [1, 1.0], 'n_samples': 455, 'gain': 25730.857340927716, 'sl': {'y_pred': 1, 'y_prob': 46.63265306122449, 'level': 3, 'split': -1, 'n_samples': 145, 'gain': 0}, 'sr': {'y_pred': 1, 'y_prob': 288.83012820512823, 'level': 3, 'split': -1, 'n_samples': 310, 'gain': 0}}}, 'sr': {'y_pred': 1, 'y_prob': 258.6007677543186, 'level': 1, 'split': [0, 21.0], 'n_samples': 7292, 'gain': 7392.920792160614, 'sl': {'y_pred': 1, 'y_prob': 287.7910901113736, 'level': 2, 'split': [0, 16.0], 'n_samples': 5924, 'gain': 5136.949194485263, 'sl': {'y_pred': 1, 'y_prob': 247.66428963247395, 'level': 3, 'split': [0, 9.0], 'n_samples': 3644, 'gain': 3771.8163517855573, 'sl': {'y_pred': 1, 'y_prob': 361.18380743982493, 'level': 4, 'split': [1, 1.0], 'n_samples': 455, 'gain': 58708.43579282705, 'sl': {'y_pred': 1, 'y_prob': 110.73469387755102, 'level': 5, 'split': -1, 'n_samples': 145, 'gain': 0}, 'sr': {'y_pred': 1, 'y_prob': 476.87179487179486, 'level': 5, 'split': -1, 'n_samples': 310, 'gain': 0}}, 'sr': {'y_pred': 1, 'y_prob': 231.25164525227203, 'level': 4, 'split': [1, 1.0], 'n_samples': 3189, 'gain': 8470.55836000036, 'sl': {'y_pred': 1, 'y_prob': 325.99901671583086, 'level': 5, 'split': [0, 11.0], 'n_samples': 1015, 'gain': 8950.6596576476, 'sl': {'y_pred': 1, 'y_prob': 219.35616438356163, 'level': 6, 'split': -1, 'n_samples': 290, 'gain': 3687.924114149835}, 'sr': {'y_pred': 1, 'y_prob': 367.93672627235213, 'level': 6, 'split': -1, 'n_samples': 725, 'gain': 948.9170568371192}}, 'sr': {'y_pred': 1, 'y_prob': 186.75735294117646, 'level': 5, 'split': [0, 10.0], 'n_samples': 2174, 'gain': 1019.5627656144788, 'sl': {'y_pred': 1, 'y_prob': 240.74358974358975, 'level': 6, 'split': -1, 'n_samples': 310, 'gain': 0}, 'sr': {'y_pred': 1, 'y_prob': 177.53108252947482, 'level': 6, 'split': -1, 'n_samples': 1864, 'gain': 1047.2221981178882}}}}, 'sr': {'y_pred': 1, 'y_prob': 351.6507449605609, 'level': 3, 'split': [0, 19.0], 'n_samples': 2280, 'gain': 8546.297317700344, 'sl': {'y_pred': 1, 'y_prob': 404.7416058394161, 'level': 4, 'split': [0, 17.0], 'n_samples': 1368, 'gain': 7913.84518366761, 'sl': {'y_pred': 1, 'y_prob': 314.99344978165936, 'level': 5, 'split': [1, 1.0], 'n_samples': 456, 'gain': 2451.6410756125697, 'sl': {'y_pred': 1, 'y_prob': 362.6530612244898, 'level': 6, 'split': -1, 'n_samples': 145, 'gain': 0}, 'sr': {'y_pred': 1, 'y_prob': 290.6006389776358, 'level': 6, 'split': -1, 'n_samples': 311, 'gain': 0}}, 'sr': {'y_pred': 1, 'y_prob': 448.8293216630197, 'level': 5, 'split': [1, 1.0], 'n_samples': 912, 'gain': 16775.112943681423, 'sl': {'y_pred': 1, 'y_prob': 313.527397260274, 'level': 6, 'split': -1, 'n_samples': 290, 'gain': 1098.6732223543804}, 'sr': {'y_pred': 1, 'y_prob': 510.7067307692308, 'level': 6, 'split': -1, 'n_samples': 622, 'gain': 568.6363044219324}}}, 'sr': {'y_pred': 1, 'y_prob': 271.30415754923416, 'level': 4, 'split': [0, 20.0], 'n_samples': 912, 'gain': 3763.732516254968, 'sl': {'y_pred': 1, 'y_prob': 313.90393013100436, 'level': 5, 'split': [1, 1.0], 'n_samples': 456, 'gain': 4960.139346872049, 'sl': {'y_pred': 1, 'y_prob': 239.05442176870747, 'level': 6, 'split': -1, 'n_samples': 145, 'gain': 0}, 'sr': {'y_pred': 1, 'y_prob': 347.0543130990415, 'level': 6, 'split': -1, 'n_samples': 311, 'gain': 0}}, 'sr': {'y_pred': 1, 'y_prob': 227.52183406113537, 'level': 5, 'split': [1, 1.0], 'n_samples': 456, 'gain': 1864.0584404538968, 'sl': {'y_pred': 1, 'y_prob': 181.31292517006804, 'level': 6, 'split': -1, 'n_samples': 145, 'gain': 0}, 'sr': {'y_pred': 1, 'y_prob': 247.77316293929712, 'level': 6, 'split': -1, 'n_samples': 311, 'gain': 0}}}}}, 'sr': {'y_pred': 1, 'y_prob': 131.95985401459853, 'level': 2, 'split': [0, 23.0], 'n_samples': 1368, 'gain': 1818.4488902568337, 'sl': {'y_pred': 1, 'y_prob': 153.13894967177242, 'level': 3, 'split': [0, 22.0], 'n_samples': 912, 'gain': 791.775632887031, 'sl': {'y_pred': 1, 'y_prob': 172.61572052401746, 'level': 4, 'split': [1, 1.0], 'n_samples': 456, 'gain': 565.7975267665752, 'sl': {'y_pred': 1, 'y_prob': 146.72108843537416, 'level': 5, 'split': -1, 'n_samples': 145, 'gain': 0}, 'sr': {'y_pred': 1, 'y_prob': 183.67731629392972, 'level': 5, 'split': -1, 'n_samples': 311, 'gain': 0}}, 'sr': {'y_pred': 1, 'y_prob': 132.99563318777294, 'level': 4, 'split': [1, 1.0], 'n_samples': 456, 'gain': 97.49151329977758, 'sl': {'y_pred': 1, 'y_prob': 121.68027210884354, 'level': 5, 'split': -1, 'n_samples': 145, 'gain': 0}, 'sr': {'y_pred': 1, 'y_prob': 137.4632587859425, 'level': 5, 'split': -1, 'n_samples': 311, 'gain': 0}}}, 'sr': {'y_pred': 1, 'y_prob': 89.12008733624454, 'level': 3, 'split': [1, 1.0], 'n_samples': 456, 'gain': 1.1244518608182261, 'sl': {'y_pred': 1, 'y_prob': 89.38095238095238, 'level': 4, 'split': -1, 'n_samples': 145, 'gain': 0}, 'sr': {'y_pred': 1, 'y_prob': 88.43130990415335, 'level': 4, 'split': -1, 'n_samples': 311, 'gain': 0}}}}}\n",
            "MSE regresión con DT:\n",
            "11551.404892795543\n",
            "0\n"
          ]
        }
      ],
      "source": [
        "# Celda 4\n",
        "# Definición de la función que calcula el gini index\n",
        "def gini(y):\n",
        "    if y.shape[0] == 0:\n",
        "        return 0\n",
        "    else:\n",
        "        return 1 - (y.mean()**2 + (1 - y.mean())**2)\n",
        "\n",
        "# Definición de la función gini_imputiry para calular la ganancia de una variable predictora j dado el punto de corte k\n",
        "def gini_impurity(X_col, y, split):\n",
        "    \n",
        "    filter_l = X_col < split\n",
        "    y_l = y.loc[filter_l]\n",
        "    y_r = y.loc[~filter_l]\n",
        "    \n",
        "    n_l = y_l.shape[0]\n",
        "    n_r = y_r.shape[0]\n",
        "    \n",
        "    gini_y = gini(y)\n",
        "    gini_l = gini(y_l)\n",
        "    gini_r = gini(y_r)\n",
        "    \n",
        "    gini_impurity_ = gini_y - (n_l / (n_l + n_r) * gini_l + n_r / (n_l + n_r) * gini_r)\n",
        "    \n",
        "    return gini_impurity_\n",
        "\n",
        "# Definición de la función best_split para calcular cuál es la mejor variable y punto de cortepara hacer la bifurcación del árbol\n",
        "def best_split(X, y, num_pct=10):\n",
        "    \n",
        "    features = range(X.shape[1])\n",
        "    \n",
        "    best_split = [0, 0, 0]  # j, split, gain\n",
        "    \n",
        "    # Para todas las varibles \n",
        "    for j in features:\n",
        "        \n",
        "        splits = np.percentile(X.iloc[:, j], np.arange(0, 100, 100.0 / (num_pct+1)).tolist())\n",
        "        splits = np.unique(splits)[1:]\n",
        "        \n",
        "        # Para cada partición\n",
        "        for split in splits:\n",
        "            gain = gini_impurity(X.iloc[:, j], y, split)\n",
        "                        \n",
        "            if gain > best_split[2]:\n",
        "                best_split = [j, split, gain]\n",
        "    \n",
        "    return best_split\n",
        "\n",
        "# Obtención de la variable 'j', su punto de corte 'split' y su ganancia 'gain'\n",
        "#j, split, gain = best_split(XTotal, yTotal, 5)\n",
        "#j, split, gain\n",
        "\n",
        "# Definición de la función tree_grow para hacer un crecimiento recursivo del árbol\n",
        "def tree_grow(X, y, level=0, min_gain=0.001, max_depth=None, num_pct=10):\n",
        "    \n",
        "    # Si solo es una observación\n",
        "    if X.shape[0] == 1:\n",
        "        tree = dict(y_pred=y.iloc[:1].values[0], y_prob=0.5, level=level, split=-1, n_samples=1, gain=0)\n",
        "        return tree\n",
        "    \n",
        "    # Calcular la mejor división\n",
        "    j, split, gain = best_split(X, y, num_pct)\n",
        "    \n",
        "    # Guardar el árbol y estimar la predicción\n",
        "    y_pred = int(y.mean() >= 0.5) \n",
        "    y_prob = (y.sum() + 1.0) / (y.shape[0] + 2.0)  # Corrección Laplace \n",
        "    \n",
        "    tree = dict(y_pred=y_pred, y_prob=y_prob, level=level, split=-1, n_samples=X.shape[0], gain=gain)\n",
        "    # Revisar el criterio de parada \n",
        "    if gain < min_gain:\n",
        "        return tree\n",
        "    if max_depth is not None:\n",
        "        if level >= max_depth:\n",
        "            return tree   \n",
        "    \n",
        "    # Continuar creando la partición\n",
        "    filter_l = X.iloc[:, j] < split\n",
        "    X_l, y_l = X.loc[filter_l], y.loc[filter_l]\n",
        "    X_r, y_r = X.loc[~filter_l], y.loc[~filter_l]\n",
        "    tree['split'] = [j, split]\n",
        "\n",
        "    # Siguiente iteración para cada partición\n",
        "    \n",
        "    tree['sl'] = tree_grow(X_l, y_l, level + 1, min_gain=min_gain, max_depth=max_depth, num_pct=num_pct)\n",
        "    tree['sr'] = tree_grow(X_r, y_r, level + 1, min_gain=min_gain, max_depth=max_depth, num_pct=num_pct)\n",
        "    \n",
        "    return tree\n",
        "\n",
        "# Definición de la función tree_predict para hacer predicciones según las variables 'X' y el árbol 'tree'\n",
        "def tree_predict(X, tree, proba=False):\n",
        "    \n",
        "    predicted = np.ones(X.shape[0])\n",
        "\n",
        "    # Revisar si es el nodo final\n",
        "    if tree['split'] == -1:\n",
        "        if not proba:\n",
        "            predicted = predicted * tree['y_pred']\n",
        "        else:\n",
        "            predicted = predicted * tree['y_prob']\n",
        "            \n",
        "    else:\n",
        "        \n",
        "        j, split = tree['split']\n",
        "        filter_l = (X.iloc[:, j] < split)\n",
        "        X_l = X.loc[filter_l]\n",
        "        X_r = X.loc[~filter_l]\n",
        "\n",
        "        if X_l.shape[0] == 0:  # Si el nodo izquierdo está vacio solo continua con el derecho \n",
        "            predicted[~filter_l] = tree_predict(X_r, tree['sr'], proba)\n",
        "        elif X_r.shape[0] == 0:  #  Si el nodo derecho está vacio solo continua con el izquierdo\n",
        "            predicted[filter_l] = tree_predict(X_l, tree['sl'], proba)\n",
        "        else:\n",
        "            predicted[filter_l] = tree_predict(X_l, tree['sl'], proba)\n",
        "            predicted[~filter_l] = tree_predict(X_r, tree['sr'], proba)\n",
        "\n",
        "    return predicted\n",
        "\n",
        "# Aplicación de la función tree_grow\n",
        "tree = tree_grow(XTotal, yTotal, level=0, min_gain=0.001, max_depth=6, num_pct=10)\n",
        "print(tree)\n",
        "\n",
        "# Ejecución de función tree_predict\n",
        "y_pred = tree_predict(XTest, tree, True)\n",
        "MSEDT = np.average(np.square(y_pred - yTotal))\n",
        "print('MSE regresión con DT:')\n",
        "print(MSEDT)\n",
        "\n",
        "print(tree['level'])"
      ]
    },
    {
      "cell_type": "code",
      "source": [
        "result = pd.concat([XTest, yTotal, pd.DataFrame(y_pred, columns=['y_pred'])], axis=1)\n",
        "\n",
        "print('Rentas promedio por hora')\n",
        "result.groupby('hour').total.mean().plot()\n",
        "result.groupby('hour').y_pred.mean().plot()\n",
        "\n",
        "plt.show()\n",
        "print('Rentas promedio por hora - work = 0')\n",
        "result[result['workingday']==0].groupby('hour').total.mean().plot()\n",
        "result[result['workingday']==0].groupby('hour').y_pred.mean().plot()\n",
        "\n",
        "plt.show()\n",
        "print('Rentas promedio por hora - work = 1')\n",
        "result[result['workingday']==1].groupby('hour').total.mean().plot()\n",
        "result[result['workingday']==1].groupby('hour').y_pred.mean().plot()"
      ],
      "metadata": {
        "colab": {
          "base_uri": "https://localhost:8080/",
          "height": 873
        },
        "id": "Uybmd8hQoaan",
        "outputId": "d85a4d01-bb4b-4b5c-9dc4-f83419cf858e"
      },
      "execution_count": 11,
      "outputs": [
        {
          "output_type": "stream",
          "name": "stdout",
          "text": [
            "Rentas promedio por hora\n"
          ]
        },
        {
          "output_type": "display_data",
          "data": {
            "text/plain": [
              "<Figure size 432x288 with 1 Axes>"
            ],
            "image/png": "[encoded data removed]"
          },
          "metadata": {
            "needs_background": "light"
          }
        },
        {
          "output_type": "stream",
          "name": "stdout",
          "text": [
            "Rentas promedio por hora - work = 0\n"
          ]
        },
        {
          "output_type": "display_data",
          "data": {
            "text/plain": [
              "<Figure size 432x288 with 1 Axes>"
            ],
            "image/png": "[encoded data removed]"
          },
          "metadata": {
            "needs_background": "light"
          }
        },
        {
          "output_type": "stream",
          "name": "stdout",
          "text": [
            "Rentas promedio por hora - work = 1\n"
          ]
        },
        {
          "output_type": "execute_result",
          "data": {
            "text/plain": [
              "<matplotlib.axes._subplots.AxesSubplot at 0x7fa915295390>"
            ]
          },
          "metadata": {},
          "execution_count": 11
        },
        {
          "output_type": "display_data",
          "data": {
            "text/plain": [
              "<Figure size 432x288 with 1 Axes>"
            ],
            "image/png": "[encoded data removed]"
          },
          "metadata": {
            "needs_background": "light"
          }
        }
      ]
    },
    {
      "cell_type": "markdown",
      "metadata": {
        "id": "awfFhCNOJIBJ"
      },
      "source": [
        "### Punto 5 - Árbol de decisión con librería\n",
        "En la celda 5 entrene un árbol de decisiones con la **librería sklearn**, usando las variables predictoras \"hour\" y \"workingday\" y calibre los parámetros que considere conveniente para obtener un mejor desempeño. Comente el desempeño del modelo con alguna métrica de desempeño de modelos de regresión y compare desempeño con el modelo del punto 3."
      ]
    },
    {
      "cell_type": "code",
      "execution_count": 12,
      "metadata": {
        "id": "vnkob2IhJIBK",
        "colab": {
          "base_uri": "https://localhost:8080/",
          "height": 410
        },
        "outputId": "9fd6cbdc-a643-48cc-8f54-1056411075a6"
      },
      "outputs": [
        {
          "output_type": "stream",
          "name": "stdout",
          "text": [
            "MSE regresión con DT sklearn:\n",
            "11329.31152387664\n"
          ]
        },
        {
          "output_type": "execute_result",
          "data": {
            "text/plain": [
              "      feature  importance\n",
              "1  workingday    0.186842\n",
              "0        hour    0.813158"
            ],
            "text/html": [
              "\n",
              "  <div id=\"df-0ec4d73a-454f-4c00-bbd2-50409ce1dbc3\">\n",
              "    <div class=\"colab-df-container\">\n",
              "      <div>\n",
              "<style scoped>\n",
              "    .dataframe tbody tr th:only-of-type {\n",
              "        vertical-align: middle;\n",
              "    }\n",
              "\n",
              "    .dataframe tbody tr th {\n",
              "        vertical-align: top;\n",
              "    }\n",
              "\n",
              "    .dataframe thead th {\n",
              "        text-align: right;\n",
              "    }\n",
              "</style>\n",
              "<table border=\"1\" class=\"dataframe\">\n",
              "  <thead>\n",
              "    <tr style=\"text-align: right;\">\n",
              "      <th></th>\n",
              "      <th>feature</th>\n",
              "      <th>importance</th>\n",
              "    </tr>\n",
              "  </thead>\n",
              "  <tbody>\n",
              "    <tr>\n",
              "      <th>1</th>\n",
              "      <td>workingday</td>\n",
              "      <td>0.186842</td>\n",
              "    </tr>\n",
              "    <tr>\n",
              "      <th>0</th>\n",
              "      <td>hour</td>\n",
              "      <td>0.813158</td>\n",
              "    </tr>\n",
              "  </tbody>\n",
              "</table>\n",
              "</div>\n",
              "      <button class=\"colab-df-convert\" onclick=\"convertToInteractive('df-0ec4d73a-454f-4c00-bbd2-50409ce1dbc3')\"\n",
              "              title=\"Convert this dataframe to an interactive table.\"\n",
              "              style=\"display:none;\">\n",
              "        \n",
              "  <svg xmlns=\"http://www.w3.org/2000/svg\" height=\"24px\"viewBox=\"0 0 24 24\"\n",
              "       width=\"24px\">\n",
              "    <path d=\"M0 0h24v24H0V0z\" fill=\"none\"/>\n",
              "    <path d=\"M18.56 5.44l.94 2.06.94-2.06 2.06-.94-2.06-.94-.94-2.06-.94 2.06-2.06.94zm-11 1L8.5 8.5l.94-2.06 2.06-.94-2.06-.94L8.5 2.5l-.94 2.06-2.06.94zm10 10l.94 2.06.94-2.06 2.06-.94-2.06-.94-.94-2.06-.94 2.06-2.06.94z\"/><path d=\"M17.41 7.96l-1.37-1.37c-.4-.4-.92-.59-1.43-.59-.52 0-1.04.2-1.43.59L10.3 9.45l-7.72 7.72c-.78.78-.78 2.05 0 2.83L4 21.41c.39.39.9.59 1.41.59.51 0 1.02-.2 1.41-.59l7.78-7.78 2.81-2.81c.8-.78.8-2.07 0-2.86zM5.41 20L4 18.59l7.72-7.72 1.47 1.35L5.41 20z\"/>\n",
              "  </svg>\n",
              "      </button>\n",
              "      \n",
              "  <style>\n",
              "    .colab-df-container {\n",
              "      display:flex;\n",
              "      flex-wrap:wrap;\n",
              "      gap: 12px;\n",
              "    }\n",
              "\n",
              "    .colab-df-convert {\n",
              "      background-color: #E8F0FE;\n",
              "      border: none;\n",
              "      border-radius: 50%;\n",
              "      cursor: pointer;\n",
              "      display: none;\n",
              "      fill: #1967D2;\n",
              "      height: 32px;\n",
              "      padding: 0 0 0 0;\n",
              "      width: 32px;\n",
              "    }\n",
              "\n",
              "    .colab-df-convert:hover {\n",
              "      background-color: #E2EBFA;\n",
              "      box-shadow: 0px 1px 2px rgba(60, 64, 67, 0.3), 0px 1px 3px 1px rgba(60, 64, 67, 0.15);\n",
              "      fill: #174EA6;\n",
              "    }\n",
              "\n",
              "    [theme=dark] .colab-df-convert {\n",
              "      background-color: #3B4455;\n",
              "      fill: #D2E3FC;\n",
              "    }\n",
              "\n",
              "    [theme=dark] .colab-df-convert:hover {\n",
              "      background-color: #434B5C;\n",
              "      box-shadow: 0px 1px 3px 1px rgba(0, 0, 0, 0.15);\n",
              "      filter: drop-shadow(0px 1px 2px rgba(0, 0, 0, 0.3));\n",
              "      fill: #FFFFFF;\n",
              "    }\n",
              "  </style>\n",
              "\n",
              "      <script>\n",
              "        const buttonEl =\n",
              "          document.querySelector('#df-0ec4d73a-454f-4c00-bbd2-50409ce1dbc3 button.colab-df-convert');\n",
              "        buttonEl.style.display =\n",
              "          google.colab.kernel.accessAllowed ? 'block' : 'none';\n",
              "\n",
              "        async function convertToInteractive(key) {\n",
              "          const element = document.querySelector('#df-0ec4d73a-454f-4c00-bbd2-50409ce1dbc3');\n",
              "          const dataTable =\n",
              "            await google.colab.kernel.invokeFunction('convertToInteractive',\n",
              "                                                     [key], {});\n",
              "          if (!dataTable) return;\n",
              "\n",
              "          const docLinkHtml = 'Like what you see? Visit the ' +\n",
              "            '<a target=\"_blank\" href=https://colab.research.google.com/notebooks/data_table.ipynb>data table notebook</a>'\n",
              "            + ' to learn more about interactive tables.';\n",
              "          element.innerHTML = '';\n",
              "          dataTable['output_type'] = 'display_data';\n",
              "          await google.colab.output.renderOutput(dataTable, element);\n",
              "          const docLink = document.createElement('div');\n",
              "          docLink.innerHTML = docLinkHtml;\n",
              "          element.appendChild(docLink);\n",
              "        }\n",
              "      </script>\n",
              "    </div>\n",
              "  </div>\n",
              "  "
            ]
          },
          "metadata": {},
          "execution_count": 12
        },
        {
          "output_type": "display_data",
          "data": {
            "text/plain": [
              "<Figure size 432x288 with 1 Axes>"
            ],
            "image/png": "[encoded data removed]"
          },
          "metadata": {
            "needs_background": "light"
          }
        }
      ],
      "source": [
        "# Celda 5\n",
        "# Lista de valores para calibrar el criterio de parada de máxima profundidad (max_depth)\n",
        "max_depth_range = range(1, 21)\n",
        "\n",
        "# Lista para guardar los valores del RMSE para cada valor de máxima profundidad (max_depth)\n",
        "accuracy_scores = []\n",
        "\n",
        "# Importación de modelos de sklearn \n",
        "from sklearn.model_selection import cross_val_score\n",
        "from sklearn.tree import DecisionTreeRegressor\n",
        "\n",
        "# Loop para obtener el desempeño del modelo de acuerdo con la máxima profundidad\n",
        "for depth in max_depth_range:\n",
        "    # Definición del árbol de decisión usando DecisionTreeRegressor de la libreria sklearn\n",
        "    clf = DecisionTreeRegressor(max_depth=depth, random_state=1)\n",
        "    clf.fit(XTrain, yTrain)\n",
        "    accuracy_scores.append(np.average(np.square(clf.predict(XTest) - yTotal)))\n",
        "\n",
        "# Gráfica max_depth versus RMSE (error del modelo)\n",
        "plt.plot(max_depth_range, accuracy_scores)\n",
        "plt.xlabel('max_depth')\n",
        "plt.ylabel('MSE')\n",
        "\n",
        "# Mejor accuracy (desempeño del modelo) y su correspondiente max_depth\n",
        "sorted(zip(accuracy_scores, max_depth_range))[::-1][0]\n",
        "\n",
        "# max_depth=4 fue el mejor, se ajusta un árbol usando este valor \n",
        "clf_best = DecisionTreeRegressor(max_depth=6, random_state=1)\n",
        "clf_best.fit(XTrain, yTrain)\n",
        "\n",
        "MSEDT_sk = np.average(np.square(clf.predict(XTest) - yTotal))\n",
        "print('MSE regresión con DT sklearn:')\n",
        "print(MSEDT_sk)\n",
        "\n",
        "# Uso de la función .feature_importances_ para obtener la importancia de cada variable\n",
        "pd.DataFrame({'feature':['hour', 'workingday'], 'importance':clf_best.feature_importances_}).sort_values('importance')"
      ]
    },
    {
      "cell_type": "markdown",
      "source": [
        "**Conclusión**\n",
        "\n",
        "Al comparar el desempeño obtenido en los puntos  4 y 5 se observa que los árboles de decisión tienen un mejor modelo en comparación que la regresión lineal ya que la métrica de comparación, el MSE, pasa de 27553 a 11329. Por otro lado, gráficamente, en el punto 4,se puede observar que el comportamiento de los resultados predichos se asemenjan a los resultados reales"
      ],
      "metadata": {
        "id": "CoNTKv_x7Wzi"
      }
    },
    {
      "cell_type": "markdown",
      "metadata": {
        "id": "3TnDEVaCJIBL"
      },
      "source": [
        "## Parte B - Métodos de ensamblajes\n",
        "En esta parte del taller se usará el conjunto de datos de Popularidad de Noticias Online. El objetivo es predecir si la notica es popular o no, la populridad esta dada por la cantidad de reacciones en redes sociales. Para más detalles puede visitar el sigueinte enlace: [datos](https://archive.ics.uci.edu/ml/datasets/online+news+popularity)."
      ]
    },
    {
      "cell_type": "markdown",
      "source": [
        "**Attribute Information:**\n",
        "\n",
        "Number of Attributes: 61 (58 predictive attributes, 2 non-predictive, 1 goal field)\n",
        "\n",
        "Attribute Information:\n",
        "0. url: URL of the article (non-predictive)\n",
        "1. timedelta: Days between the article publication and the dataset acquisition (non-predictive)\n",
        "2. n_tokens_title: Number of words in the title\n",
        "3. n_tokens_content: Number of words in the content\n",
        "4. n_unique_tokens: Rate of unique words in the content\n",
        "5. n_non_stop_words: Rate of non-stop words in the content\n",
        "6. n_non_stop_unique_tokens: Rate of unique non-stop words in the content\n",
        "7. num_hrefs: Number of links\n",
        "8. num_self_hrefs: Number of links to other articles published by Mashable\n",
        "9. num_imgs: Number of images\n",
        "10. num_videos: Number of videos\n",
        "11. average_token_length: Average length of the words in the content\n",
        "12. num_keywords: Number of keywords in the metadata\n",
        "13. data_channel_is_lifestyle: Is data channel 'Lifestyle'?\n",
        "14. data_channel_is_entertainment: Is data channel 'Entertainment'?\n",
        "15. data_channel_is_bus: Is data channel 'Business'?\n",
        "16. data_channel_is_socmed: Is data channel 'Social Media'?\n",
        "17. data_channel_is_tech: Is data channel 'Tech'?\n",
        "18. data_channel_is_world: Is data channel 'World'?\n",
        "19. kw_min_min: Worst keyword (min. shares)\n",
        "20. kw_max_min: Worst keyword (max. shares)\n",
        "21. kw_avg_min: Worst keyword (avg. shares)\n",
        "22. kw_min_max: Best keyword (min. shares)\n",
        "23. kw_max_max: Best keyword (max. shares)\n",
        "24. kw_avg_max: Best keyword (avg. shares)\n",
        "25. kw_min_avg: Avg. keyword (min. shares)\n",
        "26. kw_max_avg: Avg. keyword (max. shares)\n",
        "27. kw_avg_avg: Avg. keyword (avg. shares)\n",
        "28. self_reference_min_shares: Min. shares of referenced articles in Mashable\n",
        "29. self_reference_max_shares: Max. shares of referenced articles in Mashable\n",
        "30. self_reference_avg_sharess: Avg. shares of referenced articles in Mashable\n",
        "31. weekday_is_monday: Was the article published on a Monday?\n",
        "32. weekday_is_tuesday: Was the article published on a Tuesday?\n",
        "33. weekday_is_wednesday: Was the article published on a Wednesday?\n",
        "34. weekday_is_thursday: Was the article published on a Thursday?\n",
        "35. weekday_is_friday: Was the article published on a Friday?\n",
        "36. weekday_is_saturday: Was the article published on a Saturday?\n",
        "37. weekday_is_sunday: Was the article published on a Sunday?\n",
        "38. is_weekend: Was the article published on the weekend?\n",
        "39. LDA_00: Closeness to LDA topic 0\n",
        "40. LDA_01: Closeness to LDA topic 1\n",
        "41. LDA_02: Closeness to LDA topic 2\n",
        "42. LDA_03: Closeness to LDA topic 3\n",
        "43. LDA_04: Closeness to LDA topic 4\n",
        "44. global_subjectivity: Text subjectivity\n",
        "45. global_sentiment_polarity: Text sentiment polarity\n",
        "46. global_rate_positive_words: Rate of positive words in the content\n",
        "47. global_rate_negative_words: Rate of negative words in the content\n",
        "48. rate_positive_words: Rate of positive words among non-neutral tokens\n",
        "49. rate_negative_words: Rate of negative words among non-neutral tokens\n",
        "50. avg_positive_polarity: Avg. polarity of positive words\n",
        "51. min_positive_polarity: Min. polarity of positive words\n",
        "52. max_positive_polarity: Max. polarity of positive words\n",
        "53. avg_negative_polarity: Avg. polarity of negative words\n",
        "54. min_negative_polarity: Min. polarity of negative words\n",
        "55. max_negative_polarity: Max. polarity of negative words\n",
        "56. title_subjectivity: Title subjectivity\n",
        "57. title_sentiment_polarity: Title polarity\n",
        "58. abs_title_subjectivity: Absolute subjectivity level\n",
        "59. abs_title_sentiment_polarity: Absolute polarity level\n",
        "60. shares: Number of shares (target)"
      ],
      "metadata": {
        "id": "hwksI4jc9lA0"
      }
    },
    {
      "cell_type": "markdown",
      "metadata": {
        "id": "OqnZ2pVgJIBL"
      },
      "source": [
        "### Datos popularidad de noticias"
      ]
    },
    {
      "cell_type": "code",
      "execution_count": 13,
      "metadata": {
        "id": "61I0a9y-JIBM",
        "colab": {
          "base_uri": "https://localhost:8080/",
          "height": 386
        },
        "outputId": "6952f4c8-49d0-410f-b7e8-f3f505ea143f"
      },
      "outputs": [
        {
          "output_type": "execute_result",
          "data": {
            "text/plain": [
              "                                                 url  timedelta  \\\n",
              "0  http://mashable.com/2014/12/10/cia-torture-rep...       28.0   \n",
              "1  http://mashable.com/2013/10/18/bitlock-kicksta...      447.0   \n",
              "2  http://mashable.com/2013/07/24/google-glass-po...      533.0   \n",
              "3  http://mashable.com/2013/11/21/these-are-the-m...      413.0   \n",
              "4  http://mashable.com/2014/02/11/parking-ticket-...      331.0   \n",
              "\n",
              "   n_tokens_title  n_tokens_content  n_unique_tokens  n_non_stop_words  \\\n",
              "0             9.0             188.0         0.732620               1.0   \n",
              "1             7.0             297.0         0.653199               1.0   \n",
              "2            11.0             181.0         0.660377               1.0   \n",
              "3            12.0             781.0         0.497409               1.0   \n",
              "4             8.0             177.0         0.685714               1.0   \n",
              "\n",
              "   n_non_stop_unique_tokens  num_hrefs  num_self_hrefs  num_imgs  ...  \\\n",
              "0                  0.844262        5.0             1.0       1.0  ...   \n",
              "1                  0.815789        9.0             4.0       1.0  ...   \n",
              "2                  0.775701        4.0             3.0       1.0  ...   \n",
              "3                  0.677350       10.0             3.0       1.0  ...   \n",
              "4                  0.830357        3.0             2.0       1.0  ...   \n",
              "\n",
              "   min_positive_polarity  max_positive_polarity  avg_negative_polarity  \\\n",
              "0               0.200000                   0.80              -0.487500   \n",
              "1               0.160000                   0.50              -0.135340   \n",
              "2               0.136364                   1.00               0.000000   \n",
              "3               0.100000                   1.00              -0.195701   \n",
              "4               0.100000                   0.55              -0.175000   \n",
              "\n",
              "   min_negative_polarity  max_negative_polarity  title_subjectivity  \\\n",
              "0                  -0.60              -0.250000                 0.9   \n",
              "1                  -0.40              -0.050000                 0.1   \n",
              "2                   0.00               0.000000                 0.3   \n",
              "3                  -0.40              -0.071429                 0.0   \n",
              "4                  -0.25              -0.100000                 0.0   \n",
              "\n",
              "   title_sentiment_polarity  abs_title_subjectivity  \\\n",
              "0                       0.8                     0.4   \n",
              "1                      -0.1                     0.4   \n",
              "2                       1.0                     0.2   \n",
              "3                       0.0                     0.5   \n",
              "4                       0.0                     0.5   \n",
              "\n",
              "   abs_title_sentiment_polarity  Popular  \n",
              "0                           0.8        1  \n",
              "1                           0.1        0  \n",
              "2                           1.0        0  \n",
              "3                           0.0        0  \n",
              "4                           0.0        0  \n",
              "\n",
              "[5 rows x 61 columns]"
            ],
            "text/html": [
              "\n",
              "  <div id=\"df-1dca022e-6278-4423-b5db-2bb9d5372e95\">\n",
              "    <div class=\"colab-df-container\">\n",
              "      <div>\n",
              "<style scoped>\n",
              "    .dataframe tbody tr th:only-of-type {\n",
              "        vertical-align: middle;\n",
              "    }\n",
              "\n",
              "    .dataframe tbody tr th {\n",
              "        vertical-align: top;\n",
              "    }\n",
              "\n",
              "    .dataframe thead th {\n",
              "        text-align: right;\n",
              "    }\n",
              "</style>\n",
              "<table border=\"1\" class=\"dataframe\">\n",
              "  <thead>\n",
              "    <tr style=\"text-align: right;\">\n",
              "      <th></th>\n",
              "      <th>url</th>\n",
              "      <th>timedelta</th>\n",
              "      <th>n_tokens_title</th>\n",
              "      <th>n_tokens_content</th>\n",
              "      <th>n_unique_tokens</th>\n",
              "      <th>n_non_stop_words</th>\n",
              "      <th>n_non_stop_unique_tokens</th>\n",
              "      <th>num_hrefs</th>\n",
              "      <th>num_self_hrefs</th>\n",
              "      <th>num_imgs</th>\n",
              "      <th>...</th>\n",
              "      <th>min_positive_polarity</th>\n",
              "      <th>max_positive_polarity</th>\n",
              "      <th>avg_negative_polarity</th>\n",
              "      <th>min_negative_polarity</th>\n",
              "      <th>max_negative_polarity</th>\n",
              "      <th>title_subjectivity</th>\n",
              "      <th>title_sentiment_polarity</th>\n",
              "      <th>abs_title_subjectivity</th>\n",
              "      <th>abs_title_sentiment_polarity</th>\n",
              "      <th>Popular</th>\n",
              "    </tr>\n",
              "  </thead>\n",
              "  <tbody>\n",
              "    <tr>\n",
              "      <th>0</th>\n",
              "      <td>http://mashable.com/2014/12/10/cia-torture-rep...</td>\n",
              "      <td>28.0</td>\n",
              "      <td>9.0</td>\n",
              "      <td>188.0</td>\n",
              "      <td>0.732620</td>\n",
              "      <td>1.0</td>\n",
              "      <td>0.844262</td>\n",
              "      <td>5.0</td>\n",
              "      <td>1.0</td>\n",
              "      <td>1.0</td>\n",
              "      <td>...</td>\n",
              "      <td>0.200000</td>\n",
              "      <td>0.80</td>\n",
              "      <td>-0.487500</td>\n",
              "      <td>-0.60</td>\n",
              "      <td>-0.250000</td>\n",
              "      <td>0.9</td>\n",
              "      <td>0.8</td>\n",
              "      <td>0.4</td>\n",
              "      <td>0.8</td>\n",
              "      <td>1</td>\n",
              "    </tr>\n",
              "    <tr>\n",
              "      <th>1</th>\n",
              "      <td>http://mashable.com/2013/10/18/bitlock-kicksta...</td>\n",
              "      <td>447.0</td>\n",
              "      <td>7.0</td>\n",
              "      <td>297.0</td>\n",
              "      <td>0.653199</td>\n",
              "      <td>1.0</td>\n",
              "      <td>0.815789</td>\n",
              "      <td>9.0</td>\n",
              "      <td>4.0</td>\n",
              "      <td>1.0</td>\n",
              "      <td>...</td>\n",
              "      <td>0.160000</td>\n",
              "      <td>0.50</td>\n",
              "      <td>-0.135340</td>\n",
              "      <td>-0.40</td>\n",
              "      <td>-0.050000</td>\n",
              "      <td>0.1</td>\n",
              "      <td>-0.1</td>\n",
              "      <td>0.4</td>\n",
              "      <td>0.1</td>\n",
              "      <td>0</td>\n",
              "    </tr>\n",
              "    <tr>\n",
              "      <th>2</th>\n",
              "      <td>http://mashable.com/2013/07/24/google-glass-po...</td>\n",
              "      <td>533.0</td>\n",
              "      <td>11.0</td>\n",
              "      <td>181.0</td>\n",
              "      <td>0.660377</td>\n",
              "      <td>1.0</td>\n",
              "      <td>0.775701</td>\n",
              "      <td>4.0</td>\n",
              "      <td>3.0</td>\n",
              "      <td>1.0</td>\n",
              "      <td>...</td>\n",
              "      <td>0.136364</td>\n",
              "      <td>1.00</td>\n",
              "      <td>0.000000</td>\n",
              "      <td>0.00</td>\n",
              "      <td>0.000000</td>\n",
              "      <td>0.3</td>\n",
              "      <td>1.0</td>\n",
              "      <td>0.2</td>\n",
              "      <td>1.0</td>\n",
              "      <td>0</td>\n",
              "    </tr>\n",
              "    <tr>\n",
              "      <th>3</th>\n",
              "      <td>http://mashable.com/2013/11/21/these-are-the-m...</td>\n",
              "      <td>413.0</td>\n",
              "      <td>12.0</td>\n",
              "      <td>781.0</td>\n",
              "      <td>0.497409</td>\n",
              "      <td>1.0</td>\n",
              "      <td>0.677350</td>\n",
              "      <td>10.0</td>\n",
              "      <td>3.0</td>\n",
              "      <td>1.0</td>\n",
              "      <td>...</td>\n",
              "      <td>0.100000</td>\n",
              "      <td>1.00</td>\n",
              "      <td>-0.195701</td>\n",
              "      <td>-0.40</td>\n",
              "      <td>-0.071429</td>\n",
              "      <td>0.0</td>\n",
              "      <td>0.0</td>\n",
              "      <td>0.5</td>\n",
              "      <td>0.0</td>\n",
              "      <td>0</td>\n",
              "    </tr>\n",
              "    <tr>\n",
              "      <th>4</th>\n",
              "      <td>http://mashable.com/2014/02/11/parking-ticket-...</td>\n",
              "      <td>331.0</td>\n",
              "      <td>8.0</td>\n",
              "      <td>177.0</td>\n",
              "      <td>0.685714</td>\n",
              "      <td>1.0</td>\n",
              "      <td>0.830357</td>\n",
              "      <td>3.0</td>\n",
              "      <td>2.0</td>\n",
              "      <td>1.0</td>\n",
              "      <td>...</td>\n",
              "      <td>0.100000</td>\n",
              "      <td>0.55</td>\n",
              "      <td>-0.175000</td>\n",
              "      <td>-0.25</td>\n",
              "      <td>-0.100000</td>\n",
              "      <td>0.0</td>\n",
              "      <td>0.0</td>\n",
              "      <td>0.5</td>\n",
              "      <td>0.0</td>\n",
              "      <td>0</td>\n",
              "    </tr>\n",
              "  </tbody>\n",
              "</table>\n",
              "<p>5 rows × 61 columns</p>\n",
              "</div>\n",
              "      <button class=\"colab-df-convert\" onclick=\"convertToInteractive('df-1dca022e-6278-4423-b5db-2bb9d5372e95')\"\n",
              "              title=\"Convert this dataframe to an interactive table.\"\n",
              "              style=\"display:none;\">\n",
              "        \n",
              "  <svg xmlns=\"http://www.w3.org/2000/svg\" height=\"24px\"viewBox=\"0 0 24 24\"\n",
              "       width=\"24px\">\n",
              "    <path d=\"M0 0h24v24H0V0z\" fill=\"none\"/>\n",
              "    <path d=\"M18.56 5.44l.94 2.06.94-2.06 2.06-.94-2.06-.94-.94-2.06-.94 2.06-2.06.94zm-11 1L8.5 8.5l.94-2.06 2.06-.94-2.06-.94L8.5 2.5l-.94 2.06-2.06.94zm10 10l.94 2.06.94-2.06 2.06-.94-2.06-.94-.94-2.06-.94 2.06-2.06.94z\"/><path d=\"M17.41 7.96l-1.37-1.37c-.4-.4-.92-.59-1.43-.59-.52 0-1.04.2-1.43.59L10.3 9.45l-7.72 7.72c-.78.78-.78 2.05 0 2.83L4 21.41c.39.39.9.59 1.41.59.51 0 1.02-.2 1.41-.59l7.78-7.78 2.81-2.81c.8-.78.8-2.07 0-2.86zM5.41 20L4 18.59l7.72-7.72 1.47 1.35L5.41 20z\"/>\n",
              "  </svg>\n",
              "      </button>\n",
              "      \n",
              "  <style>\n",
              "    .colab-df-container {\n",
              "      display:flex;\n",
              "      flex-wrap:wrap;\n",
              "      gap: 12px;\n",
              "    }\n",
              "\n",
              "    .colab-df-convert {\n",
              "      background-color: #E8F0FE;\n",
              "      border: none;\n",
              "      border-radius: 50%;\n",
              "      cursor: pointer;\n",
              "      display: none;\n",
              "      fill: #1967D2;\n",
              "      height: 32px;\n",
              "      padding: 0 0 0 0;\n",
              "      width: 32px;\n",
              "    }\n",
              "\n",
              "    .colab-df-convert:hover {\n",
              "      background-color: #E2EBFA;\n",
              "      box-shadow: 0px 1px 2px rgba(60, 64, 67, 0.3), 0px 1px 3px 1px rgba(60, 64, 67, 0.15);\n",
              "      fill: #174EA6;\n",
              "    }\n",
              "\n",
              "    [theme=dark] .colab-df-convert {\n",
              "      background-color: #3B4455;\n",
              "      fill: #D2E3FC;\n",
              "    }\n",
              "\n",
              "    [theme=dark] .colab-df-convert:hover {\n",
              "      background-color: #434B5C;\n",
              "      box-shadow: 0px 1px 3px 1px rgba(0, 0, 0, 0.15);\n",
              "      filter: drop-shadow(0px 1px 2px rgba(0, 0, 0, 0.3));\n",
              "      fill: #FFFFFF;\n",
              "    }\n",
              "  </style>\n",
              "\n",
              "      <script>\n",
              "        const buttonEl =\n",
              "          document.querySelector('#df-1dca022e-6278-4423-b5db-2bb9d5372e95 button.colab-df-convert');\n",
              "        buttonEl.style.display =\n",
              "          google.colab.kernel.accessAllowed ? 'block' : 'none';\n",
              "\n",
              "        async function convertToInteractive(key) {\n",
              "          const element = document.querySelector('#df-1dca022e-6278-4423-b5db-2bb9d5372e95');\n",
              "          const dataTable =\n",
              "            await google.colab.kernel.invokeFunction('convertToInteractive',\n",
              "                                                     [key], {});\n",
              "          if (!dataTable) return;\n",
              "\n",
              "          const docLinkHtml = 'Like what you see? Visit the ' +\n",
              "            '<a target=\"_blank\" href=https://colab.research.google.com/notebooks/data_table.ipynb>data table notebook</a>'\n",
              "            + ' to learn more about interactive tables.';\n",
              "          element.innerHTML = '';\n",
              "          dataTable['output_type'] = 'display_data';\n",
              "          await google.colab.output.renderOutput(dataTable, element);\n",
              "          const docLink = document.createElement('div');\n",
              "          docLink.innerHTML = docLinkHtml;\n",
              "          element.appendChild(docLink);\n",
              "        }\n",
              "      </script>\n",
              "    </div>\n",
              "  </div>\n",
              "  "
            ]
          },
          "metadata": {},
          "execution_count": 13
        }
      ],
      "source": [
        "# Lectura de la información de archivo .csv\n",
        "df = pd.read_csv('https://raw.githubusercontent.com/albahnsen/MIAD_ML_and_NLP/main/datasets/mashable.csv', index_col=0)\n",
        "df.head()"
      ]
    },
    {
      "cell_type": "code",
      "execution_count": 14,
      "metadata": {
        "id": "SlyejvDMJIBN",
        "colab": {
          "base_uri": "https://localhost:8080/"
        },
        "outputId": "bc826900-58b3-49b0-8437-2a640a399d91"
      },
      "outputs": [
        {
          "output_type": "execute_result",
          "data": {
            "text/plain": [
              "0.5"
            ]
          },
          "metadata": {},
          "execution_count": 14
        }
      ],
      "source": [
        "# Definición variable de interes y variables predictoras\n",
        "X = df.drop(['url', 'Popular'], axis=1)\n",
        "y = df['Popular']\n",
        "y.mean()"
      ]
    },
    {
      "cell_type": "code",
      "execution_count": 15,
      "metadata": {
        "id": "LlghfSSdJIBN"
      },
      "outputs": [],
      "source": [
        "# División de la muestra en set de entrenamiento y prueba\n",
        "from sklearn.model_selection import train_test_split\n",
        "X_train, X_test, y_train, y_test = train_test_split(X, y, test_size=0.33, random_state=1)"
      ]
    },
    {
      "cell_type": "markdown",
      "metadata": {
        "id": "M8967fECJIBO"
      },
      "source": [
        "### Punto 6 - Árbol de decisión y regresión logística\n",
        "En la celda 6 construya un árbol de decisión y una regresión logística. Para el árbol calibre al menos un parámetro y evalúe el desempeño de cada modelo usando las métricas de Accuracy y F1-Score."
      ]
    },
    {
      "cell_type": "code",
      "execution_count": 16,
      "metadata": {
        "id": "GRMhwUqnJIBO",
        "colab": {
          "base_uri": "https://localhost:8080/",
          "height": 630
        },
        "outputId": "fe5a6a1f-4a7d-458e-b1b6-e15244c6d177"
      },
      "outputs": [
        {
          "output_type": "stream",
          "name": "stdout",
          "text": [
            "logreg\n",
            "accuracy_score: 0.6212121212121212\n",
            "f1_score: 0.6073298429319371\n",
            "confusion_matrix: \n",
            " [[650 411]\n",
            " [339 580]] \n",
            "\n",
            "dtc\n",
            "accuracy_score: 0.6429292929292929\n",
            "f1_score: 0.637249871729092\n",
            "confusion_matrix: \n",
            " [[652 370]\n",
            " [337 621]] \n",
            "\n",
            "Mejor modelo: \n",
            " (Accuracy, max_depth):  (0.6263681592039801, 1) \n",
            "\n",
            "max_depth versus Accuracy: \n",
            "\n"
          ]
        },
        {
          "output_type": "execute_result",
          "data": {
            "text/plain": [
              "Text(0, 0.5, 'Accuracy')"
            ]
          },
          "metadata": {},
          "execution_count": 16
        },
        {
          "output_type": "display_data",
          "data": {
            "text/plain": [
              "<Figure size 432x288 with 1 Axes>"
            ],
            "image/png": "[encoded data removed]"
          },
          "metadata": {
            "needs_background": "light"
          }
        }
      ],
      "source": [
        "# Celda 6\n",
        "from sklearn.linear_model import LogisticRegression\n",
        "from sklearn.tree import DecisionTreeClassifier\n",
        "from sklearn.metrics import accuracy_score, f1_score, confusion_matrix\n",
        "\n",
        "# Calibración del arbol de decisión\n",
        "def calibración_dt(X, y):\n",
        "  # Lista de valores para calibrar el criterio de parada de máxima profundidad (max_depth)\n",
        "  max_depth_range = range(1, 21)\n",
        "\n",
        "  # Lista para guardar los valores del RMSE para cada valor de máxima profundidad (max_depth)\n",
        "  accuracy_scores = []\n",
        "\n",
        "  # Importación de modelos de sklearn \n",
        "  from sklearn.model_selection import cross_val_score\n",
        "  from sklearn.tree import DecisionTreeClassifier\n",
        "\n",
        "  # Loop para obtener el desempeño del modelo de acuerdo con la máxima profundidad\n",
        "  for depth in max_depth_range:\n",
        "      # Definición del árbol de decisión usando DecisionTreeClassifier de la libreria sklearn\n",
        "      clf = DecisionTreeClassifier(max_depth=depth, random_state=1)\n",
        "      accuracy_scores.append(cross_val_score(clf, X, y, cv=10, scoring='accuracy').mean())\n",
        "\n",
        "  \n",
        "  return max_depth_range, accuracy_scores, max_depth_range\n",
        "\n",
        "cal_dt = calibración_dt(X_train, y_train)\n",
        "\n",
        "###############################################################################\n",
        "# Definición de 2 modelos diferentes: regresión logística, árbol de decisión de clasificación\n",
        "n_features = len(X_train)\n",
        "models = {'logreg': LogisticRegression(),\n",
        "          'dtc': DecisionTreeClassifier(max_depth=1)}\n",
        "\n",
        "# Entrenamiento (fit) de cada modelo\n",
        "for model in models.keys():\n",
        "    models[model].fit(X_train, y_train)\n",
        "\n",
        "# Predicción de las observaciones del set de test para cada modelo\n",
        "y_pred = pd.DataFrame(index=X_test.index, columns=models.keys())\n",
        "for model in models.keys():\n",
        "    y_pred[model] = models[model].predict(X_test)\n",
        "\n",
        "acc_1dt = accuracy_score(y_pred['dtc'], y_test)\n",
        "acc_1lr = accuracy_score(y_pred['logreg'], y_test)\n",
        "\n",
        "# Evaluación del error de cada modelo\n",
        "\n",
        "\n",
        "for model in models.keys():\n",
        "    print(model)\n",
        "    print(\"accuracy_score:\",  accuracy_score(y_pred[model], y_test))\n",
        "    print(\"f1_score:\", f1_score(y_pred[model], y_test))\n",
        "    print(\"confusion_matrix: \\n\", confusion_matrix(y_pred[model], y_test), \"\\n\")\n",
        "\n",
        "# Mejor accuracy (desempeño del modelo) y su correspondiente max_depth\n",
        "print(\"Mejor modelo: \\n\", \"(Accuracy, max_depth): \", sorted(zip(cal_dt[1],cal_dt[2]))[::-1][0], \"\\n\")\n",
        "\n",
        "\n",
        "\n",
        "# Gráfica max_depth versus RMSE (error del modelo)\n",
        "print(\"max_depth versus Accuracy: \\n\")\n",
        "plt.show()\n",
        "plt.plot(cal_dt[0], cal_dt[1])\n",
        "plt.xlabel('max_depth')\n",
        "plt.ylabel('Accuracy')"
      ]
    },
    {
      "cell_type": "code",
      "source": [
        ""
      ],
      "metadata": {
        "id": "Qb9KBKn3Fnl_"
      },
      "execution_count": 16,
      "outputs": []
    },
    {
      "cell_type": "markdown",
      "metadata": {
        "id": "Fdxge74xJIBO"
      },
      "source": [
        "### Punto 7 - Votación Mayoritaria\n",
        "En la celda 7 elabore un esamble con la metodología de **Votación mayoritaria** compuesto por 300 muestras bagged para cada uno de los siguientes escenarios:\n",
        "\n",
        "-100 árboles de decisión donde max_depth = None\\\n",
        "-100 árboles de decisión donde max_depth = 2\\\n",
        "-100 regresiones logísticas\n",
        "\n",
        "Evalúe los modelos utilizando las métricas de Accuracy y F1-Score."
      ]
    },
    {
      "cell_type": "code",
      "execution_count": 17,
      "metadata": {
        "id": "dseyweIuJIBP",
        "colab": {
          "base_uri": "https://localhost:8080/"
        },
        "outputId": "e7d02711-ffe6-45f2-8d27-bdf66ca79b13"
      },
      "outputs": [
        {
          "output_type": "stream",
          "name": "stdout",
          "text": [
            "Modelo 1:\n",
            "\n",
            "accuracy_score: 0.6590909090909091\n",
            "f1_score: 0.6599496221662469\n",
            "confusion_matrix: \n",
            " [[650 336]\n",
            " [339 655]] \n",
            "\n",
            "Modelo 2:\n",
            "\n",
            "accuracy_score: 0.6525252525252525\n",
            "f1_score: 0.6405433646812958\n",
            "confusion_matrix: \n",
            " [[679 378]\n",
            " [310 613]] \n",
            "\n",
            "Modelo 3:\n",
            "\n",
            "accuracy_score: 0.6212121212121212\n",
            "f1_score: 0.6027542372881356\n",
            "confusion_matrix: \n",
            " [[661 422]\n",
            " [328 569]] \n",
            "\n",
            "Modelo 4:\n",
            "\n",
            "accuracy_score: 0.6555555555555556\n",
            "f1_score: 0.6444212721584983\n",
            "confusion_matrix: \n",
            " [[680 373]\n",
            " [309 618]] \n",
            "\n"
          ]
        }
      ],
      "source": [
        "# Celda 7\n",
        "# Definición del modelo BaggingClassifier de la libreria sklearn\n",
        "from sklearn.ensemble import BaggingClassifier\n",
        "clf_1 = BaggingClassifier(base_estimator= DecisionTreeClassifier(max_depth = None), max_samples=300, n_estimators=100, bootstrap=True, random_state=42, n_jobs=-1, oob_score=True)\n",
        "clf_2 = BaggingClassifier(base_estimator= DecisionTreeClassifier(max_depth = 2), max_samples=300, n_estimators=100, bootstrap=True, random_state=42, n_jobs=-1, oob_score=True)\n",
        "clf_3 = BaggingClassifier(base_estimator= LogisticRegression(), max_samples=300, n_estimators=100, bootstrap=True, random_state=42, n_jobs=-1, oob_score=True)\n",
        "\n",
        "# Predicción y desempeño al hacer votación mayoritaria\n",
        "clf_1.fit(X_train, y_train)\n",
        "y_pred_1 = clf_1.predict(X_test)\n",
        "\n",
        "clf_2.fit(X_train, y_train)\n",
        "y_pred_2 = clf_2.predict(X_test)\n",
        "\n",
        "clf_3.fit(X_train, y_train)\n",
        "y_pred_3 = clf_3.predict(X_test)\n",
        "\n",
        "print(\"Modelo 1:\\n\")\n",
        "acc_1vm = accuracy_score(y_pred_1, y_test)\n",
        "print(\"accuracy_score:\", acc_1vm)\n",
        "print(\"f1_score:\", f1_score(y_pred_1, y_test))\n",
        "print(\"confusion_matrix: \\n\", confusion_matrix(y_pred_1, y_test), \"\\n\")\n",
        "\n",
        "print(\"Modelo 2:\\n\")\n",
        "acc_2vm = accuracy_score(y_pred_2, y_test)\n",
        "print(\"accuracy_score:\", acc_2vm)\n",
        "print(\"f1_score:\", f1_score(y_pred_2, y_test))\n",
        "print(\"confusion_matrix: \\n\", confusion_matrix(y_pred_2, y_test), \"\\n\")\n",
        "\n",
        "print(\"Modelo 3:\\n\")\n",
        "acc_3vm = accuracy_score(y_pred_3, y_test)\n",
        "print(\"accuracy_score:\", acc_3vm)\n",
        "print(\"f1_score:\", f1_score(y_pred_3, y_test))\n",
        "print(\"confusion_matrix: \\n\", confusion_matrix(y_pred_3, y_test), \"\\n\")\n",
        "\n",
        "# Predicción para los datos del set de test con cada modelo\n",
        "y_pred_df = pd.DataFrame(index=X_test.index, columns=list(range(3)))\n",
        "y_pred_df.iloc[:, 0] = y_pred_1\n",
        "y_pred_df.iloc[:, 1] = y_pred_2\n",
        "y_pred_df.iloc[:, 2] = y_pred_3\n",
        "#y_pred_df.head()\n",
        "\n",
        "# Votación mayoritaria\n",
        "y_pred_4 = (y_pred_df.sum(axis=1) >= (3 / 2)).astype(np.int)\n",
        "\n",
        "# Desempeño al hacer votación mayoritaria\n",
        "print(\"Modelo 4:\\n\")\n",
        "print(\"accuracy_score:\",  accuracy_score(y_pred_4, y_test))\n",
        "print(\"f1_score:\", f1_score(y_pred_4, y_test))\n",
        "print(\"confusion_matrix: \\n\", confusion_matrix(y_pred_4, y_test), \"\\n\")\n"
      ]
    },
    {
      "cell_type": "markdown",
      "metadata": {
        "id": "xWID5L0jJIBP"
      },
      "source": [
        "### Punto 8 - Votación Ponderada\n",
        "En la celda 8 elabore un ensamble con la metodología de **Votación ponderada** compuesto por 300 muestras bagged para los mismos tres escenarios del punto 7. Evalúe los modelos utilizando las métricas de Accuracy y F1-Score"
      ]
    },
    {
      "cell_type": "code",
      "execution_count": 18,
      "metadata": {
        "id": "GvcTYdeeJIBQ",
        "colab": {
          "base_uri": "https://localhost:8080/"
        },
        "outputId": "7641cef6-5ed4-48fb-b903-36b0ab60af24"
      },
      "outputs": [
        {
          "output_type": "stream",
          "name": "stdout",
          "text": [
            "Modelo 1:\n",
            "\n",
            "accuracy_score: 0.6611111111111111\n",
            "f1_score: 0.6646676661669165\n",
            "confusion_matrix: \n",
            " [[644 326]\n",
            " [345 665]] \n",
            "\n",
            "Modelo 2:\n",
            "\n",
            "accuracy_score: 0.648989898989899\n",
            "f1_score: 0.6344029458179905\n",
            "confusion_matrix: \n",
            " [[682 388]\n",
            " [307 603]] \n",
            "\n",
            "Modelo 3:\n",
            "\n",
            "accuracy_score: 0.6222222222222222\n",
            "f1_score: 0.6008537886873\n",
            "confusion_matrix: \n",
            " [[669 428]\n",
            " [320 563]] \n",
            "\n"
          ]
        }
      ],
      "source": [
        "# Celda 8\n",
        "\n",
        "def vot_pond(clf_, X_train, y_train, X_test, y_test):\n",
        "  # Ajuste del modelo\n",
        "  clf_.fit(X_train, y_train)\n",
        "  # Obtención de los pesos alpha de cada modelo de acuerdo al error OOB\n",
        "  errors_1 = np.zeros(clf_.n_estimators)\n",
        "  y_pred_all_1 = np.zeros((X_test.shape[0], clf_.n_estimators))\n",
        "\n",
        "  for i in range(clf_.n_estimators):\n",
        "    oob_sample = ~clf_.estimators_samples_[i]\n",
        "    y_pred_ = clf_.estimators_[i].predict(X_train.values[oob_sample])\n",
        "    errors_1[i] = accuracy_score(y_pred_, y_train.values[oob_sample])\n",
        "    y_pred_all_1[:, i] = clf_.estimators_[i].predict(X_test)\n",
        "      \n",
        "  alpha_1 = (1 - errors_1) / (1 - errors_1).sum()\n",
        "  y_pred_1_ = (np.sum(y_pred_all_1 * alpha_1, axis=1) >= 0.5).astype(np.int)\n",
        "\n",
        "  # Desempeño al hacer votación ponderada\n",
        "  acc_ = accuracy_score(y_pred_1_, y_test)\n",
        "  print(\"accuracy_score:\",  accuracy_score(y_pred_1_, y_test))\n",
        "  print(\"f1_score:\", f1_score(y_pred_1_, y_test))\n",
        "  print(\"confusion_matrix: \\n\", confusion_matrix(y_pred_1_, y_test), \"\\n\")\n",
        "\n",
        "  return acc_\n",
        "# Definición del modelo BaggingClassifier de la libreria sklearn\n",
        "\n",
        "clf_1vp = BaggingClassifier(base_estimator= DecisionTreeClassifier(max_depth = None), max_samples=300, n_estimators=100, bootstrap=True, random_state=42, n_jobs=-1, oob_score=True)\n",
        "clf_2vp = BaggingClassifier(base_estimator= DecisionTreeClassifier(max_depth = 2), max_samples=300, n_estimators=100, bootstrap=True, random_state=42, n_jobs=-1, oob_score=True)\n",
        "clf_3vp = BaggingClassifier(base_estimator= LogisticRegression(), max_samples=300, n_estimators=100, bootstrap=True, random_state=42, n_jobs=-1, oob_score=True)\n",
        "\n",
        "\n",
        "print(\"Modelo 1:\\n\")\n",
        "acc_1vp = vot_pond(clf_1vp, X_train, y_train, X_test, y_test)\n",
        "\n",
        "print(\"Modelo 2:\\n\")\n",
        "acc_2vp = vot_pond(clf_2vp, X_train, y_train, X_test, y_test)\n",
        "\n",
        "print(\"Modelo 3:\\n\")\n",
        "acc_3vp = vot_pond(clf_3vp, X_train, y_train, X_test, y_test)"
      ]
    },
    {
      "cell_type": "markdown",
      "metadata": {
        "id": "1HknPUe-JIBQ"
      },
      "source": [
        "### Punto 9 - Comparación y análisis de resultados\n",
        "En la celda 9 comente sobre los resultados obtenidos con las metodologías usadas en los puntos 7 y 8, compare los resultados y enuncie posibles ventajas o desventajas de cada una de ellas."
      ]
    },
    {
      "cell_type": "code",
      "execution_count": 19,
      "metadata": {
        "id": "0rK0LUCYJIBQ",
        "colab": {
          "base_uri": "https://localhost:8080/",
          "height": 353
        },
        "outputId": "95cf7406-063a-4dec-be75-fdb03a141357"
      },
      "outputs": [
        {
          "output_type": "display_data",
          "data": {
            "text/plain": [
              "<Figure size 432x288 with 1 Axes>"
            ],
            "image/png": "[encoded data removed]"
          },
          "metadata": {
            "needs_background": "light"
          }
        }
      ],
      "source": [
        "# Celda 9\n",
        "\n",
        "fig = plt.figure()\n",
        "ax = fig.add_axes([0,0,1,1])\n",
        "ax.set_title(\"Comparación de modelos\")\n",
        "ejeX = ['DT','LR', 'DT1_mv', 'DT2_mv','LR_mv','DT1_vp', 'DT2_vp','LR_vp']\n",
        "n_dec = 3\n",
        "ejeY = [np.round(acc_1dt,n_dec), np.round(acc_1lr,n_dec), np.round(acc_1vm,n_dec), np.round(acc_2vm,n_dec), np.round(acc_3vm,n_dec), np.round(acc_1vp,n_dec), np.round(acc_2vp,n_dec), np.round(acc_3vp,n_dec)]\n",
        "ax.bar(ejeX, ejeY)\n",
        "def addlabels(x,y,plotP):\n",
        "    for i in range(len(ejeX)):\n",
        "        plotP.text(i,y[i],y[i])\n",
        "addlabels(ejeX,ejeY,plt)\n",
        "#plt.yticks([0.5, 0.7])\n",
        "plt.ylim(0.6, 0.68)\n",
        "plt.show()\n"
      ]
    },
    {
      "cell_type": "markdown",
      "source": [
        "**Conclusión**\n",
        "\n",
        "Al comparar los 8 modelos generados, los dos primeros (DT y LR) sin estrategias de bagging, los tres siguientes con estrategias de bagging por votación mayoritaria (_mv) y los tres últimos con estrategias de bagging por votación ponderada (_vp) se encuentra que el mejor resultado se da ligeramente por la estrategia de votación ponderada con árboles de decisión sin restricción de máxima profundidad con un accuracy de 0.661. Sin embargo, se evidencia que la diferencia no es tan alta (0.002) al compararla con la estrategia de votación mayoritaria del mismo modelo, por lo que en este caso, las dos estrategias producen resultados similares. Por lo tanto:\n",
        "* La ventaja de usar estrategias de ensamble es que permite mejorar algunos puntos porcentuales el desempeño de un clasificador y que robustece el modelo al disminuir su varianza \n",
        "* Como desventaja se tiene que el ensamblaje es altamente dependiente del modelo que se seleccione y que aumenta la carga computacional ya que se debe entrenar n-modelos para escoger la mejor respuesta por consenso."
      ],
      "metadata": {
        "id": "1Mh-cw-ohKq6"
      }
    }
  ],
  "metadata": {
    "kernelspec": {
      "display_name": "Python 3",
      "language": "python",
      "name": "python3"
    },
    "language_info": {
      "codemirror_mode": {
        "name": "ipython",
        "version": 3
      },
      "file_extension": ".py",
      "mimetype": "text/x-python",
      "name": "python",
      "nbconvert_exporter": "python",
      "pygments_lexer": "ipython3",
      "version": "3.7.3"
    },
    "colab": {
      "name": "S1TC1_arboles_ensamblajes.ipynb",
      "provenance": [],
      "collapsed_sections": [],
      "include_colab_link": true
    }
  },
  "nbformat": 4,
  "nbformat_minor": 0
}