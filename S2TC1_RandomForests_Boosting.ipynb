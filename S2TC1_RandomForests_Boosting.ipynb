{
  "cells": [
    {
      "cell_type": "markdown",
      "metadata": {
        "id": "view-in-github",
        "colab_type": "text"
      },
      "source": [
        "<a href=\"https://colab.research.google.com/github/EdgarGM20/ML-NLP/blob/main/S2TC1_RandomForests_Boosting.ipynb\" target=\"_parent\"><img src=\"https://colab.research.google.com/assets/colab-badge.svg\" alt=\"Open In Colab\"/></a>"
      ]
    },
    {
      "cell_type": "markdown",
      "metadata": {
        "id": "hPFRBlHgl7rU"
      },
      "source": [
        "![image info](https://raw.githubusercontent.com/albahnsen/MIAD_ML_and_NLP/main/images/banner_1.png)"
      ]
    },
    {
      "cell_type": "markdown",
      "metadata": {
        "id": "tj9d0k8Ql7rY"
      },
      "source": [
        "# Taller: Construcción e implementación de modelos Bagging, Random Forest y XGBoost\n",
        "\n",
        "En este taller podrán poner en práctica sus conocimientos sobre la construcción e implementación de modelos de Bagging, Random Forest y XGBoost. El taller está constituido por 8 puntos, en los cuales deberan seguir las intrucciones de cada numeral para su desarrollo."
      ]
    },
    {
      "cell_type": "markdown",
      "metadata": {
        "id": "qrxGFMPQl7rZ"
      },
      "source": [
        "## Datos predicción precio de automóviles\n",
        "\n",
        "En este taller se usará el conjunto de datos de Car Listings de Kaggle donde cada observación representa el precio de un automóvil teniendo en cuenta distintas variables como año, marca, modelo, entre otras. El objetivo es predecir si el precio del automóvil es alto o no. Para más detalles puede visitar el siguiente enlace: [datos](https://www.kaggle.com/jpayne/852k-used-car-listings)."
      ]
    },
    {
      "cell_type": "code",
      "execution_count": 1,
      "metadata": {
        "id": "bNwlrBKnl7ra"
      },
      "outputs": [],
      "source": [
        "import warnings\n",
        "warnings.filterwarnings('ignore')"
      ]
    },
    {
      "cell_type": "code",
      "execution_count": 2,
      "metadata": {
        "id": "xr2CllOul7rb",
        "colab": {
          "base_uri": "https://localhost:8080/",
          "height": 206
        },
        "outputId": "d0cd48be-fc8f-4d66-b83f-e70a4f2f8e6b"
      },
      "outputs": [
        {
          "output_type": "execute_result",
          "data": {
            "text/plain": [
              "   Price  Year  Mileage State       Make      Model\n",
              "0  34995  2017     9913    FL       Jeep   Wrangler\n",
              "1  37895  2015    20578    OH  Chevrolet   Tahoe4WD\n",
              "2  18430  2012    83716    TX        BMW      X5AWD\n",
              "3  24681  2014    28729    OH   Cadillac  SRXLuxury\n",
              "4  26998  2013    64032    CO       Jeep   Wrangler"
            ],
            "text/html": [
              "\n",
              "  <div id=\"df-301714ad-e2a5-476d-bb01-f974a0593273\">\n",
              "    <div class=\"colab-df-container\">\n",
              "      <div>\n",
              "<style scoped>\n",
              "    .dataframe tbody tr th:only-of-type {\n",
              "        vertical-align: middle;\n",
              "    }\n",
              "\n",
              "    .dataframe tbody tr th {\n",
              "        vertical-align: top;\n",
              "    }\n",
              "\n",
              "    .dataframe thead th {\n",
              "        text-align: right;\n",
              "    }\n",
              "</style>\n",
              "<table border=\"1\" class=\"dataframe\">\n",
              "  <thead>\n",
              "    <tr style=\"text-align: right;\">\n",
              "      <th></th>\n",
              "      <th>Price</th>\n",
              "      <th>Year</th>\n",
              "      <th>Mileage</th>\n",
              "      <th>State</th>\n",
              "      <th>Make</th>\n",
              "      <th>Model</th>\n",
              "    </tr>\n",
              "  </thead>\n",
              "  <tbody>\n",
              "    <tr>\n",
              "      <th>0</th>\n",
              "      <td>34995</td>\n",
              "      <td>2017</td>\n",
              "      <td>9913</td>\n",
              "      <td>FL</td>\n",
              "      <td>Jeep</td>\n",
              "      <td>Wrangler</td>\n",
              "    </tr>\n",
              "    <tr>\n",
              "      <th>1</th>\n",
              "      <td>37895</td>\n",
              "      <td>2015</td>\n",
              "      <td>20578</td>\n",
              "      <td>OH</td>\n",
              "      <td>Chevrolet</td>\n",
              "      <td>Tahoe4WD</td>\n",
              "    </tr>\n",
              "    <tr>\n",
              "      <th>2</th>\n",
              "      <td>18430</td>\n",
              "      <td>2012</td>\n",
              "      <td>83716</td>\n",
              "      <td>TX</td>\n",
              "      <td>BMW</td>\n",
              "      <td>X5AWD</td>\n",
              "    </tr>\n",
              "    <tr>\n",
              "      <th>3</th>\n",
              "      <td>24681</td>\n",
              "      <td>2014</td>\n",
              "      <td>28729</td>\n",
              "      <td>OH</td>\n",
              "      <td>Cadillac</td>\n",
              "      <td>SRXLuxury</td>\n",
              "    </tr>\n",
              "    <tr>\n",
              "      <th>4</th>\n",
              "      <td>26998</td>\n",
              "      <td>2013</td>\n",
              "      <td>64032</td>\n",
              "      <td>CO</td>\n",
              "      <td>Jeep</td>\n",
              "      <td>Wrangler</td>\n",
              "    </tr>\n",
              "  </tbody>\n",
              "</table>\n",
              "</div>\n",
              "      <button class=\"colab-df-convert\" onclick=\"convertToInteractive('df-301714ad-e2a5-476d-bb01-f974a0593273')\"\n",
              "              title=\"Convert this dataframe to an interactive table.\"\n",
              "              style=\"display:none;\">\n",
              "        \n",
              "  <svg xmlns=\"http://www.w3.org/2000/svg\" height=\"24px\"viewBox=\"0 0 24 24\"\n",
              "       width=\"24px\">\n",
              "    <path d=\"M0 0h24v24H0V0z\" fill=\"none\"/>\n",
              "    <path d=\"M18.56 5.44l.94 2.06.94-2.06 2.06-.94-2.06-.94-.94-2.06-.94 2.06-2.06.94zm-11 1L8.5 8.5l.94-2.06 2.06-.94-2.06-.94L8.5 2.5l-.94 2.06-2.06.94zm10 10l.94 2.06.94-2.06 2.06-.94-2.06-.94-.94-2.06-.94 2.06-2.06.94z\"/><path d=\"M17.41 7.96l-1.37-1.37c-.4-.4-.92-.59-1.43-.59-.52 0-1.04.2-1.43.59L10.3 9.45l-7.72 7.72c-.78.78-.78 2.05 0 2.83L4 21.41c.39.39.9.59 1.41.59.51 0 1.02-.2 1.41-.59l7.78-7.78 2.81-2.81c.8-.78.8-2.07 0-2.86zM5.41 20L4 18.59l7.72-7.72 1.47 1.35L5.41 20z\"/>\n",
              "  </svg>\n",
              "      </button>\n",
              "      \n",
              "  <style>\n",
              "    .colab-df-container {\n",
              "      display:flex;\n",
              "      flex-wrap:wrap;\n",
              "      gap: 12px;\n",
              "    }\n",
              "\n",
              "    .colab-df-convert {\n",
              "      background-color: #E8F0FE;\n",
              "      border: none;\n",
              "      border-radius: 50%;\n",
              "      cursor: pointer;\n",
              "      display: none;\n",
              "      fill: #1967D2;\n",
              "      height: 32px;\n",
              "      padding: 0 0 0 0;\n",
              "      width: 32px;\n",
              "    }\n",
              "\n",
              "    .colab-df-convert:hover {\n",
              "      background-color: #E2EBFA;\n",
              "      box-shadow: 0px 1px 2px rgba(60, 64, 67, 0.3), 0px 1px 3px 1px rgba(60, 64, 67, 0.15);\n",
              "      fill: #174EA6;\n",
              "    }\n",
              "\n",
              "    [theme=dark] .colab-df-convert {\n",
              "      background-color: #3B4455;\n",
              "      fill: #D2E3FC;\n",
              "    }\n",
              "\n",
              "    [theme=dark] .colab-df-convert:hover {\n",
              "      background-color: #434B5C;\n",
              "      box-shadow: 0px 1px 3px 1px rgba(0, 0, 0, 0.15);\n",
              "      filter: drop-shadow(0px 1px 2px rgba(0, 0, 0, 0.3));\n",
              "      fill: #FFFFFF;\n",
              "    }\n",
              "  </style>\n",
              "\n",
              "      <script>\n",
              "        const buttonEl =\n",
              "          document.querySelector('#df-301714ad-e2a5-476d-bb01-f974a0593273 button.colab-df-convert');\n",
              "        buttonEl.style.display =\n",
              "          google.colab.kernel.accessAllowed ? 'block' : 'none';\n",
              "\n",
              "        async function convertToInteractive(key) {\n",
              "          const element = document.querySelector('#df-301714ad-e2a5-476d-bb01-f974a0593273');\n",
              "          const dataTable =\n",
              "            await google.colab.kernel.invokeFunction('convertToInteractive',\n",
              "                                                     [key], {});\n",
              "          if (!dataTable) return;\n",
              "\n",
              "          const docLinkHtml = 'Like what you see? Visit the ' +\n",
              "            '<a target=\"_blank\" href=https://colab.research.google.com/notebooks/data_table.ipynb>data table notebook</a>'\n",
              "            + ' to learn more about interactive tables.';\n",
              "          element.innerHTML = '';\n",
              "          dataTable['output_type'] = 'display_data';\n",
              "          await google.colab.output.renderOutput(dataTable, element);\n",
              "          const docLink = document.createElement('div');\n",
              "          docLink.innerHTML = docLinkHtml;\n",
              "          element.appendChild(docLink);\n",
              "        }\n",
              "      </script>\n",
              "    </div>\n",
              "  </div>\n",
              "  "
            ]
          },
          "metadata": {},
          "execution_count": 2
        }
      ],
      "source": [
        "# Importación de librerías\n",
        "%matplotlib inline\n",
        "import pandas as pd\n",
        "\n",
        "# Lectura de la información de archivo .csv\n",
        "data = pd.read_csv('https://raw.githubusercontent.com/albahnsen/MIAD_ML_and_NLP/main/datasets/dataTrain_carListings.zip')\n",
        "\n",
        "data.head()"
      ]
    },
    {
      "cell_type": "code",
      "source": [
        "# Preprocesamiento de datos para el taller\n",
        "data = data.loc[data['Model'].str.contains('Camry')].drop(['Make', 'State'], axis=1)\n",
        "data = data.join(pd.get_dummies(data['Model'], prefix='M'))\n",
        "data['HighPrice'] = (data['Price'] > data['Price'].mean()).astype(int)\n",
        "data = data.drop(['Model', 'Price'], axis=1)\n",
        "\n",
        "# Visualización dataset\n",
        "data.head()"
      ],
      "metadata": {
        "colab": {
          "base_uri": "https://localhost:8080/",
          "height": 206
        },
        "id": "VWPMsf3-AfpD",
        "outputId": "e9dbf5ac-dcff-4111-cc13-ea69c26629b6"
      },
      "execution_count": 3,
      "outputs": [
        {
          "output_type": "execute_result",
          "data": {
            "text/plain": [
              "     Year  Mileage  M_Camry  M_Camry4dr  M_CamryBase  M_CamryL  M_CamryLE  \\\n",
              "7    2014     6480        0           0            0         1          0   \n",
              "11   2014    39972        0           0            0         0          1   \n",
              "167  2016    18989        0           0            0         0          0   \n",
              "225  2014    51330        0           0            0         1          0   \n",
              "270  2007   116065        0           1            0         0          0   \n",
              "\n",
              "     M_CamrySE  M_CamryXLE  HighPrice  \n",
              "7            0           0          1  \n",
              "11           0           0          0  \n",
              "167          1           0          1  \n",
              "225          0           0          0  \n",
              "270          0           0          0  "
            ],
            "text/html": [
              "\n",
              "  <div id=\"df-825e31a5-78fa-4f58-a2fa-863d593babf5\">\n",
              "    <div class=\"colab-df-container\">\n",
              "      <div>\n",
              "<style scoped>\n",
              "    .dataframe tbody tr th:only-of-type {\n",
              "        vertical-align: middle;\n",
              "    }\n",
              "\n",
              "    .dataframe tbody tr th {\n",
              "        vertical-align: top;\n",
              "    }\n",
              "\n",
              "    .dataframe thead th {\n",
              "        text-align: right;\n",
              "    }\n",
              "</style>\n",
              "<table border=\"1\" class=\"dataframe\">\n",
              "  <thead>\n",
              "    <tr style=\"text-align: right;\">\n",
              "      <th></th>\n",
              "      <th>Year</th>\n",
              "      <th>Mileage</th>\n",
              "      <th>M_Camry</th>\n",
              "      <th>M_Camry4dr</th>\n",
              "      <th>M_CamryBase</th>\n",
              "      <th>M_CamryL</th>\n",
              "      <th>M_CamryLE</th>\n",
              "      <th>M_CamrySE</th>\n",
              "      <th>M_CamryXLE</th>\n",
              "      <th>HighPrice</th>\n",
              "    </tr>\n",
              "  </thead>\n",
              "  <tbody>\n",
              "    <tr>\n",
              "      <th>7</th>\n",
              "      <td>2014</td>\n",
              "      <td>6480</td>\n",
              "      <td>0</td>\n",
              "      <td>0</td>\n",
              "      <td>0</td>\n",
              "      <td>1</td>\n",
              "      <td>0</td>\n",
              "      <td>0</td>\n",
              "      <td>0</td>\n",
              "      <td>1</td>\n",
              "    </tr>\n",
              "    <tr>\n",
              "      <th>11</th>\n",
              "      <td>2014</td>\n",
              "      <td>39972</td>\n",
              "      <td>0</td>\n",
              "      <td>0</td>\n",
              "      <td>0</td>\n",
              "      <td>0</td>\n",
              "      <td>1</td>\n",
              "      <td>0</td>\n",
              "      <td>0</td>\n",
              "      <td>0</td>\n",
              "    </tr>\n",
              "    <tr>\n",
              "      <th>167</th>\n",
              "      <td>2016</td>\n",
              "      <td>18989</td>\n",
              "      <td>0</td>\n",
              "      <td>0</td>\n",
              "      <td>0</td>\n",
              "      <td>0</td>\n",
              "      <td>0</td>\n",
              "      <td>1</td>\n",
              "      <td>0</td>\n",
              "      <td>1</td>\n",
              "    </tr>\n",
              "    <tr>\n",
              "      <th>225</th>\n",
              "      <td>2014</td>\n",
              "      <td>51330</td>\n",
              "      <td>0</td>\n",
              "      <td>0</td>\n",
              "      <td>0</td>\n",
              "      <td>1</td>\n",
              "      <td>0</td>\n",
              "      <td>0</td>\n",
              "      <td>0</td>\n",
              "      <td>0</td>\n",
              "    </tr>\n",
              "    <tr>\n",
              "      <th>270</th>\n",
              "      <td>2007</td>\n",
              "      <td>116065</td>\n",
              "      <td>0</td>\n",
              "      <td>1</td>\n",
              "      <td>0</td>\n",
              "      <td>0</td>\n",
              "      <td>0</td>\n",
              "      <td>0</td>\n",
              "      <td>0</td>\n",
              "      <td>0</td>\n",
              "    </tr>\n",
              "  </tbody>\n",
              "</table>\n",
              "</div>\n",
              "      <button class=\"colab-df-convert\" onclick=\"convertToInteractive('df-825e31a5-78fa-4f58-a2fa-863d593babf5')\"\n",
              "              title=\"Convert this dataframe to an interactive table.\"\n",
              "              style=\"display:none;\">\n",
              "        \n",
              "  <svg xmlns=\"http://www.w3.org/2000/svg\" height=\"24px\"viewBox=\"0 0 24 24\"\n",
              "       width=\"24px\">\n",
              "    <path d=\"M0 0h24v24H0V0z\" fill=\"none\"/>\n",
              "    <path d=\"M18.56 5.44l.94 2.06.94-2.06 2.06-.94-2.06-.94-.94-2.06-.94 2.06-2.06.94zm-11 1L8.5 8.5l.94-2.06 2.06-.94-2.06-.94L8.5 2.5l-.94 2.06-2.06.94zm10 10l.94 2.06.94-2.06 2.06-.94-2.06-.94-.94-2.06-.94 2.06-2.06.94z\"/><path d=\"M17.41 7.96l-1.37-1.37c-.4-.4-.92-.59-1.43-.59-.52 0-1.04.2-1.43.59L10.3 9.45l-7.72 7.72c-.78.78-.78 2.05 0 2.83L4 21.41c.39.39.9.59 1.41.59.51 0 1.02-.2 1.41-.59l7.78-7.78 2.81-2.81c.8-.78.8-2.07 0-2.86zM5.41 20L4 18.59l7.72-7.72 1.47 1.35L5.41 20z\"/>\n",
              "  </svg>\n",
              "      </button>\n",
              "      \n",
              "  <style>\n",
              "    .colab-df-container {\n",
              "      display:flex;\n",
              "      flex-wrap:wrap;\n",
              "      gap: 12px;\n",
              "    }\n",
              "\n",
              "    .colab-df-convert {\n",
              "      background-color: #E8F0FE;\n",
              "      border: none;\n",
              "      border-radius: 50%;\n",
              "      cursor: pointer;\n",
              "      display: none;\n",
              "      fill: #1967D2;\n",
              "      height: 32px;\n",
              "      padding: 0 0 0 0;\n",
              "      width: 32px;\n",
              "    }\n",
              "\n",
              "    .colab-df-convert:hover {\n",
              "      background-color: #E2EBFA;\n",
              "      box-shadow: 0px 1px 2px rgba(60, 64, 67, 0.3), 0px 1px 3px 1px rgba(60, 64, 67, 0.15);\n",
              "      fill: #174EA6;\n",
              "    }\n",
              "\n",
              "    [theme=dark] .colab-df-convert {\n",
              "      background-color: #3B4455;\n",
              "      fill: #D2E3FC;\n",
              "    }\n",
              "\n",
              "    [theme=dark] .colab-df-convert:hover {\n",
              "      background-color: #434B5C;\n",
              "      box-shadow: 0px 1px 3px 1px rgba(0, 0, 0, 0.15);\n",
              "      filter: drop-shadow(0px 1px 2px rgba(0, 0, 0, 0.3));\n",
              "      fill: #FFFFFF;\n",
              "    }\n",
              "  </style>\n",
              "\n",
              "      <script>\n",
              "        const buttonEl =\n",
              "          document.querySelector('#df-825e31a5-78fa-4f58-a2fa-863d593babf5 button.colab-df-convert');\n",
              "        buttonEl.style.display =\n",
              "          google.colab.kernel.accessAllowed ? 'block' : 'none';\n",
              "\n",
              "        async function convertToInteractive(key) {\n",
              "          const element = document.querySelector('#df-825e31a5-78fa-4f58-a2fa-863d593babf5');\n",
              "          const dataTable =\n",
              "            await google.colab.kernel.invokeFunction('convertToInteractive',\n",
              "                                                     [key], {});\n",
              "          if (!dataTable) return;\n",
              "\n",
              "          const docLinkHtml = 'Like what you see? Visit the ' +\n",
              "            '<a target=\"_blank\" href=https://colab.research.google.com/notebooks/data_table.ipynb>data table notebook</a>'\n",
              "            + ' to learn more about interactive tables.';\n",
              "          element.innerHTML = '';\n",
              "          dataTable['output_type'] = 'display_data';\n",
              "          await google.colab.output.renderOutput(dataTable, element);\n",
              "          const docLink = document.createElement('div');\n",
              "          docLink.innerHTML = docLinkHtml;\n",
              "          element.appendChild(docLink);\n",
              "        }\n",
              "      </script>\n",
              "    </div>\n",
              "  </div>\n",
              "  "
            ]
          },
          "metadata": {},
          "execution_count": 3
        }
      ]
    },
    {
      "cell_type": "code",
      "execution_count": 4,
      "metadata": {
        "id": "d1cTDOATl7rc"
      },
      "outputs": [],
      "source": [
        "# Separación de variables predictoras (X) y variable de interés (y)\n",
        "y = data['HighPrice']\n",
        "X = data.drop(['HighPrice'], axis=1)"
      ]
    },
    {
      "cell_type": "code",
      "execution_count": 5,
      "metadata": {
        "id": "oFcfSxknl7rd",
        "colab": {
          "base_uri": "https://localhost:8080/",
          "height": 423
        },
        "outputId": "dcee1a87-f157-41f1-c467-b58f7d6a73e3"
      },
      "outputs": [
        {
          "output_type": "execute_result",
          "data": {
            "text/plain": [
              "        Year  Mileage  M_Camry  M_Camry4dr  M_CamryBase  M_CamryL  M_CamryLE  \\\n",
              "318288  2014    39988        0           0            0         0          0   \n",
              "333638  2007    38904        0           0            0         0          1   \n",
              "234716  2016    29607        0           0            0         0          0   \n",
              "208752  2014    50756        0           0            0         0          0   \n",
              "348892  2017    10506        0           0            0         0          0   \n",
              "...      ...      ...      ...         ...          ...       ...        ...   \n",
              "218085  2010    84057        0           0            0         0          1   \n",
              "198455  2012    93770        0           1            0         0          0   \n",
              "205572  2010    88644        0           0            1         0          0   \n",
              "33541   2015    26180        0           0            0         0          0   \n",
              "274804  2017    18254        0           0            0         0          0   \n",
              "\n",
              "        M_CamrySE  M_CamryXLE  \n",
              "318288          1           0  \n",
              "333638          0           0  \n",
              "234716          1           0  \n",
              "208752          1           0  \n",
              "348892          1           0  \n",
              "...           ...         ...  \n",
              "218085          0           0  \n",
              "198455          0           0  \n",
              "205572          0           0  \n",
              "33541           1           0  \n",
              "274804          1           0  \n",
              "\n",
              "[7031 rows x 9 columns]"
            ],
            "text/html": [
              "\n",
              "  <div id=\"df-2af2e570-0dd3-499b-b5d0-4fdbe45f3f5d\">\n",
              "    <div class=\"colab-df-container\">\n",
              "      <div>\n",
              "<style scoped>\n",
              "    .dataframe tbody tr th:only-of-type {\n",
              "        vertical-align: middle;\n",
              "    }\n",
              "\n",
              "    .dataframe tbody tr th {\n",
              "        vertical-align: top;\n",
              "    }\n",
              "\n",
              "    .dataframe thead th {\n",
              "        text-align: right;\n",
              "    }\n",
              "</style>\n",
              "<table border=\"1\" class=\"dataframe\">\n",
              "  <thead>\n",
              "    <tr style=\"text-align: right;\">\n",
              "      <th></th>\n",
              "      <th>Year</th>\n",
              "      <th>Mileage</th>\n",
              "      <th>M_Camry</th>\n",
              "      <th>M_Camry4dr</th>\n",
              "      <th>M_CamryBase</th>\n",
              "      <th>M_CamryL</th>\n",
              "      <th>M_CamryLE</th>\n",
              "      <th>M_CamrySE</th>\n",
              "      <th>M_CamryXLE</th>\n",
              "    </tr>\n",
              "  </thead>\n",
              "  <tbody>\n",
              "    <tr>\n",
              "      <th>318288</th>\n",
              "      <td>2014</td>\n",
              "      <td>39988</td>\n",
              "      <td>0</td>\n",
              "      <td>0</td>\n",
              "      <td>0</td>\n",
              "      <td>0</td>\n",
              "      <td>0</td>\n",
              "      <td>1</td>\n",
              "      <td>0</td>\n",
              "    </tr>\n",
              "    <tr>\n",
              "      <th>333638</th>\n",
              "      <td>2007</td>\n",
              "      <td>38904</td>\n",
              "      <td>0</td>\n",
              "      <td>0</td>\n",
              "      <td>0</td>\n",
              "      <td>0</td>\n",
              "      <td>1</td>\n",
              "      <td>0</td>\n",
              "      <td>0</td>\n",
              "    </tr>\n",
              "    <tr>\n",
              "      <th>234716</th>\n",
              "      <td>2016</td>\n",
              "      <td>29607</td>\n",
              "      <td>0</td>\n",
              "      <td>0</td>\n",
              "      <td>0</td>\n",
              "      <td>0</td>\n",
              "      <td>0</td>\n",
              "      <td>1</td>\n",
              "      <td>0</td>\n",
              "    </tr>\n",
              "    <tr>\n",
              "      <th>208752</th>\n",
              "      <td>2014</td>\n",
              "      <td>50756</td>\n",
              "      <td>0</td>\n",
              "      <td>0</td>\n",
              "      <td>0</td>\n",
              "      <td>0</td>\n",
              "      <td>0</td>\n",
              "      <td>1</td>\n",
              "      <td>0</td>\n",
              "    </tr>\n",
              "    <tr>\n",
              "      <th>348892</th>\n",
              "      <td>2017</td>\n",
              "      <td>10506</td>\n",
              "      <td>0</td>\n",
              "      <td>0</td>\n",
              "      <td>0</td>\n",
              "      <td>0</td>\n",
              "      <td>0</td>\n",
              "      <td>1</td>\n",
              "      <td>0</td>\n",
              "    </tr>\n",
              "    <tr>\n",
              "      <th>...</th>\n",
              "      <td>...</td>\n",
              "      <td>...</td>\n",
              "      <td>...</td>\n",
              "      <td>...</td>\n",
              "      <td>...</td>\n",
              "      <td>...</td>\n",
              "      <td>...</td>\n",
              "      <td>...</td>\n",
              "      <td>...</td>\n",
              "    </tr>\n",
              "    <tr>\n",
              "      <th>218085</th>\n",
              "      <td>2010</td>\n",
              "      <td>84057</td>\n",
              "      <td>0</td>\n",
              "      <td>0</td>\n",
              "      <td>0</td>\n",
              "      <td>0</td>\n",
              "      <td>1</td>\n",
              "      <td>0</td>\n",
              "      <td>0</td>\n",
              "    </tr>\n",
              "    <tr>\n",
              "      <th>198455</th>\n",
              "      <td>2012</td>\n",
              "      <td>93770</td>\n",
              "      <td>0</td>\n",
              "      <td>1</td>\n",
              "      <td>0</td>\n",
              "      <td>0</td>\n",
              "      <td>0</td>\n",
              "      <td>0</td>\n",
              "      <td>0</td>\n",
              "    </tr>\n",
              "    <tr>\n",
              "      <th>205572</th>\n",
              "      <td>2010</td>\n",
              "      <td>88644</td>\n",
              "      <td>0</td>\n",
              "      <td>0</td>\n",
              "      <td>1</td>\n",
              "      <td>0</td>\n",
              "      <td>0</td>\n",
              "      <td>0</td>\n",
              "      <td>0</td>\n",
              "    </tr>\n",
              "    <tr>\n",
              "      <th>33541</th>\n",
              "      <td>2015</td>\n",
              "      <td>26180</td>\n",
              "      <td>0</td>\n",
              "      <td>0</td>\n",
              "      <td>0</td>\n",
              "      <td>0</td>\n",
              "      <td>0</td>\n",
              "      <td>1</td>\n",
              "      <td>0</td>\n",
              "    </tr>\n",
              "    <tr>\n",
              "      <th>274804</th>\n",
              "      <td>2017</td>\n",
              "      <td>18254</td>\n",
              "      <td>0</td>\n",
              "      <td>0</td>\n",
              "      <td>0</td>\n",
              "      <td>0</td>\n",
              "      <td>0</td>\n",
              "      <td>1</td>\n",
              "      <td>0</td>\n",
              "    </tr>\n",
              "  </tbody>\n",
              "</table>\n",
              "<p>7031 rows × 9 columns</p>\n",
              "</div>\n",
              "      <button class=\"colab-df-convert\" onclick=\"convertToInteractive('df-2af2e570-0dd3-499b-b5d0-4fdbe45f3f5d')\"\n",
              "              title=\"Convert this dataframe to an interactive table.\"\n",
              "              style=\"display:none;\">\n",
              "        \n",
              "  <svg xmlns=\"http://www.w3.org/2000/svg\" height=\"24px\"viewBox=\"0 0 24 24\"\n",
              "       width=\"24px\">\n",
              "    <path d=\"M0 0h24v24H0V0z\" fill=\"none\"/>\n",
              "    <path d=\"M18.56 5.44l.94 2.06.94-2.06 2.06-.94-2.06-.94-.94-2.06-.94 2.06-2.06.94zm-11 1L8.5 8.5l.94-2.06 2.06-.94-2.06-.94L8.5 2.5l-.94 2.06-2.06.94zm10 10l.94 2.06.94-2.06 2.06-.94-2.06-.94-.94-2.06-.94 2.06-2.06.94z\"/><path d=\"M17.41 7.96l-1.37-1.37c-.4-.4-.92-.59-1.43-.59-.52 0-1.04.2-1.43.59L10.3 9.45l-7.72 7.72c-.78.78-.78 2.05 0 2.83L4 21.41c.39.39.9.59 1.41.59.51 0 1.02-.2 1.41-.59l7.78-7.78 2.81-2.81c.8-.78.8-2.07 0-2.86zM5.41 20L4 18.59l7.72-7.72 1.47 1.35L5.41 20z\"/>\n",
              "  </svg>\n",
              "      </button>\n",
              "      \n",
              "  <style>\n",
              "    .colab-df-container {\n",
              "      display:flex;\n",
              "      flex-wrap:wrap;\n",
              "      gap: 12px;\n",
              "    }\n",
              "\n",
              "    .colab-df-convert {\n",
              "      background-color: #E8F0FE;\n",
              "      border: none;\n",
              "      border-radius: 50%;\n",
              "      cursor: pointer;\n",
              "      display: none;\n",
              "      fill: #1967D2;\n",
              "      height: 32px;\n",
              "      padding: 0 0 0 0;\n",
              "      width: 32px;\n",
              "    }\n",
              "\n",
              "    .colab-df-convert:hover {\n",
              "      background-color: #E2EBFA;\n",
              "      box-shadow: 0px 1px 2px rgba(60, 64, 67, 0.3), 0px 1px 3px 1px rgba(60, 64, 67, 0.15);\n",
              "      fill: #174EA6;\n",
              "    }\n",
              "\n",
              "    [theme=dark] .colab-df-convert {\n",
              "      background-color: #3B4455;\n",
              "      fill: #D2E3FC;\n",
              "    }\n",
              "\n",
              "    [theme=dark] .colab-df-convert:hover {\n",
              "      background-color: #434B5C;\n",
              "      box-shadow: 0px 1px 3px 1px rgba(0, 0, 0, 0.15);\n",
              "      filter: drop-shadow(0px 1px 2px rgba(0, 0, 0, 0.3));\n",
              "      fill: #FFFFFF;\n",
              "    }\n",
              "  </style>\n",
              "\n",
              "      <script>\n",
              "        const buttonEl =\n",
              "          document.querySelector('#df-2af2e570-0dd3-499b-b5d0-4fdbe45f3f5d button.colab-df-convert');\n",
              "        buttonEl.style.display =\n",
              "          google.colab.kernel.accessAllowed ? 'block' : 'none';\n",
              "\n",
              "        async function convertToInteractive(key) {\n",
              "          const element = document.querySelector('#df-2af2e570-0dd3-499b-b5d0-4fdbe45f3f5d');\n",
              "          const dataTable =\n",
              "            await google.colab.kernel.invokeFunction('convertToInteractive',\n",
              "                                                     [key], {});\n",
              "          if (!dataTable) return;\n",
              "\n",
              "          const docLinkHtml = 'Like what you see? Visit the ' +\n",
              "            '<a target=\"_blank\" href=https://colab.research.google.com/notebooks/data_table.ipynb>data table notebook</a>'\n",
              "            + ' to learn more about interactive tables.';\n",
              "          element.innerHTML = '';\n",
              "          dataTable['output_type'] = 'display_data';\n",
              "          await google.colab.output.renderOutput(dataTable, element);\n",
              "          const docLink = document.createElement('div');\n",
              "          docLink.innerHTML = docLinkHtml;\n",
              "          element.appendChild(docLink);\n",
              "        }\n",
              "      </script>\n",
              "    </div>\n",
              "  </div>\n",
              "  "
            ]
          },
          "metadata": {},
          "execution_count": 5
        }
      ],
      "source": [
        "# Separación de datos en set de entrenamiento y test\n",
        "from sklearn.model_selection import train_test_split\n",
        "X_train, X_test, y_train, y_test = train_test_split(X, y, test_size=0.33, random_state=42)\n",
        "X_train"
      ]
    },
    {
      "cell_type": "markdown",
      "metadata": {
        "id": "4kB3Ke0vl7rd"
      },
      "source": [
        "### Punto 1 - Árbol de decisión manual\n",
        "\n",
        "En la celda 1 creen un árbol de decisión **manualmente**  que considere los set de entrenamiento y test definidos anteriormente y presenten el acurracy del modelo en el set de test."
      ]
    },
    {
      "cell_type": "code",
      "execution_count": 6,
      "metadata": {
        "id": "uP-qB5msl7re",
        "colab": {
          "base_uri": "https://localhost:8080/"
        },
        "outputId": "2ba9e8e0-d3a9-4f6b-849d-5b2b6dfc6d9b"
      },
      "outputs": [
        {
          "output_type": "stream",
          "name": "stdout",
          "text": [
            "\n",
            "Accuracy con DT:  0.8830831408775982\n"
          ]
        }
      ],
      "source": [
        "# Celda 1\n",
        "# Celda 4\n",
        "# Definición de la función que calcula el gini index\n",
        "def gini(y):\n",
        "    if y.shape[0] == 0:\n",
        "        return 0\n",
        "    else:\n",
        "        return 1 - (y.mean()**2 + (1 - y.mean())**2)\n",
        "\n",
        "# Definición de la función gini_imputiry para calular la ganancia de una variable predictora j dado el punto de corte k\n",
        "def gini_impurity(X_col, y, split):\n",
        "    \n",
        "    filter_l = X_col < split\n",
        "    y_l = y.loc[filter_l]\n",
        "    y_r = y.loc[~filter_l]\n",
        "    \n",
        "    n_l = y_l.shape[0]\n",
        "    n_r = y_r.shape[0]\n",
        "    \n",
        "    gini_y = gini(y)\n",
        "    gini_l = gini(y_l)\n",
        "    gini_r = gini(y_r)\n",
        "    \n",
        "    gini_impurity_ = gini_y - (n_l / (n_l + n_r) * gini_l + n_r / (n_l + n_r) * gini_r)\n",
        "    \n",
        "    return gini_impurity_\n",
        "\n",
        "# Definición de la función best_split para calcular cuál es la mejor variable y punto de cortepara hacer la bifurcación del árbol\n",
        "def best_split(X, y, num_pct=10):\n",
        "    \n",
        "    features = range(X.shape[1])\n",
        "    \n",
        "    best_split = [0, 0, 0]  # j, split, gain\n",
        "    \n",
        "    # Para todas las varibles \n",
        "    for j in features:\n",
        "        \n",
        "        splits = np.percentile(X.iloc[:, j], np.arange(0, 100, 100.0 / (num_pct+1)).tolist())\n",
        "        splits = np.unique(splits)[1:]\n",
        "        \n",
        "        # Para cada partición\n",
        "        for split in splits:\n",
        "            gain = gini_impurity(X.iloc[:, j], y, split)\n",
        "                        \n",
        "            if gain > best_split[2]:\n",
        "                best_split = [j, split, gain]\n",
        "    \n",
        "    return best_split\n",
        "\n",
        "# Obtención de la variable 'j', su punto de corte 'split' y su ganancia 'gain'\n",
        "#j, split, gain = best_split(XTotal, yTotal, 5)\n",
        "#j, split, gain\n",
        "\n",
        "# Definición de la función tree_grow para hacer un crecimiento recursivo del árbol\n",
        "def tree_grow(X, y, level=0, min_gain=0.001, max_depth=None, num_pct=10):\n",
        "    \n",
        "    # Si solo es una observación\n",
        "    if X.shape[0] == 1:\n",
        "        tree = dict(y_pred=y.iloc[:1].values[0], y_prob=0.5, level=level, split=-1, n_samples=1, gain=0)\n",
        "        return tree\n",
        "    \n",
        "    # Calcular la mejor división\n",
        "    j, split, gain = best_split(X, y, num_pct)\n",
        "    \n",
        "    # Guardar el árbol y estimar la predicción\n",
        "    y_pred = int(y.mean() >= 0.5) \n",
        "    y_prob = (y.sum() + 1.0) / (y.shape[0] + 2.0)  # Corrección Laplace \n",
        "    \n",
        "    tree = dict(y_pred=y_pred, y_prob=y_prob, level=level, split=-1, n_samples=X.shape[0], gain=gain)\n",
        "    # Revisar el criterio de parada \n",
        "    if gain < min_gain:\n",
        "        return tree\n",
        "    if max_depth is not None:\n",
        "        if level >= max_depth:\n",
        "            return tree   \n",
        "    \n",
        "    # Continuar creando la partición\n",
        "    filter_l = X.iloc[:, j] < split\n",
        "    X_l, y_l = X.loc[filter_l], y.loc[filter_l]\n",
        "    X_r, y_r = X.loc[~filter_l], y.loc[~filter_l]\n",
        "    tree['split'] = [j, split]\n",
        "\n",
        "    # Siguiente iteración para cada partición\n",
        "    \n",
        "    tree['sl'] = tree_grow(X_l, y_l, level + 1, min_gain=min_gain, max_depth=max_depth, num_pct=num_pct)\n",
        "    tree['sr'] = tree_grow(X_r, y_r, level + 1, min_gain=min_gain, max_depth=max_depth, num_pct=num_pct)\n",
        "    \n",
        "    return tree\n",
        "\n",
        "# Definición de la función tree_predict para hacer predicciones según las variables 'X' y el árbol 'tree'\n",
        "def tree_predict(X, tree, proba=False):\n",
        "    \n",
        "    predicted = np.ones(X.shape[0])\n",
        "\n",
        "    # Revisar si es el nodo final\n",
        "    if tree['split'] == -1:\n",
        "        if not proba:\n",
        "            predicted = predicted * tree['y_pred']\n",
        "        else:\n",
        "            predicted = predicted * tree['y_prob']\n",
        "            \n",
        "    else:\n",
        "        \n",
        "        j, split = tree['split']\n",
        "        filter_l = (X.iloc[:, j] < split)\n",
        "        X_l = X.loc[filter_l]\n",
        "        X_r = X.loc[~filter_l]\n",
        "\n",
        "        if X_l.shape[0] == 0:  # Si el nodo izquierdo está vacio solo continua con el derecho \n",
        "            predicted[~filter_l] = tree_predict(X_r, tree['sr'], proba)\n",
        "        elif X_r.shape[0] == 0:  #  Si el nodo derecho está vacio solo continua con el izquierdo\n",
        "            predicted[filter_l] = tree_predict(X_l, tree['sl'], proba)\n",
        "        else:\n",
        "            predicted[filter_l] = tree_predict(X_l, tree['sl'], proba)\n",
        "            predicted[~filter_l] = tree_predict(X_r, tree['sr'], proba)\n",
        "\n",
        "    return predicted\n",
        "\n",
        "import numpy as np\n",
        "from sklearn.metrics import accuracy_score\n",
        "# Aplicación de la función tree_grow\n",
        "tree = tree_grow(X_train, y_train, level=0, min_gain=0.001, max_depth=6, num_pct=10)\n",
        "#print(\"Árbol generado: \\n\", tree)\n",
        "\n",
        "# Ejecución de función tree_predict\n",
        "y_pred = tree_predict(X_test, tree, False)\n",
        "acc_dt = accuracy_score(y_test, y_pred)\n",
        "print('\\nAccuracy con DT: ', acc_dt )\n",
        "#print('\\ny_pred con DT: ', y_pred)"
      ]
    },
    {
      "cell_type": "markdown",
      "metadata": {
        "id": "CFGwyloxl7rf"
      },
      "source": [
        "### Punto 2 - Bagging manual\n",
        "\n",
        "En la celda 2 creen un modelo bagging **manualmente** con 10 árboles de clasificación y comenten sobre el desempeño del modelo."
      ]
    },
    {
      "cell_type": "code",
      "execution_count": 7,
      "metadata": {
        "id": "5AQ6mTGul7rf",
        "colab": {
          "base_uri": "https://localhost:8080/"
        },
        "outputId": "2aa95132-856a-4a78-8a1d-6962f5b3a4ec"
      },
      "outputs": [
        {
          "output_type": "stream",
          "name": "stdout",
          "text": [
            "El árbol 0 tiene un accuracy de:  0.8334295612009238\n",
            "El árbol 1 tiene un accuracy de:  0.8458429561200924\n",
            "El árbol 2 tiene un accuracy de:  0.836027713625866\n",
            "El árbol 3 tiene un accuracy de:  0.8371824480369515\n",
            "El árbol 4 tiene un accuracy de:  0.8420900692840647\n",
            "El árbol 5 tiene un accuracy de:  0.8366050808314087\n",
            "El árbol 6 tiene un accuracy de:  0.8420900692840647\n",
            "El árbol 7 tiene un accuracy de:  0.8308314087759815\n",
            "El árbol 8 tiene un accuracy de:  0.8394919168591224\n",
            "El árbol 9 tiene un accuracy de:  0.8340069284064665\n",
            "\n",
            "Accuracy_bagging:  0.8556581986143187\n"
          ]
        }
      ],
      "source": [
        "# Celda 2\n",
        "\n",
        "def mbagging(n_B, X_train, X_test, y_train, y_test):\n",
        "  import numpy as np\n",
        "  from sklearn.tree import DecisionTreeClassifier\n",
        "  from sklearn.metrics import accuracy_score\n",
        "\n",
        "  # Creación de 10 muestras de bootstrap\n",
        "  # np.random.seed(1)\n",
        "  n_samples = X_train.shape[0] # Número de muestras\n",
        "  samples = [np.random.choice(a=n_samples, size=n_samples, replace=True) for _ in range(1, n_B + 1)]\n",
        "\n",
        "  # Definición del modelo usando DecisionTreeRegressor de sklearn\n",
        "  treeclas = DecisionTreeClassifier(max_depth=None, random_state=123)\n",
        "\n",
        "  # DataFrame para guardar las predicciones de cada árbol\n",
        "  y_pred_df = pd.DataFrame(index=X_test.index, columns=[list(range(n_B))])\n",
        "\n",
        "  for i, sample in enumerate(samples):\n",
        "    Xtrain = X_train.iloc[sample]\n",
        "    ytrain = y_train.iloc[sample]\n",
        "    treeclas.fit(Xtrain, ytrain)\n",
        "    y_pred_df.iloc[:,i] = treeclas.predict(X_test)\n",
        "\n",
        "  y_pred_bag = (y_pred_df.sum(axis=1) >= (n_B / 2)).astype(np.int)\n",
        "\n",
        "  return y_pred_df, y_pred_bag\n",
        "\n",
        "n_B = 10\n",
        "y_pred_df, y_pred_mbag = mbagging(n_B, X_train, X_test, y_train, y_test)\n",
        "\n",
        "# Desempeño de cada árbol\n",
        "for i in range(n_B):\n",
        "  print('El árbol', i, 'tiene un accuracy de: ', accuracy_score(y_test, y_pred_df.iloc[:,i]))\n",
        "\n",
        "acc_mbag = accuracy_score(y_test, y_pred_mbag)\n",
        "print('\\nAccuracy_bagging: ', acc_mbag)"
      ]
    },
    {
      "cell_type": "markdown",
      "source": [
        "**Conclusión**\n",
        "\n",
        "El accuracy del bagging de los 10 árboles (0.855) mejora los accuracy obtenidos individualmente por cada uno de los árboles (el máximo obtenido es de 0.846)"
      ],
      "metadata": {
        "id": "E6DPSn5HNhTo"
      }
    },
    {
      "cell_type": "markdown",
      "metadata": {
        "id": "pbHThEjvl7rg"
      },
      "source": [
        "### Punto 3 - Bagging con librería\n",
        "\n",
        "En la celda 3, con la librería sklearn, entrenen un modelo bagging con 10 árboles de clasificación y el parámetro `max_features` igual a `log(n_features)`. Presenten el acurracy del modelo en el set de test y comenten sus resultados."
      ]
    },
    {
      "cell_type": "code",
      "execution_count": 21,
      "metadata": {
        "id": "CzanBg_cl7rg",
        "colab": {
          "base_uri": "https://localhost:8080/"
        },
        "outputId": "82dc4616-5d01-4bba-ee0a-4c4952cb481d"
      },
      "outputs": [
        {
          "output_type": "stream",
          "name": "stdout",
          "text": [
            "\n",
            "Accuracy_bagging:  0.8429561200923787\n"
          ]
        }
      ],
      "source": [
        "# Celda 3\n",
        "\n",
        "# Uso de BaggingRegressor de la libreria (sklearn) donde se usa el modelo DecisionTreeRegressor como estimador\n",
        "from sklearn.ensemble import BaggingClassifier\n",
        "from sklearn.tree import DecisionTreeClassifier\n",
        "\n",
        "n_features = X_train.shape[1]\n",
        "bagclas = BaggingClassifier(DecisionTreeClassifier(max_features='log2'), n_estimators=10, \n",
        "                          bootstrap=True, oob_score=True, random_state=1) # , max_features=np.log(n_features)\n",
        "\n",
        "# Entrenamiento del modelo con set de entrenamiento y predicción en el set de test\n",
        "bagclas.fit(X_train, y_train)\n",
        "y_pred_lbag = bagclas.predict(X_test)\n",
        "\n",
        "acc_bag = accuracy_score(y_test, y_pred_lbag)\n",
        "\n",
        "print('\\nAccuracy_bagging: ', acc_bag)"
      ]
    },
    {
      "cell_type": "markdown",
      "source": [
        "**Conclusión**\n",
        "\n",
        "Al hacer uso de la librería de bagging con los parámetros establecidos: 10 estimadores y el número máximo de características igual a la raíz, no se obtienen mejores resultados a los ya obtenidos anteriormente."
      ],
      "metadata": {
        "id": "cr6ngJXrOte-"
      }
    },
    {
      "cell_type": "markdown",
      "metadata": {
        "id": "dFMN8Uxnl7rh"
      },
      "source": [
        "### Punto 4 - Random forest con librería\n",
        "\n",
        "En la celda 4, usando la librería sklearn entrenen un modelo de Randon Forest para clasificación y presenten el acurracy del modelo en el set de test y comenten sus resultados."
      ]
    },
    {
      "cell_type": "code",
      "execution_count": 9,
      "metadata": {
        "id": "SowxTg0ql7rh",
        "colab": {
          "base_uri": "https://localhost:8080/"
        },
        "outputId": "66a6f538-b267-46ad-9f56-881f85262253"
      },
      "outputs": [
        {
          "output_type": "stream",
          "name": "stdout",
          "text": [
            "\n",
            "Accuracy_RF:  0.8443995381062356\n"
          ]
        }
      ],
      "source": [
        "# Celda 4\n",
        "from sklearn.ensemble import RandomForestClassifier\n",
        "from sklearn.model_selection import cross_val_score\n",
        "\n",
        "# Definición de modelo Random Forest para un problema de clasificación\n",
        "clf = RandomForestClassifier(random_state=0)\n",
        "\n",
        "# Entrenamiento del modelo con set de entrenamiento y predicción en el set de test\n",
        "clf.fit(X_train, y_train)\n",
        "y_pred_lRF = clf.predict(X_test)\n",
        "\n",
        "acc_RF = accuracy_score(y_test, y_pred_lRF)\n",
        "print('\\nAccuracy_RF: ', acc_RF)\n",
        "\n",
        "#Impresión de desempeño del modelo usando la función cross_val_score  (más detalles en https://scikit-learn.org/stable/modules/generated/sklearn.model_selection.cross_val_score.html)\n",
        "#pd.Series(cross_val_score(clf, X, y, cv=10)).describe()"
      ]
    },
    {
      "cell_type": "markdown",
      "source": [
        "**Conclusión**\n",
        "\n",
        "Al hacer uso del modelo de Random Forest sin calibrar se observa que el accuracy obtenido aún no obtiene una mejora a los modelos ya definidos anteriormente."
      ],
      "metadata": {
        "id": "9YeQeu20PbDN"
      }
    },
    {
      "cell_type": "markdown",
      "metadata": {
        "id": "2az_wZajl7rh"
      },
      "source": [
        "### Punto 5 - Calibración de parámetros Random forest\n",
        "\n",
        "En la celda 5, calibren los parámetros max_depth, max_features y n_estimators del modelo de Randon Forest para clasificación. Presenten el acurracy del modelo en el set de test, comenten sus resultados y análicen cómo cada parámetro afecta el modelo."
      ]
    },
    {
      "cell_type": "code",
      "execution_count": 10,
      "metadata": {
        "id": "8wGWk4d4l7ri",
        "colab": {
          "base_uri": "https://localhost:8080/",
          "height": 296
        },
        "outputId": "d56b402a-e3b4-4216-9643-e0cdea98effd"
      },
      "outputs": [
        {
          "output_type": "execute_result",
          "data": {
            "text/plain": [
              "Text(0, 0.5, 'Accuracy')"
            ]
          },
          "metadata": {},
          "execution_count": 10
        },
        {
          "output_type": "display_data",
          "data": {
            "text/plain": [
              "<Figure size 432x288 with 1 Axes>"
            ],
            "image/png": "[encoded data removed]"
          },
          "metadata": {
            "needs_background": "light"
          }
        }
      ],
      "source": [
        "# Celda 5\n",
        "import pandas as pd\n",
        "import numpy as np\n",
        "import matplotlib.pyplot as plt\n",
        "\n",
        "# Calibración de max_depth\n",
        "# Creación de lista de valores para iterar sobre diferentes valores de n_estimators\n",
        "depth_range = range(1, 40, 1)\n",
        "\n",
        "# Definición de lista para almacenar la exactitud (accuracy) promedio para cada valor de n_estimators\n",
        "accuracy_scores = []\n",
        "\n",
        "# Uso de un 5-fold cross-validation para cada valor de n_estimators\n",
        "for depth in depth_range:\n",
        "  clf = RandomForestClassifier(max_depth=depth, random_state=1, n_jobs=-1) #\n",
        "  accuracy_scores.append(cross_val_score(clf, X, y, cv=5, scoring='accuracy').mean())\n",
        "\n",
        "# Gráfica del desempeño del modelo vs la cantidad de n_estimators\n",
        "plt.plot(depth_range, accuracy_scores)\n",
        "plt.xlabel('depth')\n",
        "plt.ylabel('Accuracy')"
      ]
    },
    {
      "cell_type": "code",
      "source": [
        "# Calibración de n_estimators\n",
        "max_acc_depth = np.max(accuracy_scores)\n",
        "depth_max_acc = depth_range[accuracy_scores.index(max_acc_depth)]\n",
        "print(\"max_acc_depth: \", max_acc_depth)\n",
        "print(\"depth_max_acc: \", depth_max_acc)\n",
        "\n",
        "# Creación de lista de valores para iterar sobre diferentes valores de n_estimators\n",
        "estimator_range = range(10, 310, 10)\n",
        "\n",
        "# Definición de lista para almacenar la exactitud (accuracy) promedio para cada valor de n_estimators\n",
        "accuracy_scores = []\n",
        "\n",
        "# Uso de un 5-fold cross-validation para cada valor de n_estimators\n",
        "for estimator in estimator_range:\n",
        "  clf = RandomForestClassifier(max_depth=depth_max_acc, n_estimators=estimator, random_state=1, n_jobs=-1) #\n",
        "  accuracy_scores.append(cross_val_score(clf, X, y, cv=5, scoring='accuracy').mean())\n",
        "\n",
        "# Gráfica del desempeño del modelo vs la cantidad de n_estimators\n",
        "plt.plot(estimator_range, accuracy_scores)\n",
        "plt.xlabel('n_estimators')\n",
        "plt.ylabel('Accuracy')"
      ],
      "metadata": {
        "colab": {
          "base_uri": "https://localhost:8080/",
          "height": 332
        },
        "id": "8sfzJI5RkxfX",
        "outputId": "f0a4434b-c743-4d68-dca0-2c71f79db46b"
      },
      "execution_count": 11,
      "outputs": [
        {
          "output_type": "stream",
          "name": "stdout",
          "text": [
            "max_acc_depth:  0.884992853739876\n",
            "depth_max_acc:  6\n"
          ]
        },
        {
          "output_type": "execute_result",
          "data": {
            "text/plain": [
              "Text(0, 0.5, 'Accuracy')"
            ]
          },
          "metadata": {},
          "execution_count": 11
        },
        {
          "output_type": "display_data",
          "data": {
            "text/plain": [
              "<Figure size 432x288 with 1 Axes>"
            ],
            "image/png": "[encoded data removed]"
          },
          "metadata": {
            "needs_background": "light"
          }
        }
      ]
    },
    {
      "cell_type": "code",
      "source": [
        "# Calibracióm max_features\n",
        "max_acc_est = np.max(accuracy_scores)\n",
        "n_est_max_acc = estimator_range[accuracy_scores.index(max_acc_est)]\n",
        "print(\"max_acc: \", max_acc_est)\n",
        "print(\"n_est_max_acc: \", n_est_max_acc)\n",
        "\n",
        "# Creación de lista de valores para iterar sobre diferentes valores de max_features\n",
        "feature_cols = X_train.shape[1]\n",
        "print(\"feature_cols: \", feature_cols)\n",
        "feature_range = range(1, feature_cols+1)\n",
        "\n",
        "# Definición de lista para almacenar la exactitud (accuracy) promedio para cada valor de max_features\n",
        "accuracy_scores = []\n",
        "\n",
        "# Uso de un 10-fold cross-validation para cada valor de max_features\n",
        "for feature in feature_range:\n",
        "    clf = RandomForestClassifier(max_depth=depth_max_acc, n_estimators=n_est_max_acc, max_features=feature, random_state=1, n_jobs=-1)\n",
        "    accuracy_scores.append(cross_val_score(clf, X, y, cv=5, scoring='accuracy').mean())\n",
        "\n",
        "# Gráfica del desempeño del modelo vs la cantidad de max_features\n",
        "plt.plot(feature_range, accuracy_scores)\n",
        "plt.xlabel('max_features')\n",
        "plt.ylabel('Accuracy')"
      ],
      "metadata": {
        "colab": {
          "base_uri": "https://localhost:8080/",
          "height": 350
        },
        "id": "MM-d-pT8gdho",
        "outputId": "0dbbadf4-4cab-4e87-f956-d4a1002cfdd5"
      },
      "execution_count": 12,
      "outputs": [
        {
          "output_type": "stream",
          "name": "stdout",
          "text": [
            "max_acc:  0.8857551214864221\n",
            "n_est_max_acc:  300\n",
            "feature_cols:  9\n"
          ]
        },
        {
          "output_type": "execute_result",
          "data": {
            "text/plain": [
              "Text(0, 0.5, 'Accuracy')"
            ]
          },
          "metadata": {},
          "execution_count": 12
        },
        {
          "output_type": "display_data",
          "data": {
            "text/plain": [
              "<Figure size 432x288 with 1 Axes>"
            ],
            "image/png": "[encoded data removed]"
          },
          "metadata": {
            "needs_background": "light"
          }
        }
      ]
    },
    {
      "cell_type": "code",
      "source": [
        "# Implementación de un Random Forest con los mejores parámetros\n",
        "max_acc_feat = np.max(accuracy_scores)\n",
        "feat_max_acc = feature_range[accuracy_scores.index(max_acc_feat)]\n",
        "print(\"max_acc: \", max_acc_feat)\n",
        "print(\"feat_max_acc: \", feat_max_acc)\n",
        "print(\"n_est_max_acc: \", n_est_max_acc)\n",
        "print(\"depth_max_acc: \", depth_max_acc)\n",
        "\n",
        "# Definición del modelo con los parámetros max_depth, max_features y n_estimators \n",
        "clf = RandomForestClassifier(max_depth=depth_max_acc, n_estimators=n_est_max_acc, max_features=feat_max_acc, random_state=1, n_jobs=-1)\n",
        "clf.fit(X_train, y_train)\n",
        "\n",
        "# Entrenamiento del modelo con set de entrenamiento y predicción en el set de test\n",
        "y_pred_best_RF = clf.predict(X_test)\n",
        "acc_RF_cal = accuracy_score(y_test, y_pred_best_RF)\n",
        "print('\\nAccuracy_RF: ', acc_RF_cal)\n",
        "\n",
        "# Impresión de resultados de desemepeño del modelo\n",
        "feature_cols_name = X_test.columns\n",
        "pd.DataFrame({'feature':feature_cols_name, 'importance':clf.feature_importances_}).sort_values('importance')\n",
        "\n"
      ],
      "metadata": {
        "colab": {
          "base_uri": "https://localhost:8080/",
          "height": 436
        },
        "id": "0FklNePLx8z8",
        "outputId": "7cc4f557-72c9-429c-a816-a6791fca662f"
      },
      "execution_count": 13,
      "outputs": [
        {
          "output_type": "stream",
          "name": "stdout",
          "text": [
            "max_acc:  0.8857551214864221\n",
            "feat_max_acc:  3\n",
            "n_est_max_acc:  300\n",
            "depth_max_acc:  6\n",
            "\n",
            "Accuracy_RF:  0.8865473441108545\n"
          ]
        },
        {
          "output_type": "execute_result",
          "data": {
            "text/plain": [
              "       feature  importance\n",
              "5     M_CamryL    0.003685\n",
              "4  M_CamryBase    0.004078\n",
              "2      M_Camry    0.005084\n",
              "6    M_CamryLE    0.008489\n",
              "8   M_CamryXLE    0.011274\n",
              "7    M_CamrySE    0.027890\n",
              "3   M_Camry4dr    0.084715\n",
              "0         Year    0.402455\n",
              "1      Mileage    0.452329"
            ],
            "text/html": [
              "\n",
              "  <div id=\"df-79b9a8d2-04ba-4ae1-a413-6d70a379a04d\">\n",
              "    <div class=\"colab-df-container\">\n",
              "      <div>\n",
              "<style scoped>\n",
              "    .dataframe tbody tr th:only-of-type {\n",
              "        vertical-align: middle;\n",
              "    }\n",
              "\n",
              "    .dataframe tbody tr th {\n",
              "        vertical-align: top;\n",
              "    }\n",
              "\n",
              "    .dataframe thead th {\n",
              "        text-align: right;\n",
              "    }\n",
              "</style>\n",
              "<table border=\"1\" class=\"dataframe\">\n",
              "  <thead>\n",
              "    <tr style=\"text-align: right;\">\n",
              "      <th></th>\n",
              "      <th>feature</th>\n",
              "      <th>importance</th>\n",
              "    </tr>\n",
              "  </thead>\n",
              "  <tbody>\n",
              "    <tr>\n",
              "      <th>5</th>\n",
              "      <td>M_CamryL</td>\n",
              "      <td>0.003685</td>\n",
              "    </tr>\n",
              "    <tr>\n",
              "      <th>4</th>\n",
              "      <td>M_CamryBase</td>\n",
              "      <td>0.004078</td>\n",
              "    </tr>\n",
              "    <tr>\n",
              "      <th>2</th>\n",
              "      <td>M_Camry</td>\n",
              "      <td>0.005084</td>\n",
              "    </tr>\n",
              "    <tr>\n",
              "      <th>6</th>\n",
              "      <td>M_CamryLE</td>\n",
              "      <td>0.008489</td>\n",
              "    </tr>\n",
              "    <tr>\n",
              "      <th>8</th>\n",
              "      <td>M_CamryXLE</td>\n",
              "      <td>0.011274</td>\n",
              "    </tr>\n",
              "    <tr>\n",
              "      <th>7</th>\n",
              "      <td>M_CamrySE</td>\n",
              "      <td>0.027890</td>\n",
              "    </tr>\n",
              "    <tr>\n",
              "      <th>3</th>\n",
              "      <td>M_Camry4dr</td>\n",
              "      <td>0.084715</td>\n",
              "    </tr>\n",
              "    <tr>\n",
              "      <th>0</th>\n",
              "      <td>Year</td>\n",
              "      <td>0.402455</td>\n",
              "    </tr>\n",
              "    <tr>\n",
              "      <th>1</th>\n",
              "      <td>Mileage</td>\n",
              "      <td>0.452329</td>\n",
              "    </tr>\n",
              "  </tbody>\n",
              "</table>\n",
              "</div>\n",
              "      <button class=\"colab-df-convert\" onclick=\"convertToInteractive('df-79b9a8d2-04ba-4ae1-a413-6d70a379a04d')\"\n",
              "              title=\"Convert this dataframe to an interactive table.\"\n",
              "              style=\"display:none;\">\n",
              "        \n",
              "  <svg xmlns=\"http://www.w3.org/2000/svg\" height=\"24px\"viewBox=\"0 0 24 24\"\n",
              "       width=\"24px\">\n",
              "    <path d=\"M0 0h24v24H0V0z\" fill=\"none\"/>\n",
              "    <path d=\"M18.56 5.44l.94 2.06.94-2.06 2.06-.94-2.06-.94-.94-2.06-.94 2.06-2.06.94zm-11 1L8.5 8.5l.94-2.06 2.06-.94-2.06-.94L8.5 2.5l-.94 2.06-2.06.94zm10 10l.94 2.06.94-2.06 2.06-.94-2.06-.94-.94-2.06-.94 2.06-2.06.94z\"/><path d=\"M17.41 7.96l-1.37-1.37c-.4-.4-.92-.59-1.43-.59-.52 0-1.04.2-1.43.59L10.3 9.45l-7.72 7.72c-.78.78-.78 2.05 0 2.83L4 21.41c.39.39.9.59 1.41.59.51 0 1.02-.2 1.41-.59l7.78-7.78 2.81-2.81c.8-.78.8-2.07 0-2.86zM5.41 20L4 18.59l7.72-7.72 1.47 1.35L5.41 20z\"/>\n",
              "  </svg>\n",
              "      </button>\n",
              "      \n",
              "  <style>\n",
              "    .colab-df-container {\n",
              "      display:flex;\n",
              "      flex-wrap:wrap;\n",
              "      gap: 12px;\n",
              "    }\n",
              "\n",
              "    .colab-df-convert {\n",
              "      background-color: #E8F0FE;\n",
              "      border: none;\n",
              "      border-radius: 50%;\n",
              "      cursor: pointer;\n",
              "      display: none;\n",
              "      fill: #1967D2;\n",
              "      height: 32px;\n",
              "      padding: 0 0 0 0;\n",
              "      width: 32px;\n",
              "    }\n",
              "\n",
              "    .colab-df-convert:hover {\n",
              "      background-color: #E2EBFA;\n",
              "      box-shadow: 0px 1px 2px rgba(60, 64, 67, 0.3), 0px 1px 3px 1px rgba(60, 64, 67, 0.15);\n",
              "      fill: #174EA6;\n",
              "    }\n",
              "\n",
              "    [theme=dark] .colab-df-convert {\n",
              "      background-color: #3B4455;\n",
              "      fill: #D2E3FC;\n",
              "    }\n",
              "\n",
              "    [theme=dark] .colab-df-convert:hover {\n",
              "      background-color: #434B5C;\n",
              "      box-shadow: 0px 1px 3px 1px rgba(0, 0, 0, 0.15);\n",
              "      filter: drop-shadow(0px 1px 2px rgba(0, 0, 0, 0.3));\n",
              "      fill: #FFFFFF;\n",
              "    }\n",
              "  </style>\n",
              "\n",
              "      <script>\n",
              "        const buttonEl =\n",
              "          document.querySelector('#df-79b9a8d2-04ba-4ae1-a413-6d70a379a04d button.colab-df-convert');\n",
              "        buttonEl.style.display =\n",
              "          google.colab.kernel.accessAllowed ? 'block' : 'none';\n",
              "\n",
              "        async function convertToInteractive(key) {\n",
              "          const element = document.querySelector('#df-79b9a8d2-04ba-4ae1-a413-6d70a379a04d');\n",
              "          const dataTable =\n",
              "            await google.colab.kernel.invokeFunction('convertToInteractive',\n",
              "                                                     [key], {});\n",
              "          if (!dataTable) return;\n",
              "\n",
              "          const docLinkHtml = 'Like what you see? Visit the ' +\n",
              "            '<a target=\"_blank\" href=https://colab.research.google.com/notebooks/data_table.ipynb>data table notebook</a>'\n",
              "            + ' to learn more about interactive tables.';\n",
              "          element.innerHTML = '';\n",
              "          dataTable['output_type'] = 'display_data';\n",
              "          await google.colab.output.renderOutput(dataTable, element);\n",
              "          const docLink = document.createElement('div');\n",
              "          docLink.innerHTML = docLinkHtml;\n",
              "          element.appendChild(docLink);\n",
              "        }\n",
              "      </script>\n",
              "    </div>\n",
              "  </div>\n",
              "  "
            ]
          },
          "metadata": {},
          "execution_count": 13
        }
      ]
    },
    {
      "cell_type": "markdown",
      "source": [
        "**Conclusión**\n",
        "\n",
        "Al calibrar los parámetros: máximo número de características, el número de estimadores y la máxima profundidad en cada árbol se obtiene una mejora significativa a los modelos ya definidos anteriormente. Por otro lado, al variar la profundidad de los arboles se observa que a partir de cierta cantidad el accuracy se desmejora. En cuanto al número de estimadores, se observa que el accuracy va aumentando hasta llegar a una estabilidad donde no hay una mejora sustancial. Finalmente, al variar el número de características, se observa que que hay un óptimo alrededor de 3 que viene siendo la raíz cuadrada del número total de características de este problema en particular."
      ],
      "metadata": {
        "id": "Hi_FxaYbP3vL"
      }
    },
    {
      "cell_type": "markdown",
      "metadata": {
        "id": "M8RHkemEl7ri"
      },
      "source": [
        "### Punto 6 - XGBoost con librería\n",
        "\n",
        "En la celda 6 implementen un modelo XGBoost de clasificación con la librería sklearn, presenten el acurracy del modelo en el set de test y comenten sus resultados."
      ]
    },
    {
      "cell_type": "code",
      "execution_count": 14,
      "metadata": {
        "id": "Qu72u7Utl7ri",
        "colab": {
          "base_uri": "https://localhost:8080/",
          "height": 383
        },
        "outputId": "3ea15623-b8a5-4278-8fc3-f42ae8c33f77"
      },
      "outputs": [
        {
          "output_type": "stream",
          "name": "stdout",
          "text": [
            "\n",
            "Accuracy_XG:  0.8877020785219399\n",
            "f1_score_XG:  0.9070045421945971\n"
          ]
        },
        {
          "output_type": "execute_result",
          "data": {
            "text/plain": [
              "       feature  importance\n",
              "3   M_Camry4dr    0.000000\n",
              "4  M_CamryBase    0.004520\n",
              "7    M_CamrySE    0.007249\n",
              "5     M_CamryL    0.031684\n",
              "2      M_Camry    0.042683\n",
              "8   M_CamryXLE    0.054284\n",
              "6    M_CamryLE    0.092740\n",
              "1      Mileage    0.312486\n",
              "0         Year    0.454355"
            ],
            "text/html": [
              "\n",
              "  <div id=\"df-33cbcc02-dc6b-4b25-9e2b-47730a04296f\">\n",
              "    <div class=\"colab-df-container\">\n",
              "      <div>\n",
              "<style scoped>\n",
              "    .dataframe tbody tr th:only-of-type {\n",
              "        vertical-align: middle;\n",
              "    }\n",
              "\n",
              "    .dataframe tbody tr th {\n",
              "        vertical-align: top;\n",
              "    }\n",
              "\n",
              "    .dataframe thead th {\n",
              "        text-align: right;\n",
              "    }\n",
              "</style>\n",
              "<table border=\"1\" class=\"dataframe\">\n",
              "  <thead>\n",
              "    <tr style=\"text-align: right;\">\n",
              "      <th></th>\n",
              "      <th>feature</th>\n",
              "      <th>importance</th>\n",
              "    </tr>\n",
              "  </thead>\n",
              "  <tbody>\n",
              "    <tr>\n",
              "      <th>3</th>\n",
              "      <td>M_Camry4dr</td>\n",
              "      <td>0.000000</td>\n",
              "    </tr>\n",
              "    <tr>\n",
              "      <th>4</th>\n",
              "      <td>M_CamryBase</td>\n",
              "      <td>0.004520</td>\n",
              "    </tr>\n",
              "    <tr>\n",
              "      <th>7</th>\n",
              "      <td>M_CamrySE</td>\n",
              "      <td>0.007249</td>\n",
              "    </tr>\n",
              "    <tr>\n",
              "      <th>5</th>\n",
              "      <td>M_CamryL</td>\n",
              "      <td>0.031684</td>\n",
              "    </tr>\n",
              "    <tr>\n",
              "      <th>2</th>\n",
              "      <td>M_Camry</td>\n",
              "      <td>0.042683</td>\n",
              "    </tr>\n",
              "    <tr>\n",
              "      <th>8</th>\n",
              "      <td>M_CamryXLE</td>\n",
              "      <td>0.054284</td>\n",
              "    </tr>\n",
              "    <tr>\n",
              "      <th>6</th>\n",
              "      <td>M_CamryLE</td>\n",
              "      <td>0.092740</td>\n",
              "    </tr>\n",
              "    <tr>\n",
              "      <th>1</th>\n",
              "      <td>Mileage</td>\n",
              "      <td>0.312486</td>\n",
              "    </tr>\n",
              "    <tr>\n",
              "      <th>0</th>\n",
              "      <td>Year</td>\n",
              "      <td>0.454355</td>\n",
              "    </tr>\n",
              "  </tbody>\n",
              "</table>\n",
              "</div>\n",
              "      <button class=\"colab-df-convert\" onclick=\"convertToInteractive('df-33cbcc02-dc6b-4b25-9e2b-47730a04296f')\"\n",
              "              title=\"Convert this dataframe to an interactive table.\"\n",
              "              style=\"display:none;\">\n",
              "        \n",
              "  <svg xmlns=\"http://www.w3.org/2000/svg\" height=\"24px\"viewBox=\"0 0 24 24\"\n",
              "       width=\"24px\">\n",
              "    <path d=\"M0 0h24v24H0V0z\" fill=\"none\"/>\n",
              "    <path d=\"M18.56 5.44l.94 2.06.94-2.06 2.06-.94-2.06-.94-.94-2.06-.94 2.06-2.06.94zm-11 1L8.5 8.5l.94-2.06 2.06-.94-2.06-.94L8.5 2.5l-.94 2.06-2.06.94zm10 10l.94 2.06.94-2.06 2.06-.94-2.06-.94-.94-2.06-.94 2.06-2.06.94z\"/><path d=\"M17.41 7.96l-1.37-1.37c-.4-.4-.92-.59-1.43-.59-.52 0-1.04.2-1.43.59L10.3 9.45l-7.72 7.72c-.78.78-.78 2.05 0 2.83L4 21.41c.39.39.9.59 1.41.59.51 0 1.02-.2 1.41-.59l7.78-7.78 2.81-2.81c.8-.78.8-2.07 0-2.86zM5.41 20L4 18.59l7.72-7.72 1.47 1.35L5.41 20z\"/>\n",
              "  </svg>\n",
              "      </button>\n",
              "      \n",
              "  <style>\n",
              "    .colab-df-container {\n",
              "      display:flex;\n",
              "      flex-wrap:wrap;\n",
              "      gap: 12px;\n",
              "    }\n",
              "\n",
              "    .colab-df-convert {\n",
              "      background-color: #E8F0FE;\n",
              "      border: none;\n",
              "      border-radius: 50%;\n",
              "      cursor: pointer;\n",
              "      display: none;\n",
              "      fill: #1967D2;\n",
              "      height: 32px;\n",
              "      padding: 0 0 0 0;\n",
              "      width: 32px;\n",
              "    }\n",
              "\n",
              "    .colab-df-convert:hover {\n",
              "      background-color: #E2EBFA;\n",
              "      box-shadow: 0px 1px 2px rgba(60, 64, 67, 0.3), 0px 1px 3px 1px rgba(60, 64, 67, 0.15);\n",
              "      fill: #174EA6;\n",
              "    }\n",
              "\n",
              "    [theme=dark] .colab-df-convert {\n",
              "      background-color: #3B4455;\n",
              "      fill: #D2E3FC;\n",
              "    }\n",
              "\n",
              "    [theme=dark] .colab-df-convert:hover {\n",
              "      background-color: #434B5C;\n",
              "      box-shadow: 0px 1px 3px 1px rgba(0, 0, 0, 0.15);\n",
              "      filter: drop-shadow(0px 1px 2px rgba(0, 0, 0, 0.3));\n",
              "      fill: #FFFFFF;\n",
              "    }\n",
              "  </style>\n",
              "\n",
              "      <script>\n",
              "        const buttonEl =\n",
              "          document.querySelector('#df-33cbcc02-dc6b-4b25-9e2b-47730a04296f button.colab-df-convert');\n",
              "        buttonEl.style.display =\n",
              "          google.colab.kernel.accessAllowed ? 'block' : 'none';\n",
              "\n",
              "        async function convertToInteractive(key) {\n",
              "          const element = document.querySelector('#df-33cbcc02-dc6b-4b25-9e2b-47730a04296f');\n",
              "          const dataTable =\n",
              "            await google.colab.kernel.invokeFunction('convertToInteractive',\n",
              "                                                     [key], {});\n",
              "          if (!dataTable) return;\n",
              "\n",
              "          const docLinkHtml = 'Like what you see? Visit the ' +\n",
              "            '<a target=\"_blank\" href=https://colab.research.google.com/notebooks/data_table.ipynb>data table notebook</a>'\n",
              "            + ' to learn more about interactive tables.';\n",
              "          element.innerHTML = '';\n",
              "          dataTable['output_type'] = 'display_data';\n",
              "          await google.colab.output.renderOutput(dataTable, element);\n",
              "          const docLink = document.createElement('div');\n",
              "          docLink.innerHTML = docLinkHtml;\n",
              "          element.appendChild(docLink);\n",
              "        }\n",
              "      </script>\n",
              "    </div>\n",
              "  </div>\n",
              "  "
            ]
          },
          "metadata": {},
          "execution_count": 14
        }
      ],
      "source": [
        "# Celda 6\n",
        "# Importación y definición de modelo XGBClassifier\n",
        "from xgboost import XGBClassifier\n",
        "from sklearn.metrics import f1_score\n",
        "\n",
        "clf = XGBClassifier()\n",
        "clf\n",
        "\n",
        "# Entrenamiento (fit) y desempeño del modelo XGBClassifier\n",
        "clf.fit(X_train, y_train)\n",
        "y_pred_XG_ = clf.predict(X_test)\n",
        "\n",
        "acc_XG = accuracy_score(y_pred_XG_, y_test.values)\n",
        "print('\\nAccuracy_XG: ', acc_XG)\n",
        "print('f1_score_XG: ', f1_score(y_pred_XG_, y_test.values))\n",
        "\n",
        "# Impresión de resultados de desemepeño del modelo\n",
        "feature_cols_name = X_test.columns\n",
        "pd.DataFrame({'feature':feature_cols_name, 'importance':clf.feature_importances_}).sort_values('importance')"
      ]
    },
    {
      "cell_type": "markdown",
      "source": [
        "**Conclusión**\n",
        "\n",
        "Al ejecutar el módelo de XGBOOST sin calibrar se obtiene un accuracy similar al obtenido por el Random Forest calibrado, por lo que se observa la robustéz de este para encontrar el mejor modelo que se acomoda a los datos."
      ],
      "metadata": {
        "id": "L6yyWP8SCMB-"
      }
    },
    {
      "cell_type": "markdown",
      "metadata": {
        "id": "DSW4nYAyl7ri"
      },
      "source": [
        "### Punto 7 - Calibración de parámetros XGBoost\n",
        "\n",
        "En la celda 7 calibren los parámetros learning rate, gamma y colsample_bytree del modelo XGBoost para clasificación. Presenten el acurracy del modelo en el set de test, comenten sus resultados y análicen cómo cada parámetro afecta el modelo."
      ]
    },
    {
      "cell_type": "code",
      "execution_count": 15,
      "metadata": {
        "id": "KjGYEonSl7rj",
        "colab": {
          "base_uri": "https://localhost:8080/",
          "height": 317
        },
        "outputId": "f0703815-92ba-4cad-e3dd-e6ab933ee957"
      },
      "outputs": [
        {
          "output_type": "stream",
          "name": "stdout",
          "text": [
            "max_acc:  0.8854692710814673\n",
            "feat_max_acc:  0.09\n"
          ]
        },
        {
          "output_type": "display_data",
          "data": {
            "text/plain": [
              "<Figure size 432x288 with 1 Axes>"
            ],
            "image/png": "[encoded data removed]"
          },
          "metadata": {
            "needs_background": "light"
          }
        }
      ],
      "source": [
        "# Celda 7\n",
        "import pandas as pd\n",
        "import numpy as np\n",
        "import matplotlib.pyplot as plt\n",
        "\n",
        "# Calibración de learning_rate\n",
        "# Creación de lista de valores para iterar sobre diferentes valores de learning_rate\n",
        "learning_range = range(1, 30, 1)\n",
        "\n",
        "# Definición de lista para almacenar la exactitud (accuracy) promedio para cada valor de n_estimators\n",
        "accuracy_scores = []\n",
        "\n",
        "# Uso de un 5-fold cross-validation para cada valor de n_estimators\n",
        "for lrate in learning_range:\n",
        "  clf = XGBClassifier(learning_rate = lrate/100, random_state=1)\n",
        "  accuracy_scores.append(cross_val_score(clf, X, y, cv=5, scoring='accuracy').mean())\n",
        "\n",
        "# Gráfica del desempeño del modelo vs la cantidad de n_estimators\n",
        "plt.plot(learning_range, accuracy_scores)\n",
        "plt.xlabel('lrate')\n",
        "plt.ylabel('Accuracy')\n",
        "\n",
        "# Mejores parámetros\n",
        "max_acc_lrate = np.max(accuracy_scores)\n",
        "lrate_max_acc = learning_range[accuracy_scores.index(max_acc_lrate)]/100\n",
        "print(\"max_acc: \", max_acc_lrate)\n",
        "print(\"feat_max_acc: \", lrate_max_acc)"
      ]
    },
    {
      "cell_type": "code",
      "source": [
        "# Calibración de gamma\n",
        "# Creación de lista de valores para iterar sobre diferentes valores de gamma\n",
        "gamma_range = range(0, 300, 10)\n",
        "\n",
        "# Definición de lista para almacenar la exactitud (accuracy) promedio para cada valor de n_estimators\n",
        "accuracy_scores = []\n",
        "\n",
        "# Uso de un 5-fold cross-validation para cada valor de n_estimators\n",
        "for pgamma in gamma_range:\n",
        "  clf = XGBClassifier(learning_rate = lrate_max_acc, gamma = pgamma, random_state=1)\n",
        "  accuracy_scores.append(cross_val_score(clf, X, y, cv=5, scoring='accuracy').mean())\n",
        "\n",
        "# Gráfica del desempeño del modelo vs la cantidad de n_estimators\n",
        "plt.plot(gamma_range, accuracy_scores)\n",
        "plt.xlabel('pgamma')\n",
        "plt.ylabel('Accuracy')\n",
        "\n",
        "# Mejores parámetros\n",
        "max_acc_pgamma = np.max(accuracy_scores)\n",
        "pgamma_max_acc = gamma_range[accuracy_scores.index(max_acc_pgamma)]\n",
        "print(\"max_acc: \", max_acc_pgamma)\n",
        "print(\"pgamma_max_acc: \", pgamma_max_acc)"
      ],
      "metadata": {
        "colab": {
          "base_uri": "https://localhost:8080/",
          "height": 316
        },
        "id": "Vz2gBCCO5m3z",
        "outputId": "3f981c86-8ddc-4dc4-b24b-a2750357f276"
      },
      "execution_count": 16,
      "outputs": [
        {
          "output_type": "stream",
          "name": "stdout",
          "text": [
            "max_acc:  0.8854692710814673\n",
            "pgamma_max_acc:  0\n"
          ]
        },
        {
          "output_type": "display_data",
          "data": {
            "text/plain": [
              "<Figure size 432x288 with 1 Axes>"
            ],
            "image/png": "[encoded data removed]"
          },
          "metadata": {
            "needs_background": "light"
          }
        }
      ]
    },
    {
      "cell_type": "code",
      "source": [
        "# Calibración de colsample_bytree\n",
        "# Creación de lista de valores para iterar sobre diferentes valores de colsample_bytree\n",
        "colsample_range = range(1, 100, 10)\n",
        "\n",
        "# Definición de lista para almacenar la exactitud (accuracy) promedio para cada valor de n_estimators\n",
        "accuracy_scores = []\n",
        "\n",
        "# Uso de un 5-fold cross-validation para cada valor de n_estimators\n",
        "for csample in colsample_range:\n",
        "  clf = XGBClassifier(learning_rate = lrate_max_acc, gamma = pgamma_max_acc, colsample_bytree = csample/100, random_state=1)\n",
        "  accuracy_scores.append(cross_val_score(clf, X, y, cv=5, scoring='accuracy').mean())\n",
        "\n",
        "# Gráfica del desempeño del modelo vs la cantidad de n_estimators\n",
        "plt.plot(colsample_range, accuracy_scores)\n",
        "plt.xlabel('colsample')\n",
        "plt.ylabel('Accuracy')\n",
        "\n",
        "# Mejores parámetros\n",
        "max_acc_colsample = np.max(accuracy_scores)\n",
        "colsample_max_acc = colsample_range[accuracy_scores.index(max_acc_colsample)]/100\n",
        "print(\"max_acc: \", max_acc_colsample)\n",
        "print(\"colsample_max_acc: \", colsample_max_acc)"
      ],
      "metadata": {
        "colab": {
          "base_uri": "https://localhost:8080/",
          "height": 313
        },
        "id": "LluMo_zG87LI",
        "outputId": "601de3f8-0e76-41db-f509-94a743c5cb2a"
      },
      "execution_count": 17,
      "outputs": [
        {
          "output_type": "stream",
          "name": "stdout",
          "text": [
            "max_acc:  0.8852787041448309\n",
            "colsample_max_acc:  0.41\n"
          ]
        },
        {
          "output_type": "display_data",
          "data": {
            "text/plain": [
              "<Figure size 432x288 with 1 Axes>"
            ],
            "image/png": "[encoded data removed]"
          },
          "metadata": {
            "needs_background": "light"
          }
        }
      ]
    },
    {
      "cell_type": "code",
      "source": [
        "# Implementación de un XGBOOST con los mejores parámetros\n",
        "print(\"colsample_max_acc: \", colsample_max_acc)\n",
        "print(\"pgamma_max_acc: \", pgamma_max_acc)\n",
        "print(\"feat_max_acc: \", lrate_max_acc)\n",
        "\n",
        "# Definición del modelo con los parámetros max_depth, max_features y n_estimators \n",
        "clf = XGBClassifier(learning_rate = lrate_max_acc, gamma = pgamma_max_acc, colsample_bytree = colsample_max_acc, random_state=1)\n",
        "clf.fit(X_train, y_train)\n",
        "\n",
        "# Entrenamiento del modelo con set de entrenamiento y predicción en el set de test\n",
        "y_pred_best_XG = clf.predict(X_test)\n",
        "\n",
        "acc_XG_cal = accuracy_score(y_pred_best_XG, y_test.values)\n",
        "print('\\nAccuracy_XG: ', acc_XG_cal)\n",
        "print('f1_score_XG: ', f1_score(y_pred_best_XG, y_test.values))\n",
        "\n",
        "# Impresión de resultados de desemepeño del modelo\n",
        "feature_cols_name = X_test.columns\n",
        "pd.DataFrame({'feature':feature_cols_name, 'importance':clf.feature_importances_}).sort_values('importance')"
      ],
      "metadata": {
        "colab": {
          "base_uri": "https://localhost:8080/",
          "height": 436
        },
        "id": "7Bo3iOAg-Huv",
        "outputId": "185ff1f6-d665-47a5-81d7-64c827ccd90b"
      },
      "execution_count": 18,
      "outputs": [
        {
          "output_type": "stream",
          "name": "stdout",
          "text": [
            "colsample_max_acc:  0.41\n",
            "pgamma_max_acc:  0\n",
            "feat_max_acc:  0.09\n",
            "\n",
            "Accuracy_XG:  0.8868360277136259\n",
            "f1_score_XG:  0.9064885496183205\n"
          ]
        },
        {
          "output_type": "execute_result",
          "data": {
            "text/plain": [
              "       feature  importance\n",
              "5     M_CamryL    0.005847\n",
              "2      M_Camry    0.026726\n",
              "4  M_CamryBase    0.034036\n",
              "6    M_CamryLE    0.035435\n",
              "8   M_CamryXLE    0.056626\n",
              "7    M_CamrySE    0.118414\n",
              "3   M_Camry4dr    0.172046\n",
              "1      Mileage    0.242402\n",
              "0         Year    0.308469"
            ],
            "text/html": [
              "\n",
              "  <div id=\"df-360398cd-6b3b-4925-8704-7c6468a36406\">\n",
              "    <div class=\"colab-df-container\">\n",
              "      <div>\n",
              "<style scoped>\n",
              "    .dataframe tbody tr th:only-of-type {\n",
              "        vertical-align: middle;\n",
              "    }\n",
              "\n",
              "    .dataframe tbody tr th {\n",
              "        vertical-align: top;\n",
              "    }\n",
              "\n",
              "    .dataframe thead th {\n",
              "        text-align: right;\n",
              "    }\n",
              "</style>\n",
              "<table border=\"1\" class=\"dataframe\">\n",
              "  <thead>\n",
              "    <tr style=\"text-align: right;\">\n",
              "      <th></th>\n",
              "      <th>feature</th>\n",
              "      <th>importance</th>\n",
              "    </tr>\n",
              "  </thead>\n",
              "  <tbody>\n",
              "    <tr>\n",
              "      <th>5</th>\n",
              "      <td>M_CamryL</td>\n",
              "      <td>0.005847</td>\n",
              "    </tr>\n",
              "    <tr>\n",
              "      <th>2</th>\n",
              "      <td>M_Camry</td>\n",
              "      <td>0.026726</td>\n",
              "    </tr>\n",
              "    <tr>\n",
              "      <th>4</th>\n",
              "      <td>M_CamryBase</td>\n",
              "      <td>0.034036</td>\n",
              "    </tr>\n",
              "    <tr>\n",
              "      <th>6</th>\n",
              "      <td>M_CamryLE</td>\n",
              "      <td>0.035435</td>\n",
              "    </tr>\n",
              "    <tr>\n",
              "      <th>8</th>\n",
              "      <td>M_CamryXLE</td>\n",
              "      <td>0.056626</td>\n",
              "    </tr>\n",
              "    <tr>\n",
              "      <th>7</th>\n",
              "      <td>M_CamrySE</td>\n",
              "      <td>0.118414</td>\n",
              "    </tr>\n",
              "    <tr>\n",
              "      <th>3</th>\n",
              "      <td>M_Camry4dr</td>\n",
              "      <td>0.172046</td>\n",
              "    </tr>\n",
              "    <tr>\n",
              "      <th>1</th>\n",
              "      <td>Mileage</td>\n",
              "      <td>0.242402</td>\n",
              "    </tr>\n",
              "    <tr>\n",
              "      <th>0</th>\n",
              "      <td>Year</td>\n",
              "      <td>0.308469</td>\n",
              "    </tr>\n",
              "  </tbody>\n",
              "</table>\n",
              "</div>\n",
              "      <button class=\"colab-df-convert\" onclick=\"convertToInteractive('df-360398cd-6b3b-4925-8704-7c6468a36406')\"\n",
              "              title=\"Convert this dataframe to an interactive table.\"\n",
              "              style=\"display:none;\">\n",
              "        \n",
              "  <svg xmlns=\"http://www.w3.org/2000/svg\" height=\"24px\"viewBox=\"0 0 24 24\"\n",
              "       width=\"24px\">\n",
              "    <path d=\"M0 0h24v24H0V0z\" fill=\"none\"/>\n",
              "    <path d=\"M18.56 5.44l.94 2.06.94-2.06 2.06-.94-2.06-.94-.94-2.06-.94 2.06-2.06.94zm-11 1L8.5 8.5l.94-2.06 2.06-.94-2.06-.94L8.5 2.5l-.94 2.06-2.06.94zm10 10l.94 2.06.94-2.06 2.06-.94-2.06-.94-.94-2.06-.94 2.06-2.06.94z\"/><path d=\"M17.41 7.96l-1.37-1.37c-.4-.4-.92-.59-1.43-.59-.52 0-1.04.2-1.43.59L10.3 9.45l-7.72 7.72c-.78.78-.78 2.05 0 2.83L4 21.41c.39.39.9.59 1.41.59.51 0 1.02-.2 1.41-.59l7.78-7.78 2.81-2.81c.8-.78.8-2.07 0-2.86zM5.41 20L4 18.59l7.72-7.72 1.47 1.35L5.41 20z\"/>\n",
              "  </svg>\n",
              "      </button>\n",
              "      \n",
              "  <style>\n",
              "    .colab-df-container {\n",
              "      display:flex;\n",
              "      flex-wrap:wrap;\n",
              "      gap: 12px;\n",
              "    }\n",
              "\n",
              "    .colab-df-convert {\n",
              "      background-color: #E8F0FE;\n",
              "      border: none;\n",
              "      border-radius: 50%;\n",
              "      cursor: pointer;\n",
              "      display: none;\n",
              "      fill: #1967D2;\n",
              "      height: 32px;\n",
              "      padding: 0 0 0 0;\n",
              "      width: 32px;\n",
              "    }\n",
              "\n",
              "    .colab-df-convert:hover {\n",
              "      background-color: #E2EBFA;\n",
              "      box-shadow: 0px 1px 2px rgba(60, 64, 67, 0.3), 0px 1px 3px 1px rgba(60, 64, 67, 0.15);\n",
              "      fill: #174EA6;\n",
              "    }\n",
              "\n",
              "    [theme=dark] .colab-df-convert {\n",
              "      background-color: #3B4455;\n",
              "      fill: #D2E3FC;\n",
              "    }\n",
              "\n",
              "    [theme=dark] .colab-df-convert:hover {\n",
              "      background-color: #434B5C;\n",
              "      box-shadow: 0px 1px 3px 1px rgba(0, 0, 0, 0.15);\n",
              "      filter: drop-shadow(0px 1px 2px rgba(0, 0, 0, 0.3));\n",
              "      fill: #FFFFFF;\n",
              "    }\n",
              "  </style>\n",
              "\n",
              "      <script>\n",
              "        const buttonEl =\n",
              "          document.querySelector('#df-360398cd-6b3b-4925-8704-7c6468a36406 button.colab-df-convert');\n",
              "        buttonEl.style.display =\n",
              "          google.colab.kernel.accessAllowed ? 'block' : 'none';\n",
              "\n",
              "        async function convertToInteractive(key) {\n",
              "          const element = document.querySelector('#df-360398cd-6b3b-4925-8704-7c6468a36406');\n",
              "          const dataTable =\n",
              "            await google.colab.kernel.invokeFunction('convertToInteractive',\n",
              "                                                     [key], {});\n",
              "          if (!dataTable) return;\n",
              "\n",
              "          const docLinkHtml = 'Like what you see? Visit the ' +\n",
              "            '<a target=\"_blank\" href=https://colab.research.google.com/notebooks/data_table.ipynb>data table notebook</a>'\n",
              "            + ' to learn more about interactive tables.';\n",
              "          element.innerHTML = '';\n",
              "          dataTable['output_type'] = 'display_data';\n",
              "          await google.colab.output.renderOutput(dataTable, element);\n",
              "          const docLink = document.createElement('div');\n",
              "          docLink.innerHTML = docLinkHtml;\n",
              "          element.appendChild(docLink);\n",
              "        }\n",
              "      </script>\n",
              "    </div>\n",
              "  </div>\n",
              "  "
            ]
          },
          "metadata": {},
          "execution_count": 18
        }
      ]
    },
    {
      "cell_type": "markdown",
      "source": [
        "Al calibrar el modelo de XGBOOST se observa que: al variar el learning_rate entre 0 y 1, un valor cercano a 0.09 se obtiene el mejor accuracy. Por otro lado, al variar el parametro de regularización gamma se observa que el valor de 0 obtiene el mejor resultado. En cuanto al parámetro colsample se obtiene un buen resultado para el accuracy el 0.41"
      ],
      "metadata": {
        "id": "pIWi3JPBE5gE"
      }
    },
    {
      "cell_type": "markdown",
      "metadata": {
        "id": "55GJg5a2l7rj"
      },
      "source": [
        "### Punto 8 - Comparación y análisis de resultados\n",
        "En la celda 8 comparen los resultados obtenidos de los diferentes modelos (random forest y XGBoost) y comenten las ventajas del mejor modelo y las desventajas del modelo con el menor desempeño."
      ]
    },
    {
      "cell_type": "code",
      "execution_count": 19,
      "metadata": {
        "id": "b4n7p74Jl7rj",
        "colab": {
          "base_uri": "https://localhost:8080/",
          "height": 352
        },
        "outputId": "c56d5437-c371-4da6-99e8-599d7b4dd4d0"
      },
      "outputs": [
        {
          "output_type": "display_data",
          "data": {
            "text/plain": [
              "<Figure size 432x288 with 1 Axes>"
            ],
            "image/png": "[encoded data removed]"
          },
          "metadata": {
            "needs_background": "light"
          }
        }
      ],
      "source": [
        "# Celda 8\n",
        "\n",
        "# acc_dt, acc_mbag, acc_bag, acc_RF, acc_RF_cal, acc_XG, acc_XG_cal\n",
        "fig = plt.figure()\n",
        "ax = fig.add_axes([0,0,1,1])\n",
        "ax.set_title(\"Comparación de modelos\")\n",
        "ejeX = ['DT','MBAG', 'BAG', 'RF','RF_Cal','XG', 'XG_cal']\n",
        "n_dec = 3\n",
        "ejeY = [np.round(acc_dt,n_dec), np.round(acc_mbag,n_dec), np.round(acc_bag,n_dec), \n",
        "        np.round(acc_RF,n_dec), np.round(acc_RF_cal,n_dec), np.round(acc_XG,n_dec), np.round(acc_XG_cal,n_dec)]\n",
        "ax.bar(ejeX, ejeY)\n",
        "def addlabels(x,y,plotP):\n",
        "    for i in range(len(ejeX)):\n",
        "        plotP.text(i,y[i],y[i])\n",
        "addlabels(ejeX,ejeY,plt)\n",
        "#plt.yticks([0.5, 0.7])\n",
        "plt.ylim(0.8, 0.9)\n",
        "plt.show()"
      ]
    },
    {
      "cell_type": "markdown",
      "source": [
        ""
      ],
      "metadata": {
        "id": "pxPV7MC0LZeQ"
      }
    }
  ],
  "metadata": {
    "kernelspec": {
      "display_name": "Python 3",
      "language": "python",
      "name": "python3"
    },
    "language_info": {
      "codemirror_mode": {
        "name": "ipython",
        "version": 3
      },
      "file_extension": ".py",
      "mimetype": "text/x-python",
      "name": "python",
      "nbconvert_exporter": "python",
      "pygments_lexer": "ipython3",
      "version": "3.7.3"
    },
    "colab": {
      "name": "S2TC1_RandomForests_Boosting.ipynb",
      "provenance": [],
      "include_colab_link": true
    }
  },
  "nbformat": 4,
  "nbformat_minor": 0
}