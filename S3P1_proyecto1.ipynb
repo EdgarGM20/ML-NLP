{
  "cells": [
    {
      "cell_type": "markdown",
      "metadata": {
        "id": "view-in-github",
        "colab_type": "text"
      },
      "source": [
        "<a href=\"https://colab.research.google.com/github/EdgarGM20/ML-NLP/blob/main/S3P1_proyecto1.ipynb\" target=\"_parent\"><img src=\"https://colab.research.google.com/assets/colab-badge.svg\" alt=\"Open In Colab\"/></a>"
      ]
    },
    {
      "cell_type": "markdown",
      "metadata": {
        "id": "5wx9mFW_bl5Y"
      },
      "source": [
        "![image info](https://raw.githubusercontent.com/albahnsen/MIAD_ML_and_NLP/main/images/banner_1.png)"
      ]
    },
    {
      "cell_type": "markdown",
      "metadata": {
        "id": "9YiIAmJ_bl5c"
      },
      "source": [
        "# Proyecto 1 - Predicción de precios de vehículos usados\n",
        "\n",
        "En este proyecto podrán poner en práctica sus conocimientos sobre modelos predictivos basados en árboles y ensambles, y sobre la disponibilización de modelos. Para su desasrrollo tengan en cuenta las instrucciones dadas en la \"Guía del proyecto 1: Predicción de precios de vehículos usados\".\n",
        "\n",
        "**Entrega**: La entrega del proyecto deberán realizarla durante la semana 4. Sin embargo, es importante que avancen en la semana 3 en el modelado del problema y en parte del informe, tal y como se les indicó en la guía.\n",
        "\n",
        "Para hacer la entrega, deberán adjuntar el informe autocontenido en PDF a la actividad de entrega del proyecto que encontrarán en la semana 4, y subir el archivo de predicciones a la [competencia de Kaggle](https://www.kaggle.com/t/4bd64c1deb3c4ffb8ca7ff93c1f1497d)."
      ]
    },
    {
      "cell_type": "markdown",
      "metadata": {
        "id": "16BjBvnubl5e"
      },
      "source": [
        "## Datos para la predicción de precios de vehículos usados\n",
        "\n",
        "En este proyecto se usará el conjunto de datos de Car Listings de Kaggle, donde cada observación representa el precio de un automóvil teniendo en cuenta distintas variables como: año, marca, modelo, entre otras. El objetivo es predecir el precio del automóvil. Para más detalles puede visitar el siguiente enlace: [datos](https://www.kaggle.com/jpayne/852k-used-car-listings)."
      ]
    },
    {
      "cell_type": "markdown",
      "metadata": {
        "id": "m-_5weg1bl5e"
      },
      "source": [
        "## Ejemplo predicción conjunto de test para envío a Kaggle\n",
        "\n",
        "En esta sección encontrarán el formato en el que deben guardar los resultados de la predicción para que puedan subirlos a la competencia en Kaggle."
      ]
    },
    {
      "cell_type": "code",
      "execution_count": 1,
      "metadata": {
        "id": "9bU_rrnKbl5f"
      },
      "outputs": [],
      "source": [
        "import warnings\n",
        "warnings.filterwarnings('ignore')"
      ]
    },
    {
      "cell_type": "code",
      "source": [
        "from google.colab import drive\n",
        "drive.mount('/content/drive')"
      ],
      "metadata": {
        "colab": {
          "base_uri": "https://localhost:8080/"
        },
        "id": "nAq-ubx68obO",
        "outputId": "529da260-0c8a-4028-b9af-406448c6e31c"
      },
      "execution_count": 2,
      "outputs": [
        {
          "output_type": "stream",
          "name": "stdout",
          "text": [
            "Drive already mounted at /content/drive; to attempt to forcibly remount, call drive.mount(\"/content/drive\", force_remount=True).\n"
          ]
        }
      ]
    },
    {
      "cell_type": "code",
      "execution_count": 3,
      "metadata": {
        "id": "D0bx2eYWbl5g"
      },
      "outputs": [],
      "source": [
        "# Importación librerías\n",
        "import pandas as pd\n",
        "import numpy as np"
      ]
    },
    {
      "cell_type": "code",
      "execution_count": 4,
      "metadata": {
        "id": "ar42tGGmbl5h"
      },
      "outputs": [],
      "source": [
        "# Carga de datos de archivo .csv\n",
        "dataTraining = pd.read_csv('https://raw.githubusercontent.com/albahnsen/MIAD_ML_and_NLP/main/datasets/dataTrain_carListings.zip')\n",
        "dataTesting = pd.read_csv('https://raw.githubusercontent.com/albahnsen/MIAD_ML_and_NLP/main/datasets/dataTest_carListings.zip', index_col=0)"
      ]
    },
    {
      "cell_type": "code",
      "execution_count": 5,
      "metadata": {
        "id": "WvwAy2G4bl5i",
        "outputId": "a7d302a4-3c9f-4478-bd14-184a7c4ddb03",
        "colab": {
          "base_uri": "https://localhost:8080/",
          "height": 206
        }
      },
      "outputs": [
        {
          "output_type": "execute_result",
          "data": {
            "text/plain": [
              "   Price  Year  Mileage State       Make      Model\n",
              "0  34995  2017     9913    FL       Jeep   Wrangler\n",
              "1  37895  2015    20578    OH  Chevrolet   Tahoe4WD\n",
              "2  18430  2012    83716    TX        BMW      X5AWD\n",
              "3  24681  2014    28729    OH   Cadillac  SRXLuxury\n",
              "4  26998  2013    64032    CO       Jeep   Wrangler"
            ],
            "text/html": [
              "\n",
              "  <div id=\"df-60dca43a-45c2-4fc8-bffe-4931d3e7bf8a\">\n",
              "    <div class=\"colab-df-container\">\n",
              "      <div>\n",
              "<style scoped>\n",
              "    .dataframe tbody tr th:only-of-type {\n",
              "        vertical-align: middle;\n",
              "    }\n",
              "\n",
              "    .dataframe tbody tr th {\n",
              "        vertical-align: top;\n",
              "    }\n",
              "\n",
              "    .dataframe thead th {\n",
              "        text-align: right;\n",
              "    }\n",
              "</style>\n",
              "<table border=\"1\" class=\"dataframe\">\n",
              "  <thead>\n",
              "    <tr style=\"text-align: right;\">\n",
              "      <th></th>\n",
              "      <th>Price</th>\n",
              "      <th>Year</th>\n",
              "      <th>Mileage</th>\n",
              "      <th>State</th>\n",
              "      <th>Make</th>\n",
              "      <th>Model</th>\n",
              "    </tr>\n",
              "  </thead>\n",
              "  <tbody>\n",
              "    <tr>\n",
              "      <th>0</th>\n",
              "      <td>34995</td>\n",
              "      <td>2017</td>\n",
              "      <td>9913</td>\n",
              "      <td>FL</td>\n",
              "      <td>Jeep</td>\n",
              "      <td>Wrangler</td>\n",
              "    </tr>\n",
              "    <tr>\n",
              "      <th>1</th>\n",
              "      <td>37895</td>\n",
              "      <td>2015</td>\n",
              "      <td>20578</td>\n",
              "      <td>OH</td>\n",
              "      <td>Chevrolet</td>\n",
              "      <td>Tahoe4WD</td>\n",
              "    </tr>\n",
              "    <tr>\n",
              "      <th>2</th>\n",
              "      <td>18430</td>\n",
              "      <td>2012</td>\n",
              "      <td>83716</td>\n",
              "      <td>TX</td>\n",
              "      <td>BMW</td>\n",
              "      <td>X5AWD</td>\n",
              "    </tr>\n",
              "    <tr>\n",
              "      <th>3</th>\n",
              "      <td>24681</td>\n",
              "      <td>2014</td>\n",
              "      <td>28729</td>\n",
              "      <td>OH</td>\n",
              "      <td>Cadillac</td>\n",
              "      <td>SRXLuxury</td>\n",
              "    </tr>\n",
              "    <tr>\n",
              "      <th>4</th>\n",
              "      <td>26998</td>\n",
              "      <td>2013</td>\n",
              "      <td>64032</td>\n",
              "      <td>CO</td>\n",
              "      <td>Jeep</td>\n",
              "      <td>Wrangler</td>\n",
              "    </tr>\n",
              "  </tbody>\n",
              "</table>\n",
              "</div>\n",
              "      <button class=\"colab-df-convert\" onclick=\"convertToInteractive('df-60dca43a-45c2-4fc8-bffe-4931d3e7bf8a')\"\n",
              "              title=\"Convert this dataframe to an interactive table.\"\n",
              "              style=\"display:none;\">\n",
              "        \n",
              "  <svg xmlns=\"http://www.w3.org/2000/svg\" height=\"24px\"viewBox=\"0 0 24 24\"\n",
              "       width=\"24px\">\n",
              "    <path d=\"M0 0h24v24H0V0z\" fill=\"none\"/>\n",
              "    <path d=\"M18.56 5.44l.94 2.06.94-2.06 2.06-.94-2.06-.94-.94-2.06-.94 2.06-2.06.94zm-11 1L8.5 8.5l.94-2.06 2.06-.94-2.06-.94L8.5 2.5l-.94 2.06-2.06.94zm10 10l.94 2.06.94-2.06 2.06-.94-2.06-.94-.94-2.06-.94 2.06-2.06.94z\"/><path d=\"M17.41 7.96l-1.37-1.37c-.4-.4-.92-.59-1.43-.59-.52 0-1.04.2-1.43.59L10.3 9.45l-7.72 7.72c-.78.78-.78 2.05 0 2.83L4 21.41c.39.39.9.59 1.41.59.51 0 1.02-.2 1.41-.59l7.78-7.78 2.81-2.81c.8-.78.8-2.07 0-2.86zM5.41 20L4 18.59l7.72-7.72 1.47 1.35L5.41 20z\"/>\n",
              "  </svg>\n",
              "      </button>\n",
              "      \n",
              "  <style>\n",
              "    .colab-df-container {\n",
              "      display:flex;\n",
              "      flex-wrap:wrap;\n",
              "      gap: 12px;\n",
              "    }\n",
              "\n",
              "    .colab-df-convert {\n",
              "      background-color: #E8F0FE;\n",
              "      border: none;\n",
              "      border-radius: 50%;\n",
              "      cursor: pointer;\n",
              "      display: none;\n",
              "      fill: #1967D2;\n",
              "      height: 32px;\n",
              "      padding: 0 0 0 0;\n",
              "      width: 32px;\n",
              "    }\n",
              "\n",
              "    .colab-df-convert:hover {\n",
              "      background-color: #E2EBFA;\n",
              "      box-shadow: 0px 1px 2px rgba(60, 64, 67, 0.3), 0px 1px 3px 1px rgba(60, 64, 67, 0.15);\n",
              "      fill: #174EA6;\n",
              "    }\n",
              "\n",
              "    [theme=dark] .colab-df-convert {\n",
              "      background-color: #3B4455;\n",
              "      fill: #D2E3FC;\n",
              "    }\n",
              "\n",
              "    [theme=dark] .colab-df-convert:hover {\n",
              "      background-color: #434B5C;\n",
              "      box-shadow: 0px 1px 3px 1px rgba(0, 0, 0, 0.15);\n",
              "      filter: drop-shadow(0px 1px 2px rgba(0, 0, 0, 0.3));\n",
              "      fill: #FFFFFF;\n",
              "    }\n",
              "  </style>\n",
              "\n",
              "      <script>\n",
              "        const buttonEl =\n",
              "          document.querySelector('#df-60dca43a-45c2-4fc8-bffe-4931d3e7bf8a button.colab-df-convert');\n",
              "        buttonEl.style.display =\n",
              "          google.colab.kernel.accessAllowed ? 'block' : 'none';\n",
              "\n",
              "        async function convertToInteractive(key) {\n",
              "          const element = document.querySelector('#df-60dca43a-45c2-4fc8-bffe-4931d3e7bf8a');\n",
              "          const dataTable =\n",
              "            await google.colab.kernel.invokeFunction('convertToInteractive',\n",
              "                                                     [key], {});\n",
              "          if (!dataTable) return;\n",
              "\n",
              "          const docLinkHtml = 'Like what you see? Visit the ' +\n",
              "            '<a target=\"_blank\" href=https://colab.research.google.com/notebooks/data_table.ipynb>data table notebook</a>'\n",
              "            + ' to learn more about interactive tables.';\n",
              "          element.innerHTML = '';\n",
              "          dataTable['output_type'] = 'display_data';\n",
              "          await google.colab.output.renderOutput(dataTable, element);\n",
              "          const docLink = document.createElement('div');\n",
              "          docLink.innerHTML = docLinkHtml;\n",
              "          element.appendChild(docLink);\n",
              "        }\n",
              "      </script>\n",
              "    </div>\n",
              "  </div>\n",
              "  "
            ]
          },
          "metadata": {},
          "execution_count": 5
        }
      ],
      "source": [
        "# Visualización datos de entrenamiento\n",
        "dataTraining.head()"
      ]
    },
    {
      "cell_type": "code",
      "execution_count": 6,
      "metadata": {
        "id": "UeVfHtfDbl5j",
        "outputId": "395dd5a0-e1b6-40e0-9f29-efc112604bb2",
        "colab": {
          "base_uri": "https://localhost:8080/",
          "height": 237
        }
      },
      "outputs": [
        {
          "output_type": "execute_result",
          "data": {
            "text/plain": [
              "    Year  Mileage State    Make        Model\n",
              "ID                                          \n",
              "0   2014    31909    MD  Nissan    MuranoAWD\n",
              "1   2017     5362    FL    Jeep     Wrangler\n",
              "2   2014    50300    OH    Ford  FlexLimited\n",
              "3   2004   132160    WA     BMW            5\n",
              "4   2015    25226    MA    Jeep        Grand"
            ],
            "text/html": [
              "\n",
              "  <div id=\"df-000626ae-fb1c-4507-b306-62686c7ed300\">\n",
              "    <div class=\"colab-df-container\">\n",
              "      <div>\n",
              "<style scoped>\n",
              "    .dataframe tbody tr th:only-of-type {\n",
              "        vertical-align: middle;\n",
              "    }\n",
              "\n",
              "    .dataframe tbody tr th {\n",
              "        vertical-align: top;\n",
              "    }\n",
              "\n",
              "    .dataframe thead th {\n",
              "        text-align: right;\n",
              "    }\n",
              "</style>\n",
              "<table border=\"1\" class=\"dataframe\">\n",
              "  <thead>\n",
              "    <tr style=\"text-align: right;\">\n",
              "      <th></th>\n",
              "      <th>Year</th>\n",
              "      <th>Mileage</th>\n",
              "      <th>State</th>\n",
              "      <th>Make</th>\n",
              "      <th>Model</th>\n",
              "    </tr>\n",
              "    <tr>\n",
              "      <th>ID</th>\n",
              "      <th></th>\n",
              "      <th></th>\n",
              "      <th></th>\n",
              "      <th></th>\n",
              "      <th></th>\n",
              "    </tr>\n",
              "  </thead>\n",
              "  <tbody>\n",
              "    <tr>\n",
              "      <th>0</th>\n",
              "      <td>2014</td>\n",
              "      <td>31909</td>\n",
              "      <td>MD</td>\n",
              "      <td>Nissan</td>\n",
              "      <td>MuranoAWD</td>\n",
              "    </tr>\n",
              "    <tr>\n",
              "      <th>1</th>\n",
              "      <td>2017</td>\n",
              "      <td>5362</td>\n",
              "      <td>FL</td>\n",
              "      <td>Jeep</td>\n",
              "      <td>Wrangler</td>\n",
              "    </tr>\n",
              "    <tr>\n",
              "      <th>2</th>\n",
              "      <td>2014</td>\n",
              "      <td>50300</td>\n",
              "      <td>OH</td>\n",
              "      <td>Ford</td>\n",
              "      <td>FlexLimited</td>\n",
              "    </tr>\n",
              "    <tr>\n",
              "      <th>3</th>\n",
              "      <td>2004</td>\n",
              "      <td>132160</td>\n",
              "      <td>WA</td>\n",
              "      <td>BMW</td>\n",
              "      <td>5</td>\n",
              "    </tr>\n",
              "    <tr>\n",
              "      <th>4</th>\n",
              "      <td>2015</td>\n",
              "      <td>25226</td>\n",
              "      <td>MA</td>\n",
              "      <td>Jeep</td>\n",
              "      <td>Grand</td>\n",
              "    </tr>\n",
              "  </tbody>\n",
              "</table>\n",
              "</div>\n",
              "      <button class=\"colab-df-convert\" onclick=\"convertToInteractive('df-000626ae-fb1c-4507-b306-62686c7ed300')\"\n",
              "              title=\"Convert this dataframe to an interactive table.\"\n",
              "              style=\"display:none;\">\n",
              "        \n",
              "  <svg xmlns=\"http://www.w3.org/2000/svg\" height=\"24px\"viewBox=\"0 0 24 24\"\n",
              "       width=\"24px\">\n",
              "    <path d=\"M0 0h24v24H0V0z\" fill=\"none\"/>\n",
              "    <path d=\"M18.56 5.44l.94 2.06.94-2.06 2.06-.94-2.06-.94-.94-2.06-.94 2.06-2.06.94zm-11 1L8.5 8.5l.94-2.06 2.06-.94-2.06-.94L8.5 2.5l-.94 2.06-2.06.94zm10 10l.94 2.06.94-2.06 2.06-.94-2.06-.94-.94-2.06-.94 2.06-2.06.94z\"/><path d=\"M17.41 7.96l-1.37-1.37c-.4-.4-.92-.59-1.43-.59-.52 0-1.04.2-1.43.59L10.3 9.45l-7.72 7.72c-.78.78-.78 2.05 0 2.83L4 21.41c.39.39.9.59 1.41.59.51 0 1.02-.2 1.41-.59l7.78-7.78 2.81-2.81c.8-.78.8-2.07 0-2.86zM5.41 20L4 18.59l7.72-7.72 1.47 1.35L5.41 20z\"/>\n",
              "  </svg>\n",
              "      </button>\n",
              "      \n",
              "  <style>\n",
              "    .colab-df-container {\n",
              "      display:flex;\n",
              "      flex-wrap:wrap;\n",
              "      gap: 12px;\n",
              "    }\n",
              "\n",
              "    .colab-df-convert {\n",
              "      background-color: #E8F0FE;\n",
              "      border: none;\n",
              "      border-radius: 50%;\n",
              "      cursor: pointer;\n",
              "      display: none;\n",
              "      fill: #1967D2;\n",
              "      height: 32px;\n",
              "      padding: 0 0 0 0;\n",
              "      width: 32px;\n",
              "    }\n",
              "\n",
              "    .colab-df-convert:hover {\n",
              "      background-color: #E2EBFA;\n",
              "      box-shadow: 0px 1px 2px rgba(60, 64, 67, 0.3), 0px 1px 3px 1px rgba(60, 64, 67, 0.15);\n",
              "      fill: #174EA6;\n",
              "    }\n",
              "\n",
              "    [theme=dark] .colab-df-convert {\n",
              "      background-color: #3B4455;\n",
              "      fill: #D2E3FC;\n",
              "    }\n",
              "\n",
              "    [theme=dark] .colab-df-convert:hover {\n",
              "      background-color: #434B5C;\n",
              "      box-shadow: 0px 1px 3px 1px rgba(0, 0, 0, 0.15);\n",
              "      filter: drop-shadow(0px 1px 2px rgba(0, 0, 0, 0.3));\n",
              "      fill: #FFFFFF;\n",
              "    }\n",
              "  </style>\n",
              "\n",
              "      <script>\n",
              "        const buttonEl =\n",
              "          document.querySelector('#df-000626ae-fb1c-4507-b306-62686c7ed300 button.colab-df-convert');\n",
              "        buttonEl.style.display =\n",
              "          google.colab.kernel.accessAllowed ? 'block' : 'none';\n",
              "\n",
              "        async function convertToInteractive(key) {\n",
              "          const element = document.querySelector('#df-000626ae-fb1c-4507-b306-62686c7ed300');\n",
              "          const dataTable =\n",
              "            await google.colab.kernel.invokeFunction('convertToInteractive',\n",
              "                                                     [key], {});\n",
              "          if (!dataTable) return;\n",
              "\n",
              "          const docLinkHtml = 'Like what you see? Visit the ' +\n",
              "            '<a target=\"_blank\" href=https://colab.research.google.com/notebooks/data_table.ipynb>data table notebook</a>'\n",
              "            + ' to learn more about interactive tables.';\n",
              "          element.innerHTML = '';\n",
              "          dataTable['output_type'] = 'display_data';\n",
              "          await google.colab.output.renderOutput(dataTable, element);\n",
              "          const docLink = document.createElement('div');\n",
              "          docLink.innerHTML = docLinkHtml;\n",
              "          element.appendChild(docLink);\n",
              "        }\n",
              "      </script>\n",
              "    </div>\n",
              "  </div>\n",
              "  "
            ]
          },
          "metadata": {},
          "execution_count": 6
        }
      ],
      "source": [
        "# Visualización datos de test\n",
        "dataTesting.head()"
      ]
    },
    {
      "cell_type": "code",
      "source": [
        "# info\n",
        "dataTraining.info()"
      ],
      "metadata": {
        "colab": {
          "base_uri": "https://localhost:8080/"
        },
        "id": "twrRjF0gjIqy",
        "outputId": "eb3cfb9e-cbd3-4236-bdb5-780905f6386e"
      },
      "execution_count": 7,
      "outputs": [
        {
          "output_type": "stream",
          "name": "stdout",
          "text": [
            "<class 'pandas.core.frame.DataFrame'>\n",
            "RangeIndex: 400000 entries, 0 to 399999\n",
            "Data columns (total 6 columns):\n",
            " #   Column   Non-Null Count   Dtype \n",
            "---  ------   --------------   ----- \n",
            " 0   Price    400000 non-null  int64 \n",
            " 1   Year     400000 non-null  int64 \n",
            " 2   Mileage  400000 non-null  int64 \n",
            " 3   State    400000 non-null  object\n",
            " 4   Make     400000 non-null  object\n",
            " 5   Model    400000 non-null  object\n",
            "dtypes: int64(3), object(3)\n",
            "memory usage: 18.3+ MB\n"
          ]
        }
      ]
    },
    {
      "cell_type": "code",
      "source": [
        "#check for dublicated rows\n",
        "print(\"Numbers of duplicated rows :\",dataTraining.duplicated().sum())"
      ],
      "metadata": {
        "colab": {
          "base_uri": "https://localhost:8080/"
        },
        "id": "LX3DCaA8jQ6O",
        "outputId": "81fec621-e454-4668-afcf-f54842b7c3dd"
      },
      "execution_count": 8,
      "outputs": [
        {
          "output_type": "stream",
          "name": "stdout",
          "text": [
            "Numbers of duplicated rows : 169\n"
          ]
        }
      ]
    },
    {
      "cell_type": "code",
      "source": [
        "#dropping the duplicated rows \n",
        "dataTraining = dataTraining.drop_duplicates(keep=\"first\")\n",
        "print(\"After removing,now number of duplicated rows are:\", dataTraining.duplicated().sum())"
      ],
      "metadata": {
        "colab": {
          "base_uri": "https://localhost:8080/"
        },
        "id": "FyWYxeJTja1p",
        "outputId": "4b09a480-d6cf-4b45-e7d5-98839dd65b1b"
      },
      "execution_count": 9,
      "outputs": [
        {
          "output_type": "stream",
          "name": "stdout",
          "text": [
            "After removing,now number of duplicated rows are: 0\n"
          ]
        }
      ]
    },
    {
      "cell_type": "code",
      "source": [
        "# Check any null values\n",
        "import missingno\n",
        "missingno.matrix(dataTraining)"
      ],
      "metadata": {
        "colab": {
          "base_uri": "https://localhost:8080/",
          "height": 665
        },
        "id": "_1-R4gzOjk9B",
        "outputId": "fad05fb3-46bf-4ff1-da32-5aa42ab87938"
      },
      "execution_count": 10,
      "outputs": [
        {
          "output_type": "execute_result",
          "data": {
            "text/plain": [
              "<matplotlib.axes._subplots.AxesSubplot at 0x7fcc73d9a610>"
            ]
          },
          "metadata": {},
          "execution_count": 10
        },
        {
          "output_type": "display_data",
          "data": {
            "text/plain": [
              "<Figure size 1800x720 with 2 Axes>"
            ],
            "image/png": "[encoded data removed]"
          },
          "metadata": {
            "needs_background": "light"
          }
        }
      ]
    },
    {
      "cell_type": "code",
      "source": [
        "t0 = pd.pivot_table(dataTraining, values='Price', index='Year', aggfunc={'Price':len}, fill_value=0).sort_values(by='Price', ascending=False)\n",
        "np.round((t0/t0.sum())*100,1).head(15).T"
      ],
      "metadata": {
        "colab": {
          "base_uri": "https://localhost:8080/",
          "height": 81
        },
        "id": "Li17eCUqmg-f",
        "outputId": "e002acac-545c-4186-b95c-05e9be07e899"
      },
      "execution_count": 11,
      "outputs": [
        {
          "output_type": "execute_result",
          "data": {
            "text/plain": [
              "Year   2015  2014  2016  2017  2013  2012  2011  2010  2008  2007  2009  2006  \\\n",
              "Price  17.9  17.1  14.0  11.2   8.1   7.7   6.0   4.2   3.4   2.8   2.7   1.8   \n",
              "\n",
              "Year   2005  2004  2003  \n",
              "Price   1.2   0.9   0.5  "
            ],
            "text/html": [
              "\n",
              "  <div id=\"df-c302fddf-7f32-4c3b-8d8f-09f73bc3f891\">\n",
              "    <div class=\"colab-df-container\">\n",
              "      <div>\n",
              "<style scoped>\n",
              "    .dataframe tbody tr th:only-of-type {\n",
              "        vertical-align: middle;\n",
              "    }\n",
              "\n",
              "    .dataframe tbody tr th {\n",
              "        vertical-align: top;\n",
              "    }\n",
              "\n",
              "    .dataframe thead th {\n",
              "        text-align: right;\n",
              "    }\n",
              "</style>\n",
              "<table border=\"1\" class=\"dataframe\">\n",
              "  <thead>\n",
              "    <tr style=\"text-align: right;\">\n",
              "      <th>Year</th>\n",
              "      <th>2015</th>\n",
              "      <th>2014</th>\n",
              "      <th>2016</th>\n",
              "      <th>2017</th>\n",
              "      <th>2013</th>\n",
              "      <th>2012</th>\n",
              "      <th>2011</th>\n",
              "      <th>2010</th>\n",
              "      <th>2008</th>\n",
              "      <th>2007</th>\n",
              "      <th>2009</th>\n",
              "      <th>2006</th>\n",
              "      <th>2005</th>\n",
              "      <th>2004</th>\n",
              "      <th>2003</th>\n",
              "    </tr>\n",
              "  </thead>\n",
              "  <tbody>\n",
              "    <tr>\n",
              "      <th>Price</th>\n",
              "      <td>17.9</td>\n",
              "      <td>17.1</td>\n",
              "      <td>14.0</td>\n",
              "      <td>11.2</td>\n",
              "      <td>8.1</td>\n",
              "      <td>7.7</td>\n",
              "      <td>6.0</td>\n",
              "      <td>4.2</td>\n",
              "      <td>3.4</td>\n",
              "      <td>2.8</td>\n",
              "      <td>2.7</td>\n",
              "      <td>1.8</td>\n",
              "      <td>1.2</td>\n",
              "      <td>0.9</td>\n",
              "      <td>0.5</td>\n",
              "    </tr>\n",
              "  </tbody>\n",
              "</table>\n",
              "</div>\n",
              "      <button class=\"colab-df-convert\" onclick=\"convertToInteractive('df-c302fddf-7f32-4c3b-8d8f-09f73bc3f891')\"\n",
              "              title=\"Convert this dataframe to an interactive table.\"\n",
              "              style=\"display:none;\">\n",
              "        \n",
              "  <svg xmlns=\"http://www.w3.org/2000/svg\" height=\"24px\"viewBox=\"0 0 24 24\"\n",
              "       width=\"24px\">\n",
              "    <path d=\"M0 0h24v24H0V0z\" fill=\"none\"/>\n",
              "    <path d=\"M18.56 5.44l.94 2.06.94-2.06 2.06-.94-2.06-.94-.94-2.06-.94 2.06-2.06.94zm-11 1L8.5 8.5l.94-2.06 2.06-.94-2.06-.94L8.5 2.5l-.94 2.06-2.06.94zm10 10l.94 2.06.94-2.06 2.06-.94-2.06-.94-.94-2.06-.94 2.06-2.06.94z\"/><path d=\"M17.41 7.96l-1.37-1.37c-.4-.4-.92-.59-1.43-.59-.52 0-1.04.2-1.43.59L10.3 9.45l-7.72 7.72c-.78.78-.78 2.05 0 2.83L4 21.41c.39.39.9.59 1.41.59.51 0 1.02-.2 1.41-.59l7.78-7.78 2.81-2.81c.8-.78.8-2.07 0-2.86zM5.41 20L4 18.59l7.72-7.72 1.47 1.35L5.41 20z\"/>\n",
              "  </svg>\n",
              "      </button>\n",
              "      \n",
              "  <style>\n",
              "    .colab-df-container {\n",
              "      display:flex;\n",
              "      flex-wrap:wrap;\n",
              "      gap: 12px;\n",
              "    }\n",
              "\n",
              "    .colab-df-convert {\n",
              "      background-color: #E8F0FE;\n",
              "      border: none;\n",
              "      border-radius: 50%;\n",
              "      cursor: pointer;\n",
              "      display: none;\n",
              "      fill: #1967D2;\n",
              "      height: 32px;\n",
              "      padding: 0 0 0 0;\n",
              "      width: 32px;\n",
              "    }\n",
              "\n",
              "    .colab-df-convert:hover {\n",
              "      background-color: #E2EBFA;\n",
              "      box-shadow: 0px 1px 2px rgba(60, 64, 67, 0.3), 0px 1px 3px 1px rgba(60, 64, 67, 0.15);\n",
              "      fill: #174EA6;\n",
              "    }\n",
              "\n",
              "    [theme=dark] .colab-df-convert {\n",
              "      background-color: #3B4455;\n",
              "      fill: #D2E3FC;\n",
              "    }\n",
              "\n",
              "    [theme=dark] .colab-df-convert:hover {\n",
              "      background-color: #434B5C;\n",
              "      box-shadow: 0px 1px 3px 1px rgba(0, 0, 0, 0.15);\n",
              "      filter: drop-shadow(0px 1px 2px rgba(0, 0, 0, 0.3));\n",
              "      fill: #FFFFFF;\n",
              "    }\n",
              "  </style>\n",
              "\n",
              "      <script>\n",
              "        const buttonEl =\n",
              "          document.querySelector('#df-c302fddf-7f32-4c3b-8d8f-09f73bc3f891 button.colab-df-convert');\n",
              "        buttonEl.style.display =\n",
              "          google.colab.kernel.accessAllowed ? 'block' : 'none';\n",
              "\n",
              "        async function convertToInteractive(key) {\n",
              "          const element = document.querySelector('#df-c302fddf-7f32-4c3b-8d8f-09f73bc3f891');\n",
              "          const dataTable =\n",
              "            await google.colab.kernel.invokeFunction('convertToInteractive',\n",
              "                                                     [key], {});\n",
              "          if (!dataTable) return;\n",
              "\n",
              "          const docLinkHtml = 'Like what you see? Visit the ' +\n",
              "            '<a target=\"_blank\" href=https://colab.research.google.com/notebooks/data_table.ipynb>data table notebook</a>'\n",
              "            + ' to learn more about interactive tables.';\n",
              "          element.innerHTML = '';\n",
              "          dataTable['output_type'] = 'display_data';\n",
              "          await google.colab.output.renderOutput(dataTable, element);\n",
              "          const docLink = document.createElement('div');\n",
              "          docLink.innerHTML = docLinkHtml;\n",
              "          element.appendChild(docLink);\n",
              "        }\n",
              "      </script>\n",
              "    </div>\n",
              "  </div>\n",
              "  "
            ]
          },
          "metadata": {},
          "execution_count": 11
        }
      ]
    },
    {
      "cell_type": "code",
      "source": [
        "t1 = pd.pivot_table(dataTraining, values='Price', index='State', aggfunc={'Price':len}, fill_value=0).sort_values(by='Price', ascending=False)\n",
        "t1_ = np.round((t1/t1.sum())*100,1).head(15).T\n",
        "print(\"Pesos: \\n\", t1_)\n",
        "print(\"\\nSuma pesos: \", np.sum(t1_,1))"
      ],
      "metadata": {
        "colab": {
          "base_uri": "https://localhost:8080/"
        },
        "id": "wZxymaQjo73C",
        "outputId": "0f17b3cf-45b7-45f9-a7b8-944192ecb7a2"
      },
      "execution_count": 12,
      "outputs": [
        {
          "output_type": "stream",
          "name": "stdout",
          "text": [
            "Pesos: \n",
            " State    TX   CA   FL   GA   NC   IL   VA   PA   NY   NJ   OH   WA   CO   AZ  \\\n",
            "Price  11.5  9.1  8.4  4.5  4.5  4.2  4.0  3.3  3.1  3.0  2.8  2.7  2.7  2.7   \n",
            "\n",
            "State   TN  \n",
            "Price  2.3  \n",
            "\n",
            "Suma pesos:  Price    68.8\n",
            "dtype: float64\n"
          ]
        }
      ]
    },
    {
      "cell_type": "code",
      "source": [
        "t2 = pd.pivot_table(dataTraining, values='Price', index='Make', aggfunc={'Price':len}, fill_value=0).sort_values(by='Price', ascending=False)\n",
        "t2_ = np.round((t2/t2.sum())*100,1).head(15).T\n",
        "print(\"Pesos: \\n\", t2_)\n",
        "print(\"\\nSuma pesos: \", np.sum(t2_,1))"
      ],
      "metadata": {
        "colab": {
          "base_uri": "https://localhost:8080/"
        },
        "id": "fFWrm5wrrycX",
        "outputId": "51456824-b70b-4971-a62b-ab16cda8ea70"
      },
      "execution_count": 13,
      "outputs": [
        {
          "output_type": "stream",
          "name": "stdout",
          "text": [
            "Pesos: \n",
            " Make   Ford  Chevrolet  Toyota  Honda  Jeep  GMC  Kia  Dodge  Hyundai  Lexus  \\\n",
            "Price  15.7       14.6    11.5    8.3   6.1  5.2  4.1    4.0      3.8    3.4   \n",
            "\n",
            "Make   BMW  Volkswagen  Nissan  Chrysler  Mercedes-Benz  \n",
            "Price  3.1         2.8     2.6       2.3            1.9  \n",
            "\n",
            "Suma pesos:  Price    89.4\n",
            "dtype: float64\n"
          ]
        }
      ]
    },
    {
      "cell_type": "code",
      "source": [
        "t3 = pd.pivot_table(dataTraining, values='Price', index='Model', aggfunc={'Price':len}, fill_value=0).sort_values(by='Price', ascending=False)\n",
        "t3_ = np.round((t3/t3.sum())*100,1).head(15).T\n",
        "print(\"Pesos: \\n\", t3_)\n",
        "print(\"\\nSuma pesos: \", np.sum(t3_,1))"
      ],
      "metadata": {
        "colab": {
          "base_uri": "https://localhost:8080/"
        },
        "id": "gGZ10B9Y1F0S",
        "outputId": "ed1ae27e-d951-4f2d-d78b-3a87272c42fc"
      },
      "execution_count": 14,
      "outputs": [
        {
          "output_type": "stream",
          "name": "stdout",
          "text": [
            "Pesos: \n",
            " Model  Silverado  Grand  Sierra  Accord  F-1504WD  Wrangler  Civic    3  \\\n",
            "Price        4.5    3.1     2.1     1.8       1.7       1.5    1.4  1.4   \n",
            "\n",
            "Model  Jetta  FusionSE  Santa  EquinoxFWD  CamrySE  Super  CorollaLE  \n",
            "Price    1.3       1.2    1.2         1.2      1.0    1.0        0.9  \n",
            "\n",
            "Suma pesos:  Price    25.3\n",
            "dtype: float64\n"
          ]
        }
      ]
    },
    {
      "cell_type": "code",
      "source": [
        "print('Make', np.size(pd.unique(dataTraining['Make'])))\n",
        "print('State', np.size(pd.unique(dataTraining['State'])))\n",
        "print('Year', np.size(pd.unique(dataTraining['Year'])))\n",
        "print('Model', np.size(pd.unique(dataTraining['Model'])))"
      ],
      "metadata": {
        "colab": {
          "base_uri": "https://localhost:8080/"
        },
        "id": "wxbX_rvknDeO",
        "outputId": "33947f23-88d2-4954-9477-af258105c5c4"
      },
      "execution_count": 15,
      "outputs": [
        {
          "output_type": "stream",
          "name": "stdout",
          "text": [
            "Make 38\n",
            "State 51\n",
            "Year 22\n",
            "Model 525\n"
          ]
        }
      ]
    },
    {
      "cell_type": "code",
      "source": [
        "# Preprocesamiento de datos opción 1\n",
        "\n",
        "from sklearn import preprocessing\n",
        "from sklearn.preprocessing import StandardScaler\n",
        "from sklearn.preprocessing import LabelEncoder\n",
        "\n",
        "data = dataTraining.copy()\n",
        "data['State'] = LabelEncoder().fit_transform(data['State'])\n",
        "data['Model'] = LabelEncoder().fit_transform(data['Model'])\n",
        "data['Make'] = LabelEncoder().fit_transform(data['Make'])\n",
        "#data = data.drop(['State', 'Model', 'Make'], axis=1) # mse=8967.03046802371\n",
        "#data = data.drop(['State', 'Model'], axis=1) # mse=7708.829971325379\n",
        "data = data.drop(['State'], axis=1) # mse=5879.905043917509\n",
        "#data = data.drop(['Model'], axis=1) # mse=7699.480418043603\n",
        "#data = data.drop(['Make'], axis=1) # mse=6324.633354525394\n",
        "#data = data.drop(['State', 'Make'], axis=1) # mse=6244.755213698949\n",
        "#data = data.drop(['Model', 'Make'], axis=1) # mse=8901.556756613661\n",
        "#data = data.drop([], axis=1) # mse=5909.963023939867\n",
        "#data.head()\n",
        "\n",
        "# Separación de variables predictoras (X) y variable de interés (y)\n",
        "y = data['Price']\n",
        "X = data.drop(['Price'], axis=1)\n",
        "\n",
        "# Separación de datos en set de entrenamiento y test\n",
        "from sklearn.model_selection import train_test_split\n",
        "X_train, X_test, y_train, y_test = train_test_split(X, y, test_size=0.33, random_state=42)\n",
        "#X_train\n",
        "\n",
        "# Importación y definición de modelo XGBRegressor\n",
        "from xgboost import XGBRegressor\n",
        "from sklearn.metrics import mean_squared_error\n",
        "\n",
        "clf_XG_1 = XGBRegressor()\n",
        "\n",
        "# Entrenamiento (fit) y desempeño del modelo XGBRegressor\n",
        "clf_XG_1.fit(X_train, y_train)\n",
        "y_pred_XG_1 = clf_XG_1.predict(X_test)\n",
        "\n",
        "mse_XG_1 = mean_squared_error(y_pred_XG_1, y_test.values, squared=False)\n",
        "print('El mean_squared_error en la muestra de test es:')\n",
        "print(mse_XG_1)\n",
        "\n",
        "\n",
        "# Impresión de resultados de desemepeño del modelo\n",
        "feature_cols_name = X_test.columns\n",
        "pd.DataFrame({'feature':feature_cols_name, 'importance':clf_XG_1.feature_importances_}).sort_values('importance')\n",
        "\n",
        "# Predicción del conjunto de test\n",
        "Dataset = dataTesting.copy()\n",
        "Dataset['State'] = LabelEncoder().fit_transform(Dataset['State'])\n",
        "Dataset['Make'] = LabelEncoder().fit_transform(Dataset['Make'])\n",
        "Dataset['Model'] = LabelEncoder().fit_transform(Dataset['Model'])\n",
        "\n",
        "Dataset = Dataset.drop(['State'], axis=1) # mse=5879.905043917509\n",
        "prediccion = clf_XG_1.predict(Dataset)\n",
        "\n",
        "y_pred = pd.DataFrame(prediccion, index=Dataset.index, columns=['Price'])\n"
      ],
      "metadata": {
        "colab": {
          "base_uri": "https://localhost:8080/"
        },
        "id": "rAj9jvh61SJu",
        "outputId": "afcd43b1-5137-480a-cbe5-e88a29fc412d"
      },
      "execution_count": 16,
      "outputs": [
        {
          "output_type": "stream",
          "name": "stdout",
          "text": [
            "[00:55:08] WARNING: /workspace/src/objective/regression_obj.cu:152: reg:linear is now deprecated in favor of reg:squarederror.\n",
            "El mean_squared_error en la muestra de test es:\n",
            "5879.905043917509\n"
          ]
        }
      ]
    },
    {
      "cell_type": "code",
      "source": [
        "# Preprocesamiento de datos opción 2\n",
        "\n",
        "from sklearn import preprocessing\n",
        "from sklearn.preprocessing import StandardScaler\n",
        "from sklearn.preprocessing import LabelEncoder\n",
        "\n",
        "data = dataTraining.copy()\n",
        "data['State'] = LabelEncoder().fit_transform(data['State'])\n",
        "data['Model'] = LabelEncoder().fit_transform(data['Model'])\n",
        "data['Make'] = LabelEncoder().fit_transform(data['Make'])\n",
        "#data = data.drop(['State', 'Model', 'Make'], axis=1) # mse=8967.03046802371\n",
        "#data = data.drop(['State', 'Model'], axis=1) # mse=7708.829971325379\n",
        "data = data.drop(['State'], axis=1) # mse=5879.905043917509\n",
        "#data = data.drop(['Model'], axis=1) # mse=7699.480418043603\n",
        "#data = data.drop(['Make'], axis=1) # mse=6324.633354525394\n",
        "#data = data.drop(['State', 'Make'], axis=1) # mse=6244.755213698949\n",
        "#data = data.drop(['Model', 'Make'], axis=1) # mse=8901.556756613661\n",
        "#data = data.drop([], axis=1) # mse=5909.963023939867\n",
        "#data.head()\n",
        "\n",
        "# Separación de variables predictoras (X) y variable de interés (y)\n",
        "y = data['Price']\n",
        "X = data.drop(['Price'], axis=1)\n",
        "\n",
        "scaler = StandardScaler()\n",
        "scaler.fit(X)\n",
        "Xn = scaler.transform(X)\n",
        "\n",
        "\n",
        "# Separación de datos en set de entrenamiento y test\n",
        "from sklearn.model_selection import train_test_split\n",
        "X_train, X_test, y_train, y_test = train_test_split(Xn, y, test_size=0.33, random_state=42)\n",
        "#X_train\n",
        "\n",
        "# Importación y definición de modelo XGBRegressor\n",
        "from xgboost import XGBRegressor\n",
        "from sklearn.metrics import mean_squared_error\n",
        "\n",
        "clf_XG_2 = XGBRegressor()\n",
        "\n",
        "# Entrenamiento (fit) y desempeño del modelo XGBRegressor\n",
        "clf_XG_2.fit(X_train, y_train)\n",
        "y_pred_XG_2 = clf_XG_2.predict(X_test)\n",
        "\n",
        "mse_XG_2 = mean_squared_error(y_pred_XG_2, y_test.values, squared=False)\n",
        "print('El mean_squared_error en la muestra de test es:')\n",
        "print(mse_XG_2)\n",
        "\n",
        "\n",
        "# Impresión de resultados de desemepeño del modelo\n",
        "feature_cols_name = X.columns\n",
        "pd.DataFrame({'feature':feature_cols_name, 'importance':clf_XG_2.feature_importances_}).sort_values('importance')\n",
        "\n",
        "# Predicción del conjunto de test\n",
        "Dataset = dataTesting.copy()\n",
        "Dataset['State'] = LabelEncoder().fit_transform(Dataset['State'])\n",
        "Dataset['Make'] = LabelEncoder().fit_transform(Dataset['Make'])\n",
        "Dataset['Model'] = LabelEncoder().fit_transform(Dataset['Model'])\n",
        "\n",
        "Dataset = Dataset.drop(['State'], axis=1) # mse=5879.905043917509\n",
        "scaler1 = StandardScaler()\n",
        "scaler1.fit(Dataset)\n",
        "Datasetn = scaler1.transform(Dataset)\n",
        "\n",
        "prediccion = clf_XG_2.predict(Datasetn)\n",
        "\n",
        "y_pred = pd.DataFrame(prediccion, index=Dataset.index, columns=['Price'])\n"
      ],
      "metadata": {
        "colab": {
          "base_uri": "https://localhost:8080/"
        },
        "id": "UM1q0MVrAk4I",
        "outputId": "f0384bf5-38e4-4b51-b491-e81286a879c3"
      },
      "execution_count": 31,
      "outputs": [
        {
          "output_type": "stream",
          "name": "stdout",
          "text": [
            "[01:28:01] WARNING: /workspace/src/objective/regression_obj.cu:152: reg:linear is now deprecated in favor of reg:squarederror.\n",
            "El mean_squared_error en la muestra de test es:\n",
            "5879.905043917509\n"
          ]
        }
      ]
    },
    {
      "cell_type": "code",
      "source": [
        "prediccion"
      ],
      "metadata": {
        "colab": {
          "base_uri": "https://localhost:8080/"
        },
        "id": "gTZvGhxmB5-S",
        "outputId": "5eea7130-d80e-4067-ee81-4fede32f6b28"
      },
      "execution_count": 28,
      "outputs": [
        {
          "output_type": "execute_result",
          "data": {
            "text/plain": [
              "array([22583.508, 35716.77 , 17865.855, ..., 22361.938, 23044.225,\n",
              "       20383.592], dtype=float32)"
            ]
          },
          "metadata": {},
          "execution_count": 28
        }
      ]
    },
    {
      "cell_type": "code",
      "source": [
        "# Guardar predicciones en formato exigido en la competencia de kaggle\n",
        "y_pred.to_csv('/content/drive/MyDrive/Data/test_submission.csv', index_label='ID')\n",
        "#y_pred.to_csv('test_submission.csv', index_label='ID')\n",
        "y_pred.head()"
      ],
      "metadata": {
        "colab": {
          "base_uri": "https://localhost:8080/",
          "height": 237
        },
        "id": "e7zBy0Ln72Gu",
        "outputId": "56dec2f2-cb64-476f-8fab-5ecae05ffe52"
      },
      "execution_count": 18,
      "outputs": [
        {
          "output_type": "execute_result",
          "data": {
            "text/plain": [
              "           Price\n",
              "ID              \n",
              "0   22583.507812\n",
              "1   35716.769531\n",
              "2   17865.855469\n",
              "3    8955.688477\n",
              "4   24263.414062"
            ],
            "text/html": [
              "\n",
              "  <div id=\"df-a23fad86-05bc-4ef5-9670-0768037514bc\">\n",
              "    <div class=\"colab-df-container\">\n",
              "      <div>\n",
              "<style scoped>\n",
              "    .dataframe tbody tr th:only-of-type {\n",
              "        vertical-align: middle;\n",
              "    }\n",
              "\n",
              "    .dataframe tbody tr th {\n",
              "        vertical-align: top;\n",
              "    }\n",
              "\n",
              "    .dataframe thead th {\n",
              "        text-align: right;\n",
              "    }\n",
              "</style>\n",
              "<table border=\"1\" class=\"dataframe\">\n",
              "  <thead>\n",
              "    <tr style=\"text-align: right;\">\n",
              "      <th></th>\n",
              "      <th>Price</th>\n",
              "    </tr>\n",
              "    <tr>\n",
              "      <th>ID</th>\n",
              "      <th></th>\n",
              "    </tr>\n",
              "  </thead>\n",
              "  <tbody>\n",
              "    <tr>\n",
              "      <th>0</th>\n",
              "      <td>22583.507812</td>\n",
              "    </tr>\n",
              "    <tr>\n",
              "      <th>1</th>\n",
              "      <td>35716.769531</td>\n",
              "    </tr>\n",
              "    <tr>\n",
              "      <th>2</th>\n",
              "      <td>17865.855469</td>\n",
              "    </tr>\n",
              "    <tr>\n",
              "      <th>3</th>\n",
              "      <td>8955.688477</td>\n",
              "    </tr>\n",
              "    <tr>\n",
              "      <th>4</th>\n",
              "      <td>24263.414062</td>\n",
              "    </tr>\n",
              "  </tbody>\n",
              "</table>\n",
              "</div>\n",
              "      <button class=\"colab-df-convert\" onclick=\"convertToInteractive('df-a23fad86-05bc-4ef5-9670-0768037514bc')\"\n",
              "              title=\"Convert this dataframe to an interactive table.\"\n",
              "              style=\"display:none;\">\n",
              "        \n",
              "  <svg xmlns=\"http://www.w3.org/2000/svg\" height=\"24px\"viewBox=\"0 0 24 24\"\n",
              "       width=\"24px\">\n",
              "    <path d=\"M0 0h24v24H0V0z\" fill=\"none\"/>\n",
              "    <path d=\"M18.56 5.44l.94 2.06.94-2.06 2.06-.94-2.06-.94-.94-2.06-.94 2.06-2.06.94zm-11 1L8.5 8.5l.94-2.06 2.06-.94-2.06-.94L8.5 2.5l-.94 2.06-2.06.94zm10 10l.94 2.06.94-2.06 2.06-.94-2.06-.94-.94-2.06-.94 2.06-2.06.94z\"/><path d=\"M17.41 7.96l-1.37-1.37c-.4-.4-.92-.59-1.43-.59-.52 0-1.04.2-1.43.59L10.3 9.45l-7.72 7.72c-.78.78-.78 2.05 0 2.83L4 21.41c.39.39.9.59 1.41.59.51 0 1.02-.2 1.41-.59l7.78-7.78 2.81-2.81c.8-.78.8-2.07 0-2.86zM5.41 20L4 18.59l7.72-7.72 1.47 1.35L5.41 20z\"/>\n",
              "  </svg>\n",
              "      </button>\n",
              "      \n",
              "  <style>\n",
              "    .colab-df-container {\n",
              "      display:flex;\n",
              "      flex-wrap:wrap;\n",
              "      gap: 12px;\n",
              "    }\n",
              "\n",
              "    .colab-df-convert {\n",
              "      background-color: #E8F0FE;\n",
              "      border: none;\n",
              "      border-radius: 50%;\n",
              "      cursor: pointer;\n",
              "      display: none;\n",
              "      fill: #1967D2;\n",
              "      height: 32px;\n",
              "      padding: 0 0 0 0;\n",
              "      width: 32px;\n",
              "    }\n",
              "\n",
              "    .colab-df-convert:hover {\n",
              "      background-color: #E2EBFA;\n",
              "      box-shadow: 0px 1px 2px rgba(60, 64, 67, 0.3), 0px 1px 3px 1px rgba(60, 64, 67, 0.15);\n",
              "      fill: #174EA6;\n",
              "    }\n",
              "\n",
              "    [theme=dark] .colab-df-convert {\n",
              "      background-color: #3B4455;\n",
              "      fill: #D2E3FC;\n",
              "    }\n",
              "\n",
              "    [theme=dark] .colab-df-convert:hover {\n",
              "      background-color: #434B5C;\n",
              "      box-shadow: 0px 1px 3px 1px rgba(0, 0, 0, 0.15);\n",
              "      filter: drop-shadow(0px 1px 2px rgba(0, 0, 0, 0.3));\n",
              "      fill: #FFFFFF;\n",
              "    }\n",
              "  </style>\n",
              "\n",
              "      <script>\n",
              "        const buttonEl =\n",
              "          document.querySelector('#df-a23fad86-05bc-4ef5-9670-0768037514bc button.colab-df-convert');\n",
              "        buttonEl.style.display =\n",
              "          google.colab.kernel.accessAllowed ? 'block' : 'none';\n",
              "\n",
              "        async function convertToInteractive(key) {\n",
              "          const element = document.querySelector('#df-a23fad86-05bc-4ef5-9670-0768037514bc');\n",
              "          const dataTable =\n",
              "            await google.colab.kernel.invokeFunction('convertToInteractive',\n",
              "                                                     [key], {});\n",
              "          if (!dataTable) return;\n",
              "\n",
              "          const docLinkHtml = 'Like what you see? Visit the ' +\n",
              "            '<a target=\"_blank\" href=https://colab.research.google.com/notebooks/data_table.ipynb>data table notebook</a>'\n",
              "            + ' to learn more about interactive tables.';\n",
              "          element.innerHTML = '';\n",
              "          dataTable['output_type'] = 'display_data';\n",
              "          await google.colab.output.renderOutput(dataTable, element);\n",
              "          const docLink = document.createElement('div');\n",
              "          docLink.innerHTML = docLinkHtml;\n",
              "          element.appendChild(docLink);\n",
              "        }\n",
              "      </script>\n",
              "    </div>\n",
              "  </div>\n",
              "  "
            ]
          },
          "metadata": {},
          "execution_count": 18
        }
      ]
    },
    {
      "cell_type": "code",
      "source": [
        "\"\"\"\n",
        "# Preprocesamiento de datos\n",
        "\n",
        "data = dataTraining.copy()\n",
        "data = data.join(pd.get_dummies(data['Model'], prefix='Mo'))\n",
        "data = data.join(pd.get_dummies(data['Make'], prefix='Ma'))\n",
        "data = data.join(pd.get_dummies(data['State'], prefix='St'))\n",
        "\n",
        "data = data.drop(['Model', 'Make', 'State'], axis=1)\n",
        "#data = data.loc[data['Model'].str.contains('Camry')].drop(['Make', 'State'], axis=1)\n",
        "#data = data.join(pd.get_dummies(data['Model'], prefix='M'))\n",
        "#data['HighPrice'] = (data['Price'] > data['Price'].mean()).astype(int)\n",
        "#data = data.drop(['Model', 'Price'], axis=1)\n",
        "\n",
        "# Visualización dataset\n",
        "data.head()\n",
        "\n",
        "\"\"\"\n"
      ],
      "metadata": {
        "id": "OjW3_5vFy4kv"
      },
      "execution_count": null,
      "outputs": []
    },
    {
      "cell_type": "code",
      "source": [
        "\"\"\"\n",
        "# Separación de variables predictoras (X) y variable de interés (y)\n",
        "y = data['Price']\n",
        "X = data.drop(['Price'], axis=1)\n",
        "\"\"\""
      ],
      "metadata": {
        "id": "zxOWKkqc2mRl"
      },
      "execution_count": null,
      "outputs": []
    },
    {
      "cell_type": "code",
      "source": [
        "\"\"\"\n",
        "# Separación de datos en set de entrenamiento y test\n",
        "from sklearn.model_selection import train_test_split\n",
        "X_train, X_test, y_train, y_test = train_test_split(X, y, test_size=0.33, random_state=42)\n",
        "#X_train\n",
        "\"\"\""
      ],
      "metadata": {
        "id": "ZQSLuv4e2v4A"
      },
      "execution_count": null,
      "outputs": []
    },
    {
      "cell_type": "code",
      "source": [
        "\"\"\"\n",
        "# Importación y definición de modelo XGBRegressor\n",
        "from xgboost import XGBRegressor\n",
        "from sklearn.metrics import mean_squared_error\n",
        "\n",
        "clf_XG = XGBRegressor()\n",
        "\n",
        "# Entrenamiento (fit) y desempeño del modelo XGBRegressor\n",
        "clf_XG.fit(X_train, y_train)\n",
        "y_pred_XG_ = clf_XG.predict(X_test)\n",
        "\n",
        "mse_XG = mean_squared_error(y_pred_XG_, y_test.values, squared=False)\n",
        "print('El mean_squared_error en la muestra de test es:')\n",
        "print(mse_XG)\n",
        "\n",
        "\n",
        "# Impresión de resultados de desemepeño del modelo\n",
        "feature_cols_name = X_test.columns\n",
        "\"\"\""
      ],
      "metadata": {
        "id": "t7RxDqaF3A_h"
      },
      "execution_count": null,
      "outputs": []
    },
    {
      "cell_type": "code",
      "source": [
        "\"\"\"\n",
        "#Random Forest\n",
        "from sklearn.ensemble import RandomForestRegressor\n",
        "\n",
        "# Definición de modelo Random Forest para un problema de regresión\n",
        "clf_RF = RandomForestRegressor(random_state=1, n_jobs=-1)\n",
        "clf_RF.fit(X_train, y_train)\n",
        "\n",
        "y_pred_RF_ = clf_RF.predict(X_test)\n",
        "\n",
        "mse_RF = mean_squared_error(y_pred_RF_, y_test.values, squared=False)\n",
        "print('El mean_squared_error en la muestra de test es:')\n",
        "print(mse_RF)\n",
        "\"\"\""
      ],
      "metadata": {
        "id": "81BHcyiJ5rwM"
      },
      "execution_count": null,
      "outputs": []
    },
    {
      "cell_type": "code",
      "execution_count": null,
      "metadata": {
        "id": "Xv-tci36bl5k"
      },
      "outputs": [],
      "source": [
        "\"\"\"\n",
        "# Predicción del conjunto de test - acá se genera un número aleatorio como ejemplo\n",
        "np.random.seed(42)\n",
        "y_pred = pd.DataFrame(np.random.rand(dataTesting.shape[0]) * 75000 + 5000, index=dataTesting.index, columns=['Price'])\n",
        "\"\"\""
      ]
    },
    {
      "cell_type": "code",
      "source": [
        ""
      ],
      "metadata": {
        "id": "CQdBHBwscte6"
      },
      "execution_count": null,
      "outputs": []
    },
    {
      "cell_type": "code",
      "execution_count": null,
      "metadata": {
        "id": "SXCkcuSFbl5k"
      },
      "outputs": [],
      "source": [
        "\"\"\"\n",
        "# Guardar predicciones en formato exigido en la competencia de kaggle\n",
        "y_pred.to_csv('test_submission.csv', index_label='ID')\n",
        "y_pred.head()\n",
        "\"\"\""
      ]
    }
  ],
  "metadata": {
    "kernelspec": {
      "display_name": "Python 3",
      "language": "python",
      "name": "python3"
    },
    "language_info": {
      "codemirror_mode": {
        "name": "ipython",
        "version": 3
      },
      "file_extension": ".py",
      "mimetype": "text/x-python",
      "name": "python",
      "nbconvert_exporter": "python",
      "pygments_lexer": "ipython3",
      "version": "3.7.3"
    },
    "colab": {
      "name": "S3P1_proyecto1.ipynb",
      "provenance": [],
      "include_colab_link": true
    }
  },
  "nbformat": 4,
  "nbformat_minor": 0
}