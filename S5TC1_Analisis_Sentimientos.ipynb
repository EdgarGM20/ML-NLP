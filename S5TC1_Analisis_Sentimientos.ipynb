{
  "cells": [
    {
      "cell_type": "markdown",
      "metadata": {
        "id": "view-in-github",
        "colab_type": "text"
      },
      "source": [
        "<a href=\"https://colab.research.google.com/github/EdgarGM20/ML-NLP/blob/main/S5TC1_Analisis_Sentimientos.ipynb\" target=\"_parent\"><img src=\"https://colab.research.google.com/assets/colab-badge.svg\" alt=\"Open In Colab\"/></a>"
      ]
    },
    {
      "cell_type": "markdown",
      "metadata": {
        "id": "C8P4NVHOHcSP"
      },
      "source": [
        "![image info](https://raw.githubusercontent.com/albahnsen/MIAD_ML_and_NLP/main/images/banner_1.png)"
      ]
    },
    {
      "cell_type": "markdown",
      "metadata": {
        "id": "wr32R1oCHcST"
      },
      "source": [
        "# Taller: Análisis de sentimientos y técnicas de NLP\n",
        "\n",
        "En este taller podrán poner en práctica sus conocimientos sobre las diferentes técnicas para el procesamiento de lenguaje natural. El taller está constituido por 5 puntos, en los cuales deberan seguir las intrucciones de cada numeral para su desarrollo."
      ]
    },
    {
      "cell_type": "markdown",
      "metadata": {
        "id": "gfGalwc7HcSU"
      },
      "source": [
        "## Datos predicción sentimientos de viajeros en Twitter\n",
        "\n",
        "En este taller se usará el conjunto de datos de sentimientos sobre distintas aerolíneas de EE.UU. provenientes de Twitter. Cada observación contiene si el sentimiento de los tweets es positivo, neutral o negativo teniendo en cuenta distintas variables como aerolínea y las razones de los sentimientos negativos (como \"retraso en el vuelo\" o \"servicio grosero\"). El objetivo es predecir el sentimiento asociado a cada tweet. Para más detalles pueden visitar el siguiente enlace: [datos](https://www.kaggle.com/crowdflower/twitter-airline-sentiment)."
      ]
    },
    {
      "cell_type": "code",
      "execution_count": 1,
      "metadata": {
        "id": "SQlRv71UHcSV"
      },
      "outputs": [],
      "source": [
        "import warnings\n",
        "warnings.filterwarnings('ignore')"
      ]
    },
    {
      "cell_type": "code",
      "execution_count": 2,
      "metadata": {
        "id": "XUDAkq6NHcSW"
      },
      "outputs": [],
      "source": [
        "# Importación de librerías\n",
        "import pandas as pd\n",
        "import numpy as np\n",
        "%matplotlib inline\n",
        "import matplotlib.pyplot as plt"
      ]
    },
    {
      "cell_type": "code",
      "execution_count": 3,
      "metadata": {
        "id": "mikc346CHcSX",
        "colab": {
          "base_uri": "https://localhost:8080/",
          "height": 528
        },
        "outputId": "c551b775-70ea-4d0d-e1d9-89d3ed2c4da3"
      },
      "outputs": [
        {
          "output_type": "execute_result",
          "data": {
            "text/plain": [
              "                   airline_sentiment  airline_sentiment_confidence  \\\n",
              "tweet_id                                                             \n",
              "570306133677760513           neutral                        1.0000   \n",
              "570301130888122368          positive                        0.3486   \n",
              "570301083672813571           neutral                        0.6837   \n",
              "570301031407624196          negative                        1.0000   \n",
              "570300817074462722          negative                        1.0000   \n",
              "\n",
              "                   negativereason  negativereason_confidence         airline  \\\n",
              "tweet_id                                                                       \n",
              "570306133677760513            NaN                        NaN  Virgin America   \n",
              "570301130888122368            NaN                     0.0000  Virgin America   \n",
              "570301083672813571            NaN                        NaN  Virgin America   \n",
              "570301031407624196     Bad Flight                     0.7033  Virgin America   \n",
              "570300817074462722     Can't Tell                     1.0000  Virgin America   \n",
              "\n",
              "                   airline_sentiment_gold        name negativereason_gold  \\\n",
              "tweet_id                                                                    \n",
              "570306133677760513                    NaN     cairdin                 NaN   \n",
              "570301130888122368                    NaN    jnardino                 NaN   \n",
              "570301083672813571                    NaN  yvonnalynn                 NaN   \n",
              "570301031407624196                    NaN    jnardino                 NaN   \n",
              "570300817074462722                    NaN    jnardino                 NaN   \n",
              "\n",
              "                    retweet_count  \\\n",
              "tweet_id                            \n",
              "570306133677760513              0   \n",
              "570301130888122368              0   \n",
              "570301083672813571              0   \n",
              "570301031407624196              0   \n",
              "570300817074462722              0   \n",
              "\n",
              "                                                                 text  \\\n",
              "tweet_id                                                                \n",
              "570306133677760513                @VirginAmerica What @dhepburn said.   \n",
              "570301130888122368  @VirginAmerica plus you've added commercials t...   \n",
              "570301083672813571  @VirginAmerica I didn't today... Must mean I n...   \n",
              "570301031407624196  @VirginAmerica it's really aggressive to blast...   \n",
              "570300817074462722  @VirginAmerica and it's a really big bad thing...   \n",
              "\n",
              "                   tweet_coord              tweet_created tweet_location  \\\n",
              "tweet_id                                                                   \n",
              "570306133677760513         NaN  2015-02-24 11:35:52 -0800            NaN   \n",
              "570301130888122368         NaN  2015-02-24 11:15:59 -0800            NaN   \n",
              "570301083672813571         NaN  2015-02-24 11:15:48 -0800      Lets Play   \n",
              "570301031407624196         NaN  2015-02-24 11:15:36 -0800            NaN   \n",
              "570300817074462722         NaN  2015-02-24 11:14:45 -0800            NaN   \n",
              "\n",
              "                                 user_timezone  \n",
              "tweet_id                                        \n",
              "570306133677760513  Eastern Time (US & Canada)  \n",
              "570301130888122368  Pacific Time (US & Canada)  \n",
              "570301083672813571  Central Time (US & Canada)  \n",
              "570301031407624196  Pacific Time (US & Canada)  \n",
              "570300817074462722  Pacific Time (US & Canada)  "
            ],
            "text/html": [
              "\n",
              "  <div id=\"df-ad1f6234-0843-41d0-b92d-ace99baeb686\">\n",
              "    <div class=\"colab-df-container\">\n",
              "      <div>\n",
              "<style scoped>\n",
              "    .dataframe tbody tr th:only-of-type {\n",
              "        vertical-align: middle;\n",
              "    }\n",
              "\n",
              "    .dataframe tbody tr th {\n",
              "        vertical-align: top;\n",
              "    }\n",
              "\n",
              "    .dataframe thead th {\n",
              "        text-align: right;\n",
              "    }\n",
              "</style>\n",
              "<table border=\"1\" class=\"dataframe\">\n",
              "  <thead>\n",
              "    <tr style=\"text-align: right;\">\n",
              "      <th></th>\n",
              "      <th>airline_sentiment</th>\n",
              "      <th>airline_sentiment_confidence</th>\n",
              "      <th>negativereason</th>\n",
              "      <th>negativereason_confidence</th>\n",
              "      <th>airline</th>\n",
              "      <th>airline_sentiment_gold</th>\n",
              "      <th>name</th>\n",
              "      <th>negativereason_gold</th>\n",
              "      <th>retweet_count</th>\n",
              "      <th>text</th>\n",
              "      <th>tweet_coord</th>\n",
              "      <th>tweet_created</th>\n",
              "      <th>tweet_location</th>\n",
              "      <th>user_timezone</th>\n",
              "    </tr>\n",
              "    <tr>\n",
              "      <th>tweet_id</th>\n",
              "      <th></th>\n",
              "      <th></th>\n",
              "      <th></th>\n",
              "      <th></th>\n",
              "      <th></th>\n",
              "      <th></th>\n",
              "      <th></th>\n",
              "      <th></th>\n",
              "      <th></th>\n",
              "      <th></th>\n",
              "      <th></th>\n",
              "      <th></th>\n",
              "      <th></th>\n",
              "      <th></th>\n",
              "    </tr>\n",
              "  </thead>\n",
              "  <tbody>\n",
              "    <tr>\n",
              "      <th>570306133677760513</th>\n",
              "      <td>neutral</td>\n",
              "      <td>1.0000</td>\n",
              "      <td>NaN</td>\n",
              "      <td>NaN</td>\n",
              "      <td>Virgin America</td>\n",
              "      <td>NaN</td>\n",
              "      <td>cairdin</td>\n",
              "      <td>NaN</td>\n",
              "      <td>0</td>\n",
              "      <td>@VirginAmerica What @dhepburn said.</td>\n",
              "      <td>NaN</td>\n",
              "      <td>2015-02-24 11:35:52 -0800</td>\n",
              "      <td>NaN</td>\n",
              "      <td>Eastern Time (US &amp; Canada)</td>\n",
              "    </tr>\n",
              "    <tr>\n",
              "      <th>570301130888122368</th>\n",
              "      <td>positive</td>\n",
              "      <td>0.3486</td>\n",
              "      <td>NaN</td>\n",
              "      <td>0.0000</td>\n",
              "      <td>Virgin America</td>\n",
              "      <td>NaN</td>\n",
              "      <td>jnardino</td>\n",
              "      <td>NaN</td>\n",
              "      <td>0</td>\n",
              "      <td>@VirginAmerica plus you've added commercials t...</td>\n",
              "      <td>NaN</td>\n",
              "      <td>2015-02-24 11:15:59 -0800</td>\n",
              "      <td>NaN</td>\n",
              "      <td>Pacific Time (US &amp; Canada)</td>\n",
              "    </tr>\n",
              "    <tr>\n",
              "      <th>570301083672813571</th>\n",
              "      <td>neutral</td>\n",
              "      <td>0.6837</td>\n",
              "      <td>NaN</td>\n",
              "      <td>NaN</td>\n",
              "      <td>Virgin America</td>\n",
              "      <td>NaN</td>\n",
              "      <td>yvonnalynn</td>\n",
              "      <td>NaN</td>\n",
              "      <td>0</td>\n",
              "      <td>@VirginAmerica I didn't today... Must mean I n...</td>\n",
              "      <td>NaN</td>\n",
              "      <td>2015-02-24 11:15:48 -0800</td>\n",
              "      <td>Lets Play</td>\n",
              "      <td>Central Time (US &amp; Canada)</td>\n",
              "    </tr>\n",
              "    <tr>\n",
              "      <th>570301031407624196</th>\n",
              "      <td>negative</td>\n",
              "      <td>1.0000</td>\n",
              "      <td>Bad Flight</td>\n",
              "      <td>0.7033</td>\n",
              "      <td>Virgin America</td>\n",
              "      <td>NaN</td>\n",
              "      <td>jnardino</td>\n",
              "      <td>NaN</td>\n",
              "      <td>0</td>\n",
              "      <td>@VirginAmerica it's really aggressive to blast...</td>\n",
              "      <td>NaN</td>\n",
              "      <td>2015-02-24 11:15:36 -0800</td>\n",
              "      <td>NaN</td>\n",
              "      <td>Pacific Time (US &amp; Canada)</td>\n",
              "    </tr>\n",
              "    <tr>\n",
              "      <th>570300817074462722</th>\n",
              "      <td>negative</td>\n",
              "      <td>1.0000</td>\n",
              "      <td>Can't Tell</td>\n",
              "      <td>1.0000</td>\n",
              "      <td>Virgin America</td>\n",
              "      <td>NaN</td>\n",
              "      <td>jnardino</td>\n",
              "      <td>NaN</td>\n",
              "      <td>0</td>\n",
              "      <td>@VirginAmerica and it's a really big bad thing...</td>\n",
              "      <td>NaN</td>\n",
              "      <td>2015-02-24 11:14:45 -0800</td>\n",
              "      <td>NaN</td>\n",
              "      <td>Pacific Time (US &amp; Canada)</td>\n",
              "    </tr>\n",
              "  </tbody>\n",
              "</table>\n",
              "</div>\n",
              "      <button class=\"colab-df-convert\" onclick=\"convertToInteractive('df-ad1f6234-0843-41d0-b92d-ace99baeb686')\"\n",
              "              title=\"Convert this dataframe to an interactive table.\"\n",
              "              style=\"display:none;\">\n",
              "        \n",
              "  <svg xmlns=\"http://www.w3.org/2000/svg\" height=\"24px\"viewBox=\"0 0 24 24\"\n",
              "       width=\"24px\">\n",
              "    <path d=\"M0 0h24v24H0V0z\" fill=\"none\"/>\n",
              "    <path d=\"M18.56 5.44l.94 2.06.94-2.06 2.06-.94-2.06-.94-.94-2.06-.94 2.06-2.06.94zm-11 1L8.5 8.5l.94-2.06 2.06-.94-2.06-.94L8.5 2.5l-.94 2.06-2.06.94zm10 10l.94 2.06.94-2.06 2.06-.94-2.06-.94-.94-2.06-.94 2.06-2.06.94z\"/><path d=\"M17.41 7.96l-1.37-1.37c-.4-.4-.92-.59-1.43-.59-.52 0-1.04.2-1.43.59L10.3 9.45l-7.72 7.72c-.78.78-.78 2.05 0 2.83L4 21.41c.39.39.9.59 1.41.59.51 0 1.02-.2 1.41-.59l7.78-7.78 2.81-2.81c.8-.78.8-2.07 0-2.86zM5.41 20L4 18.59l7.72-7.72 1.47 1.35L5.41 20z\"/>\n",
              "  </svg>\n",
              "      </button>\n",
              "      \n",
              "  <style>\n",
              "    .colab-df-container {\n",
              "      display:flex;\n",
              "      flex-wrap:wrap;\n",
              "      gap: 12px;\n",
              "    }\n",
              "\n",
              "    .colab-df-convert {\n",
              "      background-color: #E8F0FE;\n",
              "      border: none;\n",
              "      border-radius: 50%;\n",
              "      cursor: pointer;\n",
              "      display: none;\n",
              "      fill: #1967D2;\n",
              "      height: 32px;\n",
              "      padding: 0 0 0 0;\n",
              "      width: 32px;\n",
              "    }\n",
              "\n",
              "    .colab-df-convert:hover {\n",
              "      background-color: #E2EBFA;\n",
              "      box-shadow: 0px 1px 2px rgba(60, 64, 67, 0.3), 0px 1px 3px 1px rgba(60, 64, 67, 0.15);\n",
              "      fill: #174EA6;\n",
              "    }\n",
              "\n",
              "    [theme=dark] .colab-df-convert {\n",
              "      background-color: #3B4455;\n",
              "      fill: #D2E3FC;\n",
              "    }\n",
              "\n",
              "    [theme=dark] .colab-df-convert:hover {\n",
              "      background-color: #434B5C;\n",
              "      box-shadow: 0px 1px 3px 1px rgba(0, 0, 0, 0.15);\n",
              "      filter: drop-shadow(0px 1px 2px rgba(0, 0, 0, 0.3));\n",
              "      fill: #FFFFFF;\n",
              "    }\n",
              "  </style>\n",
              "\n",
              "      <script>\n",
              "        const buttonEl =\n",
              "          document.querySelector('#df-ad1f6234-0843-41d0-b92d-ace99baeb686 button.colab-df-convert');\n",
              "        buttonEl.style.display =\n",
              "          google.colab.kernel.accessAllowed ? 'block' : 'none';\n",
              "\n",
              "        async function convertToInteractive(key) {\n",
              "          const element = document.querySelector('#df-ad1f6234-0843-41d0-b92d-ace99baeb686');\n",
              "          const dataTable =\n",
              "            await google.colab.kernel.invokeFunction('convertToInteractive',\n",
              "                                                     [key], {});\n",
              "          if (!dataTable) return;\n",
              "\n",
              "          const docLinkHtml = 'Like what you see? Visit the ' +\n",
              "            '<a target=\"_blank\" href=https://colab.research.google.com/notebooks/data_table.ipynb>data table notebook</a>'\n",
              "            + ' to learn more about interactive tables.';\n",
              "          element.innerHTML = '';\n",
              "          dataTable['output_type'] = 'display_data';\n",
              "          await google.colab.output.renderOutput(dataTable, element);\n",
              "          const docLink = document.createElement('div');\n",
              "          docLink.innerHTML = docLinkHtml;\n",
              "          element.appendChild(docLink);\n",
              "        }\n",
              "      </script>\n",
              "    </div>\n",
              "  </div>\n",
              "  "
            ]
          },
          "metadata": {},
          "execution_count": 3
        }
      ],
      "source": [
        "# Lectura de la información de archivo .zip\n",
        "tweets = pd.read_csv('https://raw.githubusercontent.com/albahnsen/MIAD_ML_and_NLP/main/datasets/Tweets.zip', index_col=0)\n",
        "\n",
        "# Visualización dataset\n",
        "tweets.head()"
      ]
    },
    {
      "cell_type": "code",
      "execution_count": 4,
      "metadata": {
        "id": "I8SFwaFqHcSX",
        "colab": {
          "base_uri": "https://localhost:8080/"
        },
        "outputId": "b1549ea7-fbb5-4f11-8b0f-cfc81fa54d91"
      },
      "outputs": [
        {
          "output_type": "execute_result",
          "data": {
            "text/plain": [
              "(14640, 14)"
            ]
          },
          "metadata": {},
          "execution_count": 4
        }
      ],
      "source": [
        "# Impresión tamaño del cojunto de datos\n",
        "tweets.shape"
      ]
    },
    {
      "cell_type": "markdown",
      "metadata": {
        "id": "St-JVldtHcSY"
      },
      "source": [
        "### Análisis descriptivo"
      ]
    },
    {
      "cell_type": "code",
      "execution_count": 5,
      "metadata": {
        "id": "RfYTQWQYHcSZ",
        "colab": {
          "base_uri": "https://localhost:8080/"
        },
        "outputId": "7512e951-4baa-4a23-9b92-de49657269a6"
      },
      "outputs": [
        {
          "output_type": "execute_result",
          "data": {
            "text/plain": [
              "negative    9178\n",
              "neutral     3099\n",
              "positive    2363\n",
              "Name: airline_sentiment, dtype: int64"
            ]
          },
          "metadata": {},
          "execution_count": 5
        }
      ],
      "source": [
        "# Cuenta de tweets por cada sentimiento\n",
        "tweets['airline_sentiment'].value_counts()"
      ]
    },
    {
      "cell_type": "code",
      "execution_count": 6,
      "metadata": {
        "id": "V0nlchNsHcSZ",
        "colab": {
          "base_uri": "https://localhost:8080/"
        },
        "outputId": "fe2a69bf-e9bb-4d88-cd44-732d4aa02564"
      },
      "outputs": [
        {
          "output_type": "execute_result",
          "data": {
            "text/plain": [
              "United            3822\n",
              "US Airways        2913\n",
              "American          2759\n",
              "Southwest         2420\n",
              "Delta             2222\n",
              "Virgin America     504\n",
              "Name: airline, dtype: int64"
            ]
          },
          "metadata": {},
          "execution_count": 6
        }
      ],
      "source": [
        "# Cuenta de tweets por cada aerolínea\n",
        "tweets['airline'].value_counts()"
      ]
    },
    {
      "cell_type": "code",
      "execution_count": 7,
      "metadata": {
        "id": "sOyplDp9HcSa",
        "colab": {
          "base_uri": "https://localhost:8080/",
          "height": 421
        },
        "outputId": "3a3dfcca-3f62-4453-e96a-4630e0569e54"
      },
      "outputs": [
        {
          "output_type": "execute_result",
          "data": {
            "text/plain": [
              "<matplotlib.axes._subplots.AxesSubplot at 0x7f9871872e50>"
            ]
          },
          "metadata": {},
          "execution_count": 7
        },
        {
          "output_type": "display_data",
          "data": {
            "text/plain": [
              "<Figure size 720x432 with 1 Axes>"
            ],
            "image/png": "[encoded data removed]"
          },
          "metadata": {
            "needs_background": "light"
          }
        }
      ],
      "source": [
        "# Plot con cuenta de tweets por cada aerolínea y sentimiento\n",
        "pd.crosstab(index = tweets[\"airline\"],columns = tweets[\"airline_sentiment\"]).plot(kind='bar',figsize=(10, 6),alpha=0.5,rot=0,stacked=True,title=\"Sentiminetos por aerolínea\")"
      ]
    },
    {
      "cell_type": "markdown",
      "metadata": {
        "id": "JaCzKHnfHcSa"
      },
      "source": [
        "### Liberias y Variables de interés y predicción"
      ]
    },
    {
      "cell_type": "code",
      "execution_count": 8,
      "metadata": {
        "id": "4aeEKJf6HcSb"
      },
      "outputs": [],
      "source": [
        "from sklearn.model_selection import train_test_split, cross_val_score\n",
        "from sklearn.feature_extraction.text import CountVectorizer, TfidfVectorizer\n",
        "from sklearn.ensemble import RandomForestClassifier\n",
        "from sklearn.metrics import confusion_matrix, accuracy_score\n",
        "from nltk.stem.snowball import SnowballStemmer\n",
        "from nltk.stem import WordNetLemmatizer"
      ]
    },
    {
      "cell_type": "code",
      "execution_count": 9,
      "metadata": {
        "id": "VCDcuUv5HcSb"
      },
      "outputs": [],
      "source": [
        "# Separación de variables predictoras (X) y de variable de interés (y)\n",
        "X = tweets['text']\n",
        "y = tweets['airline_sentiment'].map({'negative':-1,'neutral':0,'positive':1})"
      ]
    },
    {
      "cell_type": "code",
      "execution_count": 10,
      "metadata": {
        "id": "NDfnXrwUHcSb"
      },
      "outputs": [],
      "source": [
        "# Separación de datos en set de entrenamiento y test\n",
        "X_train, X_test, y_train, y_test = train_test_split(X, y, test_size=0.33, random_state=42)"
      ]
    },
    {
      "cell_type": "markdown",
      "metadata": {
        "id": "P3G6TfNEHcSc"
      },
      "source": [
        "### Punto 1 - Uso de CountVectorizer\n",
        "\n",
        "En la celda 1 creen un modelo de random forest con la libreria sklearn que prediga el sentimiento de los tweets usando los set de entrenamiento y test definidos anteriormente. Usen la función **CountVectorizer** y presenten el desempeño del modelo con la métrica del acurracy.\n",
        "\n",
        "Recuerden que el preprocesamiento que se haga sobre los datos de entrenamiento  (*.fit_transform()*) deben ser aplicado al set de test (*.transform()*)."
      ]
    },
    {
      "cell_type": "code",
      "source": [
        "from imblearn.over_sampling import SMOTE\n",
        "sm = SMOTE(random_state=42)\n",
        "vect = CountVectorizer(lowercase=False) # stop_words='english', max_features=10000\n",
        "X_dtm = vect.fit_transform(X_train)\n",
        "\n",
        "X_res, y_res = sm.fit_resample(X_dtm, y_train)\n",
        "#print('Resampled dataset shape %s' % Counter(y_res))"
      ],
      "metadata": {
        "id": "UPa7hlcxTcP3"
      },
      "execution_count": 11,
      "outputs": []
    },
    {
      "cell_type": "code",
      "source": [
        "def tokenize_RF_model(X_train, y_train, X_test, y_test, vect):\n",
        "  from imblearn.ensemble import BalancedRandomForestClassifier\n",
        "  from imblearn.over_sampling import SMOTE\n",
        "\n",
        "  X_dtm = vect.fit_transform(X_train)\n",
        "  X_dtm_test = vect.transform(X_test)\n",
        "  print('Features: ', X_dtm.shape[1])\n",
        "\n",
        "  sm = SMOTE(random_state=42)\n",
        "  X_res, y_res = sm.fit_resample(X_dtm, y_train)\n",
        "\n",
        "  # Definición del modelo con los parámetros \n",
        "  #clf = RandomForestClassifier(class_weight='balanced_subsample', random_state=42) # balanced_subsample\n",
        "  clf = BalancedRandomForestClassifier(random_state=42)\n",
        "  clf.fit(X_dtm, y_train)\n",
        "  #clf.fit(X_res, y_res)\n",
        "\n",
        "  # Generacion de predicciones\n",
        "  y_pred = clf.predict(X_dtm_test)\n",
        "\n",
        "  # Validación cruzada\n",
        "  cv_RF = pd.Series(cross_val_score(clf, X_dtm_test, y_test, cv=10)).describe()\n",
        "\n",
        "  # Accuracy total\n",
        "  acc_t = accuracy_score(y_test, y_pred)\n",
        "\n",
        "  # Accuracy per class\n",
        "  cm = confusion_matrix(y_test, y_pred)\n",
        "  m = len(y_test.value_counts())\n",
        "  acc_cl = [acc_t, cv_RF['mean']]\n",
        "  for i in range(m):\n",
        "    acc_cl.append(cm[i][i]/y_test.value_counts().iloc[i])\n",
        "\n",
        "  print(\"\\nMatriz de confusion: \\n\", cm)\n",
        "  print(\"\\nAccuracy score: \\n\", acc_t)\n",
        "  print(\"\\nValidación cruzada: \\n\", cv_RF)\n",
        "  print(\"\\nAccuracy per class: \\n\", acc_cl[2:5])\n",
        "  return acc_cl"
      ],
      "metadata": {
        "id": "NFl_280BS7Ld"
      },
      "execution_count": 12,
      "outputs": []
    },
    {
      "cell_type": "code",
      "execution_count": 13,
      "metadata": {
        "id": "ZDHEf_5PHcSc",
        "colab": {
          "base_uri": "https://localhost:8080/"
        },
        "outputId": "897e98a4-c796-4059-8c2b-3e9a47d44084"
      },
      "outputs": [
        {
          "output_type": "stream",
          "name": "stdout",
          "text": [
            "Features:  14356\n",
            "\n",
            "Matriz de confusion: \n",
            " [[2133  696  256]\n",
            " [ 142  728  114]\n",
            " [  77  170  516]]\n",
            "\n",
            "Accuracy score: \n",
            " 0.6988824503311258\n",
            "\n",
            "Validación cruzada: \n",
            " count    10.000000\n",
            "mean      0.664525\n",
            "std       0.019204\n",
            "min       0.643892\n",
            "25%       0.651163\n",
            "50%       0.660455\n",
            "75%       0.678054\n",
            "max       0.695652\n",
            "dtype: float64\n",
            "\n",
            "Accuracy per class: \n",
            " [0.6914100486223663, 0.7398373983739838, 0.6762778505897772]\n"
          ]
        }
      ],
      "source": [
        "from pandas.core.common import random_state\n",
        "# Celda 1\n",
        "vect = CountVectorizer(lowercase=False) # stop_words='english', max_features=10000\n",
        "RF_1 = tokenize_RF_model(X_train, y_train, X_test, y_test, vect)"
      ]
    },
    {
      "cell_type": "markdown",
      "source": [
        "**Conclusión**\n",
        "- El modelo con CountVectorizer obtiene un **accuracy general** de 0.699. Sin embargo, al revisar por clases se observa que tiene buen desempeño clasificando la clase **neutra** (0.739), las otras dos clases, negativa y positiva tiene un accuracy de 0.691 y 0.676 respectivamente."
      ],
      "metadata": {
        "id": "fb3t5NyrkifZ"
      }
    },
    {
      "cell_type": "markdown",
      "metadata": {
        "id": "ddq_K4-WHcSc"
      },
      "source": [
        "### Punto 2 - Eliminación de Stopwords\n",
        "\n",
        "En la celda 2 creen un modelo de random forest con la libreria sklearn que prediga el sentimiento de los tweets usando los set de entrenamiento y test definidos anteriormente. Usen la función CountVectorizer, **eliminen stopwords** y presenten el desempeño del modelo con la métrica del acurracy.\n",
        "\n",
        "Recuerden que el preprocesamiento que se haga sobre los datos de entrenamiento  (*.fit_transform()*) deben ser aplicado al set de test (*.transform()*)."
      ]
    },
    {
      "cell_type": "code",
      "execution_count": 14,
      "metadata": {
        "id": "ldrlKrLwHcSd",
        "colab": {
          "base_uri": "https://localhost:8080/"
        },
        "outputId": "558860e3-7108-4279-8d48-04efbf4032ff"
      },
      "outputs": [
        {
          "output_type": "stream",
          "name": "stdout",
          "text": [
            "Features:  14082\n",
            "\n",
            "Matriz de confusion: \n",
            " [[1827  927  331]\n",
            " [  99  733  152]\n",
            " [  48  170  545]]\n",
            "\n",
            "Accuracy score: \n",
            " 0.6425910596026491\n",
            "\n",
            "Validación cruzada: \n",
            " count    10.000000\n",
            "mean      0.608235\n",
            "std       0.018457\n",
            "min       0.583851\n",
            "25%       0.594413\n",
            "50%       0.601449\n",
            "75%       0.627329\n",
            "max       0.632231\n",
            "dtype: float64\n",
            "\n",
            "Accuracy per class: \n",
            " [0.5922204213938411, 0.7449186991869918, 0.7142857142857143]\n"
          ]
        }
      ],
      "source": [
        "# Celda 2\n",
        "vect_sw = CountVectorizer(stop_words='english', lowercase=False) # stop_words='english', max_features=10000\n",
        "RF_2 = tokenize_RF_model(X_train, y_train, X_test, y_test, vect_sw)"
      ]
    },
    {
      "cell_type": "markdown",
      "source": [
        "**Conclusión**\n",
        "- El modelo con CountVectorizer y eliminando las StopWords obtiene un **accuracy general** de 0.642. Sin embargo, al revisar por clases se observa que tiene buen desempeño clasificando las clases **neutra y positiva** (0.744 y 0.714 respectivamente), mientra que la clase **negativa** tiene un accuracy de 0.592."
      ],
      "metadata": {
        "id": "ZWuFbpZdlt-p"
      }
    },
    {
      "cell_type": "markdown",
      "metadata": {
        "id": "U0XxjqipHcSd"
      },
      "source": [
        "### Punto 3 - Lematización con verbos\n",
        "\n",
        "En la celda 3 creen un modelo de random forest con la libreria sklearn que prediga el sentimiento de los tweets usando los set de entrenamiento y test definidos anteriormente. Usen la función CountVectorizer, **lematizen el texto con verbos** y presenten el desempeño del modelo con la métrica del acurracy.\n",
        "\n",
        "Recuerden que el preprocesamiento que se haga sobre los datos de entrenamiento  (*.fit_transform()*) deben ser aplicado al set de test (*.transform()*)."
      ]
    },
    {
      "cell_type": "code",
      "execution_count": 15,
      "metadata": {
        "id": "qMgwjvlBHcSd",
        "colab": {
          "base_uri": "https://localhost:8080/"
        },
        "outputId": "d94cd879-ad91-49e6-ed3c-21704d301e69"
      },
      "outputs": [
        {
          "output_type": "stream",
          "name": "stdout",
          "text": [
            "[nltk_data] Downloading package wordnet to /root/nltk_data...\n",
            "[nltk_data]   Package wordnet is already up-to-date!\n"
          ]
        }
      ],
      "source": [
        "# Celda 3\n",
        "# Importación de librerias\n",
        "from nltk.stem import WordNetLemmatizer\n",
        "wordnet_lemmatizer = WordNetLemmatizer()\n",
        "\n",
        "import nltk\n",
        "nltk.download('wordnet')\n",
        "\n",
        "# Definición de la función que tenga como parámetro texto y devuelva una lista de lemas\n",
        "def split_into_lemmas(text):\n",
        "  text = text.lower()\n",
        "  words = text.split()\n",
        "  return [wordnet_lemmatizer.lemmatize(word, pos='v') for word in words]"
      ]
    },
    {
      "cell_type": "code",
      "source": [
        "vect_lemas = CountVectorizer(analyzer=split_into_lemmas)\n",
        "RF_3 = tokenize_RF_model(X_train, y_train, X_test, y_test, vect_lemas)"
      ],
      "metadata": {
        "colab": {
          "base_uri": "https://localhost:8080/"
        },
        "id": "c9m9c9-RW6RA",
        "outputId": "2f140a02-7ea8-4af1-8e8f-0a36b25d7e92"
      },
      "execution_count": 16,
      "outputs": [
        {
          "output_type": "stream",
          "name": "stdout",
          "text": [
            "Features:  19380\n",
            "\n",
            "Matriz de confusion: \n",
            " [[2202  679  204]\n",
            " [ 154  735   95]\n",
            " [  74  165  524]]\n",
            "\n",
            "Accuracy score: \n",
            " 0.7162665562913907\n",
            "\n",
            "Validación cruzada: \n",
            " count    10.000000\n",
            "mean      0.676534\n",
            "std       0.018275\n",
            "min       0.650104\n",
            "25%       0.659078\n",
            "50%       0.683563\n",
            "75%       0.689441\n",
            "max       0.699793\n",
            "dtype: float64\n",
            "\n",
            "Accuracy per class: \n",
            " [0.7137763371150729, 0.7469512195121951, 0.6867627785058977]\n"
          ]
        }
      ]
    },
    {
      "cell_type": "markdown",
      "source": [
        "**Conclusión**\n",
        "- El modelo con CountVectorizer y lemmatizando s obtiene un **accuracy general** de 0.716. Y en comparación con los dos modelos anteriores es el que tiene mejor desempeño clasificando por clases **negativa, neutra y positiva** (0.713, 0.746 y 0.686 respectivamente)."
      ],
      "metadata": {
        "id": "SEDgYWhBmPUB"
      }
    },
    {
      "cell_type": "markdown",
      "metadata": {
        "id": "3ZGrryN9HcSe"
      },
      "source": [
        "### Punto 4 - Multiples técnicas\n",
        "\n",
        "En la celda 4 creen un modelo de random forest con la libreria sklearn que prediga el sentimiento de los tweets usando los set de entrenamiento y test definidos anteriormente. Usen la función **CountVectorizer, eliminen stopwords, lematizen el texto con verbos** y presenten el desempeño del modelo con la métrica del acurracy.\n",
        "\n",
        "Recuerden que el preprocesamiento que se haga sobre los datos de entrenamiento  (*.fit_transform()*) deben ser aplicado al set de test (*.transform()*)."
      ]
    },
    {
      "cell_type": "code",
      "source": [
        "import nltk\n",
        "from nltk.corpus import stopwords\n",
        "nltk.download('stopwords')\n",
        "def split_into_lemmas_sw(text):\n",
        "  text = text.lower()\n",
        "  words = text.split()\n",
        "  return [wordnet_lemmatizer.lemmatize(word, pos='v') for word in words if word not in stopwords.words('english')]"
      ],
      "metadata": {
        "colab": {
          "base_uri": "https://localhost:8080/"
        },
        "id": "96U2DvF0fZ3H",
        "outputId": "e1d0097e-76da-42ca-c6d8-4bffcc29cfbd"
      },
      "execution_count": 17,
      "outputs": [
        {
          "output_type": "stream",
          "name": "stdout",
          "text": [
            "[nltk_data] Downloading package stopwords to /root/nltk_data...\n",
            "[nltk_data]   Package stopwords is already up-to-date!\n"
          ]
        }
      ]
    },
    {
      "cell_type": "code",
      "execution_count": 18,
      "metadata": {
        "id": "YzGa-Yn_HcSe",
        "colab": {
          "base_uri": "https://localhost:8080/"
        },
        "outputId": "5cbdf34c-7137-4187-ec3c-056df9ec51db"
      },
      "outputs": [
        {
          "output_type": "stream",
          "name": "stdout",
          "text": [
            "Features:  19247\n",
            "\n",
            "Matriz de confusion: \n",
            " [[1954  945  186]\n",
            " [ 139  737  108]\n",
            " [  64  169  530]]\n",
            "\n",
            "Accuracy score: \n",
            " 0.6665976821192053\n",
            "\n",
            "Validación cruzada: \n",
            " count    10.000000\n",
            "mean      0.612161\n",
            "std       0.018307\n",
            "min       0.587992\n",
            "25%       0.598861\n",
            "50%       0.610766\n",
            "75%       0.623772\n",
            "max       0.638430\n",
            "dtype: float64\n",
            "\n",
            "Accuracy per class: \n",
            " [0.633387358184765, 0.7489837398373984, 0.6946264744429882]\n"
          ]
        }
      ],
      "source": [
        "# Celda 4\n",
        "vect_lemas_sw = CountVectorizer(analyzer=split_into_lemmas_sw)\n",
        "RF_4 = tokenize_RF_model(X_train, y_train, X_test, y_test, vect_lemas_sw)"
      ]
    },
    {
      "cell_type": "markdown",
      "source": [
        "**Conclusión**\n",
        "- El modelo con CountVectorizer, lemmatizando y eliminando las StopWords obtiene un **accuracy general** de 0.666. Sin embargo, al revisar por clases se observa que tiene buen desempeño clasificando las clases **neutra y positiva** (0.748 y 0.694 respectivamente), mientras que la clase **negativa** tiene un accuracy de 0.633."
      ],
      "metadata": {
        "id": "Ce7Wo96Lm5h6"
      }
    },
    {
      "cell_type": "markdown",
      "metadata": {
        "id": "iCRCl1NaHcSe"
      },
      "source": [
        "### Punto 5 - Comparación y análisis de resultados\n",
        "\n",
        "En la celda 5 comparen los resultados obtenidos de los diferentes modelos (random forest) y comenten las ventajas del mejor modelo y las desventajas del modelo con el menor desempeño."
      ]
    },
    {
      "cell_type": "code",
      "source": [
        "# Celda 5\n",
        "import numpy as np\n",
        "import matplotlib.pyplot as plt\n",
        " \n",
        "serie_1 = RF_1[2:5]\n",
        "serie_2 = RF_2[2:5]\n",
        "serie_3 = RF_3[2:5]\n",
        "serie_4 = RF_4[2:5]\n",
        " \n",
        "numero_de_grupos = len(serie_1)\n",
        "indice_barras = np.arange(numero_de_grupos)\n",
        "ancho_barras =0.1\n",
        " \n",
        "plt.bar(indice_barras, serie_1, width=ancho_barras, label='CountVectorizer')\n",
        "plt.bar(indice_barras + ancho_barras, serie_2, width=ancho_barras, label='StopWords')\n",
        "plt.bar(indice_barras + 2*ancho_barras, serie_3, width=ancho_barras, label='Lemmatization')\n",
        "plt.bar(indice_barras + 3*ancho_barras, serie_4, width=ancho_barras, label='Múltiples')\n",
        "plt.legend(loc='lower right')\n",
        "## Se colocan los indicadores en el eje x\n",
        "plt.xticks(indice_barras + 1.5*ancho_barras, ('Negativo', 'Neutro', 'Positivo'))\n",
        " \n",
        "plt.ylabel('Accuracy')\n",
        "plt.xlabel('Sentimiento')\n",
        "plt.title('Accuracy por sentimiento')\n",
        "plt.ylim(0.5, 0.8)\n",
        " \n",
        "plt.show()"
      ],
      "metadata": {
        "colab": {
          "base_uri": "https://localhost:8080/",
          "height": 294
        },
        "id": "C0JQeQ6xcIS1",
        "outputId": "0a304319-3f52-45d7-ba6e-848eacff6a90"
      },
      "execution_count": 19,
      "outputs": [
        {
          "output_type": "display_data",
          "data": {
            "text/plain": [
              "<Figure size 432x288 with 1 Axes>"
            ],
            "image/png": "[encoded data removed]"
          },
          "metadata": {
            "needs_background": "light"
          }
        }
      ]
    },
    {
      "cell_type": "code",
      "source": [
        "serie_y = [RF_1[0], RF_2[0], RF_3[0], RF_4[0]]\n",
        "serie_x = ['CountVectorizer', 'StopWords', 'Lemmatization', 'Múltiples']\n",
        "plt.bar(serie_x, serie_y)\n",
        "plt.ylabel('Accuracy')\n",
        "plt.xlabel('Modelo')\n",
        "plt.title('Accuracy por modelo')\n",
        "plt.ylim(0.5, 0.8)\n",
        "plt.show()"
      ],
      "metadata": {
        "colab": {
          "base_uri": "https://localhost:8080/",
          "height": 296
        },
        "id": "61BAgkzZfxj6",
        "outputId": "ebee05e8-b9e5-4c93-9c48-9213821749b2"
      },
      "execution_count": 20,
      "outputs": [
        {
          "output_type": "display_data",
          "data": {
            "text/plain": [
              "<Figure size 432x288 with 1 Axes>"
            ],
            "image/png": "[encoded data removed]"
          },
          "metadata": {
            "needs_background": "light"
          }
        }
      ]
    },
    {
      "cell_type": "markdown",
      "source": [
        "**Conclusiones**\n",
        "- Al estar desbalanceados los datos, se tuvo que emplear una técnica para submuestrear la clase con más muestra para que no influyera en los resultados de las otras clases.\n",
        "- Al comparar los 4 modelos, el modelo con mejor accuracy fue en el que se hizo la **lemmatización** (0.71) y el que obtuvo más bajo desempeño fue en el que solo se eliminaron los **stopwords** (0.64).\n",
        "- Por otro lado, se observa que el modelo con lemmatización obtiene el mejor accuracy para la clase **negativa**. En cuanto a la clase **neutra**, los 4 modelos obtienen resultados similares y en la clase **positiva**, el mejor algoritmo es el que elimina las stopwords.\n",
        "- La principal ventaja que tiene el modelo con **lemmatización** es que permite encontrar el lema de las palabras a partir de su contexto dentro de la oración, por lo que le permite al algoritmo identificar de mejor manera el sentido de esta y por ende, logra un mejor desempeño.\n",
        "- La principal desventaja del modelo que elimina las **stopwords** es que puede que algunas de estas aporten información relevante para determinar el sentimiento de este, por lo que su desempeño fue menor."
      ],
      "metadata": {
        "id": "921WN3EmaZHG"
      }
    }
  ],
  "metadata": {
    "kernelspec": {
      "display_name": "Python 3",
      "language": "python",
      "name": "python3"
    },
    "language_info": {
      "codemirror_mode": {
        "name": "ipython",
        "version": 3
      },
      "file_extension": ".py",
      "mimetype": "text/x-python",
      "name": "python",
      "nbconvert_exporter": "python",
      "pygments_lexer": "ipython3",
      "version": "3.7.3"
    },
    "colab": {
      "name": "S5TC1_Analisis_Sentimientos.ipynb",
      "provenance": [],
      "collapsed_sections": [],
      "include_colab_link": true
    }
  },
  "nbformat": 4,
  "nbformat_minor": 0
}